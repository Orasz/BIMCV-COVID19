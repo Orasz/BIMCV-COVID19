{
  "nbformat": 4,
  "nbformat_minor": 0,
  "metadata": {
    "colab": {
      "name": "Untitled2.ipynb",
      "provenance": [],
      "authorship_tag": "ABX9TyPRfC1qHyKx2+Y8TpoKwjzQ",
      "include_colab_link": true
    },
    "kernelspec": {
      "name": "python3",
      "display_name": "Python 3"
    },
    "accelerator": "GPU"
  },
  "cells": [
    {
      "cell_type": "markdown",
      "metadata": {
        "id": "view-in-github",
        "colab_type": "text"
      },
      "source": [
        "<a href=\"https://colab.research.google.com/github/Orasz/CNN4COVID19/blob/main/scratchConfusionMatrixCG1.ipynb\" target=\"_parent\"><img src=\"https://colab.research.google.com/assets/colab-badge.svg\" alt=\"Open In Colab\"/></a>"
      ]
    },
    {
      "cell_type": "code",
      "metadata": {
        "colab": {
          "base_uri": "https://localhost:8080/"
        },
        "id": "ykovEOkLAwmY",
        "outputId": "0236e9ca-e2a9-422e-f74b-4a48f1ab8d5c"
      },
      "source": [
        "\r\n",
        "from google.colab import drive\r\n",
        "drive.mount('/content/gdrive', force_remount=True)\r\n",
        "\r\n"
      ],
      "execution_count": 1,
      "outputs": [
        {
          "output_type": "stream",
          "text": [
            "Mounted at /content/gdrive\n"
          ],
          "name": "stdout"
        }
      ]
    },
    {
      "cell_type": "code",
      "metadata": {
        "colab": {
          "base_uri": "https://localhost:8080/"
        },
        "id": "DbBMqMVRA5zH",
        "outputId": "033b2325-10f4-4993-c5a4-d255f28c8d42"
      },
      "source": [
        "\r\n",
        "\r\n",
        "from __future__ import print_function, division\r\n",
        "\r\n",
        "import torch\r\n",
        "import torch.nn as nn\r\n",
        "import torch.optim as optim\r\n",
        "from torch.optim import lr_scheduler\r\n",
        "import numpy as np\r\n",
        "import torchvision\r\n",
        "from torchvision import datasets, models, transforms\r\n",
        "import matplotlib.pyplot as plt\r\n",
        "import time\r\n",
        "import os\r\n",
        "import copy\r\n",
        "from torchsummary import summary\r\n",
        "\r\n",
        "plt.ion()   # interactive mode\r\n",
        "print(\"done\")\r\n",
        "\r\n"
      ],
      "execution_count": 2,
      "outputs": [
        {
          "output_type": "stream",
          "text": [
            "done\n"
          ],
          "name": "stdout"
        }
      ]
    },
    {
      "cell_type": "code",
      "metadata": {
        "colab": {
          "base_uri": "https://localhost:8080/"
        },
        "id": "vbotxk5LBJNw",
        "outputId": "e453e820-3375-490b-ecd5-fe2103911a7c"
      },
      "source": [
        "# Data augmentation and normalization for training\r\n",
        "# Just normalization for validation\r\n",
        "\r\n",
        "data_transforms_xray = {\r\n",
        "    'train': transforms.Compose([\r\n",
        "        transforms.Resize(256),\r\n",
        "        transforms.CenterCrop(256),\r\n",
        "        transforms.ToTensor(),\r\n",
        "        transforms.Normalize([0.485, 0.456, 0.406], [0.229, 0.224, 0.225])\r\n",
        "    ]),\r\n",
        "    'val': transforms.Compose([\r\n",
        "        transforms.Resize(256),\r\n",
        "        transforms.CenterCrop(256),\r\n",
        "        transforms.ToTensor(),\r\n",
        "        transforms.Normalize([0.485, 0.456, 0.406], [0.229, 0.224, 0.225])\r\n",
        "    ]),\r\n",
        "        'test': transforms.Compose([\r\n",
        "        transforms.Resize(256),\r\n",
        "        transforms.CenterCrop(256),\r\n",
        "        transforms.ToTensor(),\r\n",
        "        transforms.Normalize([0.485, 0.456, 0.406], [0.229, 0.224, 0.225])\r\n",
        "    ])\r\n",
        "}\r\n",
        "\r\n",
        "data_dir = 'gdrive/MyDrive/datasetQaTa/'\r\n",
        "image_datasets = {x: datasets.ImageFolder(os.path.join(data_dir, x),\r\n",
        "                                          data_transforms_xray[x])\r\n",
        "                  for x in ['train', 'val']}\r\n",
        "#aumenta batch size \r\n",
        "dataloaders = {x: torch.utils.data.DataLoader(image_datasets[x], batch_size=16,\r\n",
        "                                             shuffle=True, num_workers=4)\r\n",
        "              for x in ['train', 'val']}\r\n",
        "dataset_sizes = {x: len(image_datasets[x]) for x in ['train', 'val']}\r\n",
        "print(\"Dataset sizes: {}\".format(dataset_sizes))\r\n",
        "class_names = image_datasets['train'].classes\r\n",
        "\r\n",
        "device = torch.device(\"cuda:0\" if torch.cuda.is_available() else \"cpu\")\r\n",
        "print(\"using device: {}\".format(device))"
      ],
      "execution_count": 3,
      "outputs": [
        {
          "output_type": "stream",
          "text": [
            "Dataset sizes: {'train': 7375, 'val': 940}\n",
            "using device: cuda:0\n"
          ],
          "name": "stdout"
        }
      ]
    },
    {
      "cell_type": "code",
      "metadata": {
        "colab": {
          "base_uri": "https://localhost:8080/"
        },
        "id": "z-52PWHDBF4E",
        "outputId": "0240e389-c31f-4989-927e-89235f8bc0a2"
      },
      "source": [
        "class ScratchCNN(nn.Module):\r\n",
        "    def __init__(self):\r\n",
        "        super(ScratchCNN, self).__init__()\r\n",
        "        \r\n",
        "        self.model = nn.Sequential(\r\n",
        "            nn.Conv2d(3, 16, kernel_size=3),\r\n",
        "            nn.ReLU(),\r\n",
        "            nn.Conv2d(16, 16, kernel_size=3),\r\n",
        "            nn.ReLU(),\r\n",
        "            nn.MaxPool2d(2,2),\r\n",
        "\r\n",
        "            nn.Conv2d(16, 32, kernel_size=3),\r\n",
        "            nn.ReLU(),\r\n",
        "            nn.Conv2d(32, 32, kernel_size=3),\r\n",
        "            nn.ReLU(),\r\n",
        "            nn.MaxPool2d(2,2),\r\n",
        "\r\n",
        "            nn.Conv2d(32, 64, kernel_size=3),\r\n",
        "            nn.ReLU(),\r\n",
        "            nn.Conv2d(64, 64, kernel_size=3),\r\n",
        "            nn.ReLU(),\r\n",
        "            nn.MaxPool2d(2,2),\r\n",
        "\r\n",
        "            nn.Conv2d(64, 128, kernel_size=3),\r\n",
        "            nn.ReLU(),\r\n",
        "            nn.Conv2d(128, 128, kernel_size=3),\r\n",
        "            nn.ReLU(),\r\n",
        "            nn.MaxPool2d(2,2),\r\n",
        "\r\n",
        "            nn.Conv2d(128, 256, kernel_size=3),\r\n",
        "            nn.ReLU(),\r\n",
        "            nn.Conv2d(256, 256, kernel_size=3),\r\n",
        "            nn.ReLU(),\r\n",
        "            nn.MaxPool2d(2,2),\r\n",
        "\r\n",
        "        ).to(device)\r\n",
        "        \r\n",
        "        self.classifier = nn.Sequential(\r\n",
        "            nn.Flatten(),\r\n",
        "            nn.Dropout(0.25),\r\n",
        "            nn.Linear(4096, 256),\r\n",
        "            nn.ReLU(),\r\n",
        "            nn.Dropout(0.25),\r\n",
        "            nn.Linear(256, 2)\r\n",
        "        ).to(device)\r\n",
        "        \r\n",
        "    def forward(self, x):\r\n",
        "        x = self.model(x)\r\n",
        "        x = self.classifier(x)\r\n",
        "        return x\r\n",
        "\r\n",
        "\r\n",
        "model = ScratchCNN().to(device)\r\n",
        "summary(model, (3,256,256))"
      ],
      "execution_count": 4,
      "outputs": [
        {
          "output_type": "stream",
          "text": [
            "----------------------------------------------------------------\n",
            "        Layer (type)               Output Shape         Param #\n",
            "================================================================\n",
            "            Conv2d-1         [-1, 16, 254, 254]             448\n",
            "              ReLU-2         [-1, 16, 254, 254]               0\n",
            "            Conv2d-3         [-1, 16, 252, 252]           2,320\n",
            "              ReLU-4         [-1, 16, 252, 252]               0\n",
            "         MaxPool2d-5         [-1, 16, 126, 126]               0\n",
            "            Conv2d-6         [-1, 32, 124, 124]           4,640\n",
            "              ReLU-7         [-1, 32, 124, 124]               0\n",
            "            Conv2d-8         [-1, 32, 122, 122]           9,248\n",
            "              ReLU-9         [-1, 32, 122, 122]               0\n",
            "        MaxPool2d-10           [-1, 32, 61, 61]               0\n",
            "           Conv2d-11           [-1, 64, 59, 59]          18,496\n",
            "             ReLU-12           [-1, 64, 59, 59]               0\n",
            "           Conv2d-13           [-1, 64, 57, 57]          36,928\n",
            "             ReLU-14           [-1, 64, 57, 57]               0\n",
            "        MaxPool2d-15           [-1, 64, 28, 28]               0\n",
            "           Conv2d-16          [-1, 128, 26, 26]          73,856\n",
            "             ReLU-17          [-1, 128, 26, 26]               0\n",
            "           Conv2d-18          [-1, 128, 24, 24]         147,584\n",
            "             ReLU-19          [-1, 128, 24, 24]               0\n",
            "        MaxPool2d-20          [-1, 128, 12, 12]               0\n",
            "           Conv2d-21          [-1, 256, 10, 10]         295,168\n",
            "             ReLU-22          [-1, 256, 10, 10]               0\n",
            "           Conv2d-23            [-1, 256, 8, 8]         590,080\n",
            "             ReLU-24            [-1, 256, 8, 8]               0\n",
            "        MaxPool2d-25            [-1, 256, 4, 4]               0\n",
            "          Flatten-26                 [-1, 4096]               0\n",
            "          Dropout-27                 [-1, 4096]               0\n",
            "           Linear-28                  [-1, 256]       1,048,832\n",
            "             ReLU-29                  [-1, 256]               0\n",
            "          Dropout-30                  [-1, 256]               0\n",
            "           Linear-31                    [-1, 2]             514\n",
            "================================================================\n",
            "Total params: 2,228,114\n",
            "Trainable params: 2,228,114\n",
            "Non-trainable params: 0\n",
            "----------------------------------------------------------------\n",
            "Input size (MB): 0.75\n",
            "Forward/backward pass size (MB): 59.16\n",
            "Params size (MB): 8.50\n",
            "Estimated Total Size (MB): 68.41\n",
            "----------------------------------------------------------------\n"
          ],
          "name": "stdout"
        }
      ]
    },
    {
      "cell_type": "code",
      "metadata": {
        "id": "0Nh8iBF8CdcY"
      },
      "source": [
        "lr = 0.00001\r\n",
        "model = ScratchCNN().to(device)\r\n",
        "\r\n",
        "optimizer = torch.optim.Adam(model.parameters(), lr=lr)\r\n",
        "criterion = nn.CrossEntropyLoss()"
      ],
      "execution_count": 5,
      "outputs": []
    },
    {
      "cell_type": "code",
      "metadata": {
        "id": "BnaV0o3VCqcV"
      },
      "source": [
        "def Train(model, epoch, print_every=len(dataloaders['train'])):\r\n",
        "    total_loss = 0\r\n",
        "    start_time = time.time()\r\n",
        "    \r\n",
        "    accuracy = []\r\n",
        "    \r\n",
        "    for i, batch in enumerate(dataloaders['train'], 1):\r\n",
        "        minput = batch[0].to(device) # Get batch of images from our train dataloader\r\n",
        "        target = batch[1].to(device) # Get the corresponding target(0, 1 or 2) representing cats, dogs or pandas\r\n",
        "        \r\n",
        "        moutput = model(minput) # output by our model\r\n",
        "        \r\n",
        "        loss = criterion(moutput, target) # compute cross entropy loss\r\n",
        "        total_loss += loss.item()\r\n",
        "\r\n",
        "        optimizer.zero_grad() # Clear the gradients if exists. (Gradients are used for back-propogation.)\r\n",
        "        loss.backward() # Back propogate the losses\r\n",
        "        optimizer.step() # Update Model parameters\r\n",
        "        \r\n",
        "        argmax = moutput.argmax(dim=1) # Get the class index with maximum probability predicted by the model\r\n",
        "        accuracy.append((target==argmax).sum().item() / target.shape[0]) # calculate accuracy by comparing to target tensor\r\n",
        "\r\n",
        "        if i%print_every == 0:\r\n",
        "            print('Epoch: [{}]/({}/{}), Train Loss: {:.4f}, Accuracy: {:.2f}, Time: {:.2f} sec'.format(\r\n",
        "                epoch, i, len(dataloaders['train']), loss.item(), sum(accuracy)/len(accuracy), time.time()-start_time \r\n",
        "            ))\r\n",
        "    \r\n",
        "    return total_loss / len(dataloaders['train']) # Returning Average Training Loss"
      ],
      "execution_count": 6,
      "outputs": []
    },
    {
      "cell_type": "code",
      "metadata": {
        "id": "PKaLxh_4DKOh"
      },
      "source": [
        "image_datasets = {x: datasets.ImageFolder(os.path.join(data_dir, x),\r\n",
        "                                          data_transforms_xray[x])\r\n",
        "                  for x in ['train', 'val', 'test']}\r\n",
        "dataloaders = {x: torch.utils.data.DataLoader(image_datasets[x], batch_size=16,\r\n",
        "                                             shuffle=True, num_workers=4)\r\n",
        "              for x in ['train', 'val','test']}\r\n",
        "dataset_sizes = {x: len(image_datasets[x]) for x in ['train', 'val','test']}"
      ],
      "execution_count": 7,
      "outputs": []
    },
    {
      "cell_type": "code",
      "metadata": {
        "id": "Hikcw_TcZRah"
      },
      "source": [
        "def Test(model,epoch):\r\n",
        "    total_loss = 0\r\n",
        "    start_time = time.time()\r\n",
        "\r\n",
        "    accuracy = []\r\n",
        "    \r\n",
        "    with torch.no_grad(): # disable calculations of gradients for all pytorch operations inside the block\r\n",
        "        for i, batch in enumerate(dataloaders['test']):\r\n",
        "            minput = batch[0].to(device) # Get batch of images from our test dataloader\r\n",
        "            target = batch[1].to(device) # Get the corresponding target(0, 1 or 2) representing cats, dogs or pandas\r\n",
        "            moutput = model(minput) # output by our model\r\n",
        "\r\n",
        "            loss = criterion(moutput, target) # compute cross entropy loss\r\n",
        "            total_loss += loss.item()\r\n",
        "            \r\n",
        "            \r\n",
        "            # To get the probabilities for different classes we need to apply a softmax operation on moutput \r\n",
        "            argmax = moutput.argmax(dim=1) # Find the index(0, 1 or 2) with maximum score (which denotes class with maximum probability)\r\n",
        "            accuracy.append((target==argmax).sum().item() / target.shape[0]) # Find the accuracy of the batch by comparing it with actual targets\r\n",
        "            \r\n",
        "    print('Epoch: [{}], Test Loss: {:.4f}, Accuracy: {:.2f}, Time: {:.2f} sec'.format(\r\n",
        "        epoch, total_loss/len(dataloaders['test']), sum(accuracy)/len(accuracy), time.time()-start_time\r\n",
        "    ))\r\n",
        "    return total_loss/len(dataloaders['test']) # Returning Average Testing Loss"
      ],
      "execution_count": 8,
      "outputs": []
    },
    {
      "cell_type": "code",
      "metadata": {
        "colab": {
          "base_uri": "https://localhost:8080/"
        },
        "id": "MM9AqOR0Dyc0",
        "outputId": "70ae77fd-e227-4262-ddf3-38f8c8859fe7"
      },
      "source": [
        "\r\n",
        "Test(model,0)\r\n",
        "\r\n",
        "train_loss = []\r\n",
        "test_loss = []\r\n",
        "\r\n",
        "for epoch in range(1, 51):\r\n",
        "    train_loss.append(Train(model,epoch,200))\r\n",
        "    test_loss.append(Test(model,epoch))\r\n",
        "\r\n",
        "    print('\\n')\r\n",
        "\r\n",
        "\r\n"
      ],
      "execution_count": 9,
      "outputs": [
        {
          "output_type": "stream",
          "text": [
            "Epoch: [0], Test Loss: 0.6932, Accuracy: 0.50, Time: 115.07 sec\n",
            "Epoch: [1]/(200/461), Train Loss: 0.6935, Accuracy: 0.50, Time: 372.20 sec\n",
            "Epoch: [1]/(400/461), Train Loss: 0.6938, Accuracy: 0.51, Time: 720.67 sec\n",
            "Epoch: [1], Test Loss: 0.6923, Accuracy: 0.50, Time: 4.47 sec\n",
            "\n",
            "\n",
            "Epoch: [2]/(200/461), Train Loss: 0.4892, Accuracy: 0.64, Time: 16.92 sec\n",
            "Epoch: [2]/(400/461), Train Loss: 0.6324, Accuracy: 0.68, Time: 32.97 sec\n",
            "Epoch: [2], Test Loss: 0.5178, Accuracy: 0.71, Time: 4.49 sec\n",
            "\n",
            "\n",
            "Epoch: [3]/(200/461), Train Loss: 0.5086, Accuracy: 0.74, Time: 16.37 sec\n",
            "Epoch: [3]/(400/461), Train Loss: 0.4451, Accuracy: 0.75, Time: 32.87 sec\n",
            "Epoch: [3], Test Loss: 0.4884, Accuracy: 0.73, Time: 4.43 sec\n",
            "\n",
            "\n",
            "Epoch: [4]/(200/461), Train Loss: 0.3836, Accuracy: 0.77, Time: 16.71 sec\n",
            "Epoch: [4]/(400/461), Train Loss: 0.4504, Accuracy: 0.77, Time: 32.95 sec\n",
            "Epoch: [4], Test Loss: 0.4484, Accuracy: 0.77, Time: 4.53 sec\n",
            "\n",
            "\n",
            "Epoch: [5]/(200/461), Train Loss: 0.7639, Accuracy: 0.79, Time: 16.83 sec\n",
            "Epoch: [5]/(400/461), Train Loss: 0.6114, Accuracy: 0.79, Time: 32.89 sec\n",
            "Epoch: [5], Test Loss: 0.4226, Accuracy: 0.79, Time: 4.44 sec\n",
            "\n",
            "\n",
            "Epoch: [6]/(200/461), Train Loss: 0.4497, Accuracy: 0.82, Time: 16.77 sec\n",
            "Epoch: [6]/(400/461), Train Loss: 0.4290, Accuracy: 0.81, Time: 33.30 sec\n",
            "Epoch: [6], Test Loss: 0.3928, Accuracy: 0.82, Time: 4.43 sec\n",
            "\n",
            "\n",
            "Epoch: [7]/(200/461), Train Loss: 0.5109, Accuracy: 0.81, Time: 16.66 sec\n",
            "Epoch: [7]/(400/461), Train Loss: 0.5043, Accuracy: 0.81, Time: 33.02 sec\n",
            "Epoch: [7], Test Loss: 0.3885, Accuracy: 0.81, Time: 4.50 sec\n",
            "\n",
            "\n",
            "Epoch: [8]/(200/461), Train Loss: 0.2781, Accuracy: 0.82, Time: 16.88 sec\n",
            "Epoch: [8]/(400/461), Train Loss: 0.2190, Accuracy: 0.82, Time: 33.05 sec\n",
            "Epoch: [8], Test Loss: 0.3807, Accuracy: 0.83, Time: 4.45 sec\n",
            "\n",
            "\n",
            "Epoch: [9]/(200/461), Train Loss: 0.3745, Accuracy: 0.83, Time: 16.64 sec\n",
            "Epoch: [9]/(400/461), Train Loss: 0.4422, Accuracy: 0.84, Time: 33.07 sec\n",
            "Epoch: [9], Test Loss: 0.3559, Accuracy: 0.85, Time: 4.46 sec\n",
            "\n",
            "\n",
            "Epoch: [10]/(200/461), Train Loss: 0.2491, Accuracy: 0.85, Time: 16.46 sec\n",
            "Epoch: [10]/(400/461), Train Loss: 0.5090, Accuracy: 0.84, Time: 33.53 sec\n",
            "Epoch: [10], Test Loss: 0.3344, Accuracy: 0.86, Time: 4.78 sec\n",
            "\n",
            "\n",
            "Epoch: [11]/(200/461), Train Loss: 0.4946, Accuracy: 0.85, Time: 16.97 sec\n",
            "Epoch: [11]/(400/461), Train Loss: 0.2751, Accuracy: 0.85, Time: 34.39 sec\n",
            "Epoch: [11], Test Loss: 0.3055, Accuracy: 0.87, Time: 4.59 sec\n",
            "\n",
            "\n",
            "Epoch: [12]/(200/461), Train Loss: 0.1486, Accuracy: 0.85, Time: 17.35 sec\n",
            "Epoch: [12]/(400/461), Train Loss: 0.2295, Accuracy: 0.85, Time: 33.97 sec\n",
            "Epoch: [12], Test Loss: 0.3033, Accuracy: 0.87, Time: 4.49 sec\n",
            "\n",
            "\n",
            "Epoch: [13]/(200/461), Train Loss: 0.6862, Accuracy: 0.86, Time: 17.24 sec\n",
            "Epoch: [13]/(400/461), Train Loss: 0.1703, Accuracy: 0.86, Time: 34.19 sec\n",
            "Epoch: [13], Test Loss: 0.2914, Accuracy: 0.88, Time: 4.49 sec\n",
            "\n",
            "\n",
            "Epoch: [14]/(200/461), Train Loss: 0.6718, Accuracy: 0.86, Time: 16.90 sec\n",
            "Epoch: [14]/(400/461), Train Loss: 0.4033, Accuracy: 0.86, Time: 33.74 sec\n",
            "Epoch: [14], Test Loss: 0.2895, Accuracy: 0.89, Time: 4.55 sec\n",
            "\n",
            "\n",
            "Epoch: [15]/(200/461), Train Loss: 0.2168, Accuracy: 0.87, Time: 16.60 sec\n",
            "Epoch: [15]/(400/461), Train Loss: 0.1448, Accuracy: 0.86, Time: 33.56 sec\n",
            "Epoch: [15], Test Loss: 0.2900, Accuracy: 0.89, Time: 4.51 sec\n",
            "\n",
            "\n",
            "Epoch: [16]/(200/461), Train Loss: 0.4742, Accuracy: 0.88, Time: 16.72 sec\n",
            "Epoch: [16]/(400/461), Train Loss: 0.4592, Accuracy: 0.87, Time: 33.36 sec\n",
            "Epoch: [16], Test Loss: 0.2620, Accuracy: 0.90, Time: 4.48 sec\n",
            "\n",
            "\n",
            "Epoch: [17]/(200/461), Train Loss: 0.3063, Accuracy: 0.87, Time: 17.07 sec\n",
            "Epoch: [17]/(400/461), Train Loss: 0.3731, Accuracy: 0.88, Time: 33.58 sec\n",
            "Epoch: [17], Test Loss: 0.2828, Accuracy: 0.87, Time: 4.55 sec\n",
            "\n",
            "\n",
            "Epoch: [18]/(200/461), Train Loss: 0.1661, Accuracy: 0.88, Time: 17.36 sec\n",
            "Epoch: [18]/(400/461), Train Loss: 0.4581, Accuracy: 0.88, Time: 34.11 sec\n",
            "Epoch: [18], Test Loss: 0.2548, Accuracy: 0.90, Time: 4.62 sec\n",
            "\n",
            "\n",
            "Epoch: [19]/(200/461), Train Loss: 0.2588, Accuracy: 0.88, Time: 16.94 sec\n",
            "Epoch: [19]/(400/461), Train Loss: 0.1717, Accuracy: 0.88, Time: 33.74 sec\n",
            "Epoch: [19], Test Loss: 0.2697, Accuracy: 0.89, Time: 4.50 sec\n",
            "\n",
            "\n",
            "Epoch: [20]/(200/461), Train Loss: 0.4373, Accuracy: 0.89, Time: 17.16 sec\n",
            "Epoch: [20]/(400/461), Train Loss: 0.5900, Accuracy: 0.89, Time: 33.91 sec\n",
            "Epoch: [20], Test Loss: 0.2386, Accuracy: 0.91, Time: 4.69 sec\n",
            "\n",
            "\n",
            "Epoch: [21]/(200/461), Train Loss: 0.2444, Accuracy: 0.89, Time: 17.00 sec\n",
            "Epoch: [21]/(400/461), Train Loss: 0.1706, Accuracy: 0.89, Time: 33.68 sec\n",
            "Epoch: [21], Test Loss: 0.2729, Accuracy: 0.88, Time: 4.57 sec\n",
            "\n",
            "\n",
            "Epoch: [22]/(200/461), Train Loss: 0.2454, Accuracy: 0.89, Time: 17.20 sec\n",
            "Epoch: [22]/(400/461), Train Loss: 0.2154, Accuracy: 0.90, Time: 33.97 sec\n",
            "Epoch: [22], Test Loss: 0.2507, Accuracy: 0.89, Time: 4.58 sec\n",
            "\n",
            "\n",
            "Epoch: [23]/(200/461), Train Loss: 0.1192, Accuracy: 0.89, Time: 16.98 sec\n",
            "Epoch: [23]/(400/461), Train Loss: 0.3917, Accuracy: 0.89, Time: 33.61 sec\n",
            "Epoch: [23], Test Loss: 0.2283, Accuracy: 0.90, Time: 4.53 sec\n",
            "\n",
            "\n",
            "Epoch: [24]/(200/461), Train Loss: 0.2948, Accuracy: 0.90, Time: 17.05 sec\n",
            "Epoch: [24]/(400/461), Train Loss: 0.2751, Accuracy: 0.90, Time: 33.46 sec\n",
            "Epoch: [24], Test Loss: 0.2647, Accuracy: 0.88, Time: 4.54 sec\n",
            "\n",
            "\n",
            "Epoch: [25]/(200/461), Train Loss: 0.2165, Accuracy: 0.90, Time: 16.80 sec\n",
            "Epoch: [25]/(400/461), Train Loss: 0.2686, Accuracy: 0.90, Time: 33.26 sec\n",
            "Epoch: [25], Test Loss: 0.2502, Accuracy: 0.90, Time: 4.47 sec\n",
            "\n",
            "\n",
            "Epoch: [26]/(200/461), Train Loss: 0.1265, Accuracy: 0.90, Time: 16.76 sec\n",
            "Epoch: [26]/(400/461), Train Loss: 0.1430, Accuracy: 0.90, Time: 33.54 sec\n",
            "Epoch: [26], Test Loss: 0.2399, Accuracy: 0.90, Time: 4.47 sec\n",
            "\n",
            "\n",
            "Epoch: [27]/(200/461), Train Loss: 0.0874, Accuracy: 0.91, Time: 16.93 sec\n",
            "Epoch: [27]/(400/461), Train Loss: 0.2721, Accuracy: 0.90, Time: 33.33 sec\n",
            "Epoch: [27], Test Loss: 0.2281, Accuracy: 0.90, Time: 4.65 sec\n",
            "\n",
            "\n",
            "Epoch: [28]/(200/461), Train Loss: 0.4723, Accuracy: 0.90, Time: 17.30 sec\n",
            "Epoch: [28]/(400/461), Train Loss: 0.2343, Accuracy: 0.91, Time: 34.24 sec\n",
            "Epoch: [28], Test Loss: 0.2055, Accuracy: 0.92, Time: 4.60 sec\n",
            "\n",
            "\n",
            "Epoch: [29]/(200/461), Train Loss: 0.3072, Accuracy: 0.90, Time: 17.10 sec\n",
            "Epoch: [29]/(400/461), Train Loss: 0.2655, Accuracy: 0.91, Time: 33.71 sec\n",
            "Epoch: [29], Test Loss: 0.2156, Accuracy: 0.92, Time: 4.44 sec\n",
            "\n",
            "\n",
            "Epoch: [30]/(200/461), Train Loss: 0.2333, Accuracy: 0.91, Time: 17.00 sec\n",
            "Epoch: [30]/(400/461), Train Loss: 0.1656, Accuracy: 0.91, Time: 33.41 sec\n",
            "Epoch: [30], Test Loss: 0.2134, Accuracy: 0.92, Time: 4.48 sec\n",
            "\n",
            "\n",
            "Epoch: [31]/(200/461), Train Loss: 0.0774, Accuracy: 0.90, Time: 17.03 sec\n",
            "Epoch: [31]/(400/461), Train Loss: 0.0865, Accuracy: 0.91, Time: 33.53 sec\n",
            "Epoch: [31], Test Loss: 0.2129, Accuracy: 0.91, Time: 4.49 sec\n",
            "\n",
            "\n",
            "Epoch: [32]/(200/461), Train Loss: 0.1922, Accuracy: 0.92, Time: 16.72 sec\n",
            "Epoch: [32]/(400/461), Train Loss: 0.3286, Accuracy: 0.91, Time: 33.63 sec\n",
            "Epoch: [32], Test Loss: 0.2199, Accuracy: 0.92, Time: 4.52 sec\n",
            "\n",
            "\n",
            "Epoch: [33]/(200/461), Train Loss: 0.1303, Accuracy: 0.92, Time: 17.15 sec\n",
            "Epoch: [33]/(400/461), Train Loss: 0.2012, Accuracy: 0.92, Time: 33.45 sec\n",
            "Epoch: [33], Test Loss: 0.2008, Accuracy: 0.92, Time: 4.53 sec\n",
            "\n",
            "\n",
            "Epoch: [34]/(200/461), Train Loss: 0.4273, Accuracy: 0.92, Time: 16.93 sec\n",
            "Epoch: [34]/(400/461), Train Loss: 0.1138, Accuracy: 0.92, Time: 33.67 sec\n",
            "Epoch: [34], Test Loss: 0.2048, Accuracy: 0.92, Time: 4.62 sec\n",
            "\n",
            "\n",
            "Epoch: [35]/(200/461), Train Loss: 0.5179, Accuracy: 0.91, Time: 17.33 sec\n",
            "Epoch: [35]/(400/461), Train Loss: 0.0687, Accuracy: 0.92, Time: 34.17 sec\n",
            "Epoch: [35], Test Loss: 0.1992, Accuracy: 0.92, Time: 4.72 sec\n",
            "\n",
            "\n",
            "Epoch: [36]/(200/461), Train Loss: 0.2989, Accuracy: 0.92, Time: 17.62 sec\n",
            "Epoch: [36]/(400/461), Train Loss: 0.1231, Accuracy: 0.92, Time: 34.60 sec\n",
            "Epoch: [36], Test Loss: 0.1849, Accuracy: 0.93, Time: 4.58 sec\n",
            "\n",
            "\n",
            "Epoch: [37]/(200/461), Train Loss: 0.6005, Accuracy: 0.92, Time: 16.99 sec\n",
            "Epoch: [37]/(400/461), Train Loss: 0.2577, Accuracy: 0.92, Time: 33.98 sec\n",
            "Epoch: [37], Test Loss: 0.1958, Accuracy: 0.92, Time: 4.66 sec\n",
            "\n",
            "\n",
            "Epoch: [38]/(200/461), Train Loss: 0.2704, Accuracy: 0.92, Time: 17.23 sec\n",
            "Epoch: [38]/(400/461), Train Loss: 0.4132, Accuracy: 0.92, Time: 34.00 sec\n",
            "Epoch: [38], Test Loss: 0.1930, Accuracy: 0.92, Time: 4.56 sec\n",
            "\n",
            "\n",
            "Epoch: [39]/(200/461), Train Loss: 0.0994, Accuracy: 0.92, Time: 16.94 sec\n",
            "Epoch: [39]/(400/461), Train Loss: 0.1429, Accuracy: 0.92, Time: 33.63 sec\n",
            "Epoch: [39], Test Loss: 0.1900, Accuracy: 0.93, Time: 4.59 sec\n",
            "\n",
            "\n",
            "Epoch: [40]/(200/461), Train Loss: 0.3881, Accuracy: 0.92, Time: 17.56 sec\n",
            "Epoch: [40]/(400/461), Train Loss: 0.1395, Accuracy: 0.92, Time: 33.84 sec\n",
            "Epoch: [40], Test Loss: 0.1889, Accuracy: 0.94, Time: 4.59 sec\n",
            "\n",
            "\n",
            "Epoch: [41]/(200/461), Train Loss: 0.1051, Accuracy: 0.93, Time: 16.70 sec\n",
            "Epoch: [41]/(400/461), Train Loss: 0.2850, Accuracy: 0.93, Time: 33.36 sec\n",
            "Epoch: [41], Test Loss: 0.1894, Accuracy: 0.92, Time: 4.58 sec\n",
            "\n",
            "\n",
            "Epoch: [42]/(200/461), Train Loss: 0.0484, Accuracy: 0.93, Time: 17.22 sec\n",
            "Epoch: [42]/(400/461), Train Loss: 0.2516, Accuracy: 0.93, Time: 34.26 sec\n",
            "Epoch: [42], Test Loss: 0.1652, Accuracy: 0.94, Time: 4.53 sec\n",
            "\n",
            "\n",
            "Epoch: [43]/(200/461), Train Loss: 0.0512, Accuracy: 0.94, Time: 16.90 sec\n",
            "Epoch: [43]/(400/461), Train Loss: 0.2708, Accuracy: 0.93, Time: 33.69 sec\n",
            "Epoch: [43], Test Loss: 0.1771, Accuracy: 0.93, Time: 4.56 sec\n",
            "\n",
            "\n",
            "Epoch: [44]/(200/461), Train Loss: 0.1651, Accuracy: 0.93, Time: 16.87 sec\n",
            "Epoch: [44]/(400/461), Train Loss: 0.1010, Accuracy: 0.93, Time: 33.75 sec\n",
            "Epoch: [44], Test Loss: 0.1871, Accuracy: 0.93, Time: 4.58 sec\n",
            "\n",
            "\n",
            "Epoch: [45]/(200/461), Train Loss: 0.0549, Accuracy: 0.93, Time: 16.97 sec\n",
            "Epoch: [45]/(400/461), Train Loss: 0.2981, Accuracy: 0.93, Time: 33.69 sec\n",
            "Epoch: [45], Test Loss: 0.1933, Accuracy: 0.93, Time: 4.54 sec\n",
            "\n",
            "\n",
            "Epoch: [46]/(200/461), Train Loss: 0.1073, Accuracy: 0.94, Time: 16.88 sec\n",
            "Epoch: [46]/(400/461), Train Loss: 0.1530, Accuracy: 0.94, Time: 33.51 sec\n",
            "Epoch: [46], Test Loss: 0.1736, Accuracy: 0.93, Time: 4.55 sec\n",
            "\n",
            "\n",
            "Epoch: [47]/(200/461), Train Loss: 0.1378, Accuracy: 0.93, Time: 17.37 sec\n",
            "Epoch: [47]/(400/461), Train Loss: 0.0372, Accuracy: 0.93, Time: 33.80 sec\n",
            "Epoch: [47], Test Loss: 0.1994, Accuracy: 0.92, Time: 4.52 sec\n",
            "\n",
            "\n",
            "Epoch: [48]/(200/461), Train Loss: 0.0571, Accuracy: 0.95, Time: 16.98 sec\n",
            "Epoch: [48]/(400/461), Train Loss: 0.0639, Accuracy: 0.94, Time: 33.43 sec\n",
            "Epoch: [48], Test Loss: 0.1809, Accuracy: 0.93, Time: 4.52 sec\n",
            "\n",
            "\n",
            "Epoch: [49]/(200/461), Train Loss: 0.0829, Accuracy: 0.94, Time: 17.11 sec\n",
            "Epoch: [49]/(400/461), Train Loss: 0.0416, Accuracy: 0.94, Time: 34.03 sec\n",
            "Epoch: [49], Test Loss: 0.1868, Accuracy: 0.93, Time: 4.53 sec\n",
            "\n",
            "\n",
            "Epoch: [50]/(200/461), Train Loss: 0.0318, Accuracy: 0.95, Time: 17.00 sec\n",
            "Epoch: [50]/(400/461), Train Loss: 0.2786, Accuracy: 0.94, Time: 33.60 sec\n",
            "Epoch: [50], Test Loss: 0.1806, Accuracy: 0.93, Time: 4.54 sec\n",
            "\n",
            "\n"
          ],
          "name": "stdout"
        }
      ]
    },
    {
      "cell_type": "code",
      "metadata": {
        "id": "-SUk4UFwxD1C"
      },
      "source": [
        "\r\n",
        "def printcm(model):\r\n",
        "  confusion_matrixx = torch.zeros(2, 2)\r\n",
        "  with torch.no_grad():\r\n",
        "    for i, (inputs, classes) in enumerate(dataloaders['test']):\r\n",
        "        inputs = inputs.to(device)\r\n",
        "        classes = classes.to(device)\r\n",
        "        outputs = model(inputs)\r\n",
        "        _, preds = torch.max(outputs, 1)\r\n",
        "        for t, p in zip(classes.view(-1), preds.view(-1)):\r\n",
        "                confusion_matrixx[t.long(), p.long()] += 1\r\n",
        "\r\n",
        "  print(confusion_matrixx)\r\n",
        "  return confusion_matrixx\r\n",
        "\r\n"
      ],
      "execution_count": 13,
      "outputs": []
    },
    {
      "cell_type": "code",
      "metadata": {
        "id": "4U5DdAvhxIjm",
        "outputId": "a01a096f-b667-418b-a2ec-c6b25f9df2f8",
        "colab": {
          "base_uri": "https://localhost:8080/"
        }
      },
      "source": [
        "cm = printcm(model)"
      ],
      "execution_count": 14,
      "outputs": [
        {
          "output_type": "stream",
          "text": [
            "tensor([[417.,  39.],\n",
            "        [ 25., 431.]])\n"
          ],
          "name": "stdout"
        }
      ]
    },
    {
      "cell_type": "code",
      "metadata": {
        "id": "YgCyqx84xVTd"
      },
      "source": [
        "import itertools\r\n",
        "import numpy as np\r\n",
        "import matplotlib.pyplot as plt\r\n",
        "\r\n",
        "def plot_confusion_matrix(cm, classes, normalize=False, title='Confusion matrix', cmap=plt.cm.Blues):\r\n",
        "    if normalize:\r\n",
        "        cm = cm.astype('float') / cm.sum(axis=1)[:, np.newaxis]\r\n",
        "        print(\"Normalized confusion matrix\")\r\n",
        "    else:\r\n",
        "        print('Confusion matrix, without normalization')\r\n",
        "\r\n",
        "    print(cm)\r\n",
        "    plt.imshow(cm, interpolation='nearest', cmap=cmap)\r\n",
        "    plt.title(title)\r\n",
        "    plt.colorbar()\r\n",
        "    tick_marks = np.arange(len(classes))\r\n",
        "    plt.xticks(tick_marks, classes, rotation=45)\r\n",
        "    plt.yticks(tick_marks, classes)\r\n",
        "\r\n",
        "    fmt = '.2f'\r\n",
        "    thresh = cm.max() / 2.\r\n",
        "    for i, j in itertools.product(range(cm.shape[0]), range(cm.shape[1])):\r\n",
        "        plt.text(j, i, format(cm[i, j], fmt), horizontalalignment=\"center\", color=\"white\" if cm[i, j] > thresh else \"black\")\r\n",
        "\r\n",
        "    plt.tight_layout()\r\n",
        "    plt.ylabel('True label')\r\n",
        "    plt.xlabel('Predicted label')"
      ],
      "execution_count": 15,
      "outputs": []
    },
    {
      "cell_type": "code",
      "metadata": {
        "id": "lUE_98hbxXZN",
        "outputId": "09f20c78-8d1e-462e-b0a8-da438c5a03ac",
        "colab": {
          "base_uri": "https://localhost:8080/",
          "height": 641
        }
      },
      "source": [
        "plt.figure(figsize=(8,8))\r\n",
        "plot_confusion_matrix(cm,image_datasets['test'].classes)"
      ],
      "execution_count": 16,
      "outputs": [
        {
          "output_type": "stream",
          "text": [
            "Confusion matrix, without normalization\n",
            "tensor([[417.,  39.],\n",
            "        [ 25., 431.]])\n"
          ],
          "name": "stdout"
        },
        {
          "output_type": "display_data",
          "data": {
            "image/png": "[encoded data removed]",
            "text/plain": [
              "<Figure size 576x576 with 2 Axes>"
            ]
          },
          "metadata": {
            "tags": [],
            "needs_background": "light"
          }
        }
      ]
    }
  ]
}