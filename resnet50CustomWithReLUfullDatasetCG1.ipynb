{
  "nbformat": 4,
  "nbformat_minor": 0,
  "metadata": {
    "colab": {
      "name": "TransferLearningTutorial",
      "provenance": [],
      "include_colab_link": true
    },
    "kernelspec": {
      "name": "python3",
      "display_name": "Python 3"
    },
    "accelerator": "GPU"
  },
  "cells": [
    {
      "cell_type": "markdown",
      "metadata": {
        "id": "view-in-github",
        "colab_type": "text"
      },
      "source": [
        "<a href=\"https://colab.research.google.com/github/Orasz/BIMCV-COVID19/blob/main/resnet50CustomWithReLUfullDatasetCG1.ipynb\" target=\"_parent\"><img src=\"https://colab.research.google.com/assets/colab-badge.svg\" alt=\"Open In Colab\"/></a>"
      ]
    },
    {
      "cell_type": "markdown",
      "metadata": {
        "id": "Y5hCYn_pEoMX"
      },
      "source": [
        "example of Transfer Learning using QaTa-COV19 dataset."
      ]
    },
    {
      "cell_type": "code",
      "metadata": {
        "colab": {
          "base_uri": "https://localhost:8080/"
        },
        "id": "0E5MnR02HH3x",
        "outputId": "25f3019a-879f-4c1c-825f-c6ae0107114f"
      },
      "source": [
        "from google.colab import drive\r\n",
        "drive.mount('/content/gdrive', force_remount=True)\r\n"
      ],
      "execution_count": 11,
      "outputs": [
        {
          "output_type": "stream",
          "text": [
            "Mounted at /content/gdrive\n"
          ],
          "name": "stdout"
        }
      ]
    },
    {
      "cell_type": "code",
      "metadata": {
        "id": "PvVEnw9KtLLV",
        "colab": {
          "base_uri": "https://localhost:8080/"
        },
        "outputId": "bc973b01-4fb7-4ccc-926b-8cddc94d1e59"
      },
      "source": [
        "from __future__ import print_function, division\r\n",
        "\r\n",
        "import torch\r\n",
        "import torch.nn as nn\r\n",
        "import torch.optim as optim\r\n",
        "from torch.optim import lr_scheduler\r\n",
        "import numpy as np\r\n",
        "import torchvision\r\n",
        "from torchvision import datasets, models, transforms\r\n",
        "import matplotlib.pyplot as plt\r\n",
        "import time\r\n",
        "import os\r\n",
        "import copy\r\n",
        "\r\n",
        "plt.ion()   # interactive mode\r\n",
        "print(\"done\")"
      ],
      "execution_count": 12,
      "outputs": [
        {
          "output_type": "stream",
          "text": [
            "done\n"
          ],
          "name": "stdout"
        }
      ]
    },
    {
      "cell_type": "code",
      "metadata": {
        "id": "ELnF4WInFS7g",
        "colab": {
          "base_uri": "https://localhost:8080/"
        },
        "outputId": "dc0e961a-ea48-429e-d97d-5438cb41c779"
      },
      "source": [
        "# Data augmentation and normalization for training\n",
        "# Just normalization for validation\n",
        "\n",
        "data_transforms_xray = {\n",
        "    'train': transforms.Compose([\n",
        "        transforms.Resize(256),\n",
        "        transforms.CenterCrop(224),\n",
        "        transforms.ToTensor(),\n",
        "        transforms.Normalize([0.485, 0.456, 0.406], [0.229, 0.224, 0.225])\n",
        "    ]),\n",
        "    'val': transforms.Compose([\n",
        "        transforms.Resize(256),\n",
        "        transforms.CenterCrop(224),\n",
        "        transforms.ToTensor(),\n",
        "        transforms.Normalize([0.485, 0.456, 0.406], [0.229, 0.224, 0.225])\n",
        "    ]),\n",
        "}\n",
        "\n",
        "data_dir = 'gdrive/MyDrive/datasetQaTa/'\n",
        "image_datasets = {x: datasets.ImageFolder(os.path.join(data_dir, x),\n",
        "                                          data_transforms_xray[x])\n",
        "                  for x in ['train', 'val']}\n",
        "#aumenta batch size \n",
        "dataloaders = {x: torch.utils.data.DataLoader(image_datasets[x], batch_size=64,\n",
        "                                             shuffle=True, num_workers=4)\n",
        "              for x in ['train', 'val']}\n",
        "dataset_sizes = {x: len(image_datasets[x]) for x in ['train', 'val']}\n",
        "print(\"Dataset sizes: {}\".format(dataset_sizes))\n",
        "class_names = image_datasets['train'].classes\n",
        "\n",
        "device = torch.device(\"cuda:0\" if torch.cuda.is_available() else \"cpu\")\n",
        "print(\"using device: {}\".format(device))"
      ],
      "execution_count": 13,
      "outputs": [
        {
          "output_type": "stream",
          "text": [
            "using device: cuda:0\n"
          ],
          "name": "stdout"
        }
      ]
    },
    {
      "cell_type": "code",
      "metadata": {
        "id": "9Uyv-fguJBCX"
      },
      "source": [
        "def imshow(inp, title=None):\r\n",
        "    \"\"\"Imshow for Tensor.\"\"\"\r\n",
        "    inp = inp.numpy().transpose((1, 2, 0))\r\n",
        "    mean = np.array([0.485, 0.456, 0.406])\r\n",
        "    std = np.array([0.229, 0.224, 0.225])\r\n",
        "    inp = std * inp + mean\r\n",
        "    inp = np.clip(inp, 0, 1)\r\n",
        "    plt.imshow(inp)\r\n",
        "    if title is not None:\r\n",
        "        plt.title(title)\r\n",
        "    plt.pause(0.001)  # pause a bit so that plots are updated\r\n",
        "\r\n",
        "\r\n",
        "# Get a batch of training data\r\n",
        "inputs, classes = next(iter(dataloaders['train']))\r\n",
        "\r\n",
        "# Make a grid from batch\r\n",
        "out = torchvision.utils.make_grid(inputs)\r\n",
        "\r\n",
        "#imshow(out, title=[class_names[x] for x in classes])"
      ],
      "execution_count": 14,
      "outputs": []
    },
    {
      "cell_type": "code",
      "metadata": {
        "id": "HfKmN4woNEZR",
        "colab": {
          "base_uri": "https://localhost:8080/"
        },
        "outputId": "3ac69847-2d66-49a1-9848-fdf3fe1730ad"
      },
      "source": [
        ""
      ],
      "execution_count": null,
      "outputs": [
        {
          "output_type": "stream",
          "text": [
            "done\n"
          ],
          "name": "stdout"
        }
      ]
    },
    {
      "cell_type": "code",
      "metadata": {
        "id": "KZU4jJ1WJrzT",
        "colab": {
          "base_uri": "https://localhost:8080/"
        },
        "outputId": "8f09d7a0-10a5-44be-e8e9-ca84368789fa"
      },
      "source": [
        "def train_model(model, criterion, optimizer, scheduler, num_epochs=25):\r\n",
        "    since = time.time()\r\n",
        "\r\n",
        "    best_model_wts = copy.deepcopy(model.state_dict())\r\n",
        "    best_acc = 0.0\r\n",
        "\r\n",
        "    for epoch in range(num_epochs):\r\n",
        "        print('Epoch {}/{}'.format(epoch, num_epochs - 1))\r\n",
        "        print('-' * 10)\r\n",
        "        t1 = time.time()\r\n",
        "\r\n",
        "        # Each epoch has a training and validation phase\r\n",
        "        for phase in ['train', 'val']:\r\n",
        "            if phase == 'train':\r\n",
        "                model.train()  # Set model to training mode\r\n",
        "            else:\r\n",
        "                model.eval()   # Set model to evaluate mode\r\n",
        "\r\n",
        "            running_loss = 0.0\r\n",
        "            running_corrects = 0\r\n",
        "\r\n",
        "            # Iterate over data.\r\n",
        "            for inputs, labels in dataloaders[phase]:\r\n",
        "                inputs = inputs.to(device)\r\n",
        "                labels = labels.to(device)\r\n",
        "\r\n",
        "                # zero the parameter gradients\r\n",
        "                optimizer.zero_grad()\r\n",
        "\r\n",
        "                # forward\r\n",
        "                # track history if only in train\r\n",
        "                with torch.set_grad_enabled(phase == 'train'):\r\n",
        "                    outputs = model(inputs)\r\n",
        "                    _, preds = torch.max(outputs, 1)\r\n",
        "                    loss = criterion(outputs, labels)\r\n",
        "\r\n",
        "                    # backward + optimize only if in training phase\r\n",
        "                    if phase == 'train':\r\n",
        "                        loss.backward()\r\n",
        "                        optimizer.step()\r\n",
        "\r\n",
        "                # statistics\r\n",
        "                running_loss += loss.item() * inputs.size(0)\r\n",
        "                running_corrects += torch.sum(preds == labels.data)\r\n",
        "            if phase == 'train':\r\n",
        "                scheduler.step()\r\n",
        "\r\n",
        "            epoch_loss = running_loss / dataset_sizes[phase]\r\n",
        "            epoch_acc = running_corrects.double() / dataset_sizes[phase]\r\n",
        "\r\n",
        "            print('{} Loss: {:.4f} Acc: {:.4f}'.format(\r\n",
        "                phase, epoch_loss, epoch_acc))\r\n",
        "            t2 = time.time()\r\n",
        "            print('time:{}'.format(t2-t1))\r\n",
        "\r\n",
        "            # deep copy the model\r\n",
        "            if phase == 'val' and epoch_acc > best_acc:\r\n",
        "                best_acc = epoch_acc\r\n",
        "                best_model_wts = copy.deepcopy(model.state_dict())\r\n",
        "\r\n",
        "        print()\r\n",
        "\r\n",
        "    time_elapsed = time.time() - since\r\n",
        "    print('Training complete in {:.0f}m {:.0f}s'.format(\r\n",
        "        time_elapsed // 60, time_elapsed % 60))\r\n",
        "    print('Best val Acc: {:4f}'.format(best_acc))\r\n",
        "\r\n",
        "    # load best model weights\r\n",
        "    model.load_state_dict(best_model_wts)\r\n",
        "    return model\r\n",
        "\r\n",
        "print(\"done\")"
      ],
      "execution_count": 15,
      "outputs": [
        {
          "output_type": "stream",
          "text": [
            "done\n"
          ],
          "name": "stdout"
        }
      ]
    },
    {
      "cell_type": "code",
      "metadata": {
        "id": "vaAsYtVKKbR5",
        "colab": {
          "base_uri": "https://localhost:8080/"
        },
        "outputId": "896a3559-353a-479d-e3ec-a47889db4e6b"
      },
      "source": [
        "def visualize_model(model, num_images=6):\r\n",
        "    was_training = model.training\r\n",
        "    model.eval()\r\n",
        "    images_so_far = 0\r\n",
        "    fig = plt.figure()\r\n",
        "\r\n",
        "    with torch.no_grad():\r\n",
        "        for i, (inputs, labels) in enumerate(dataloaders['val']):\r\n",
        "            inputs = inputs.to(device)\r\n",
        "            labels = labels.to(device)\r\n",
        "\r\n",
        "            outputs = model(inputs)\r\n",
        "            _, preds = torch.max(outputs, 1)\r\n",
        "\r\n",
        "            for j in range(inputs.size()[0]):\r\n",
        "                images_so_far += 1\r\n",
        "                ax = plt.subplot(num_images//2, 2, images_so_far)\r\n",
        "                ax.axis('off')\r\n",
        "                ax.set_title('predicted: {}'.format(class_names[preds[j]]))\r\n",
        "                imshow(inputs.cpu().data[j])\r\n",
        "\r\n",
        "                if images_so_far == num_images:\r\n",
        "                    model.train(mode=was_training)\r\n",
        "                    return\r\n",
        "        model.train(mode=was_training)\r\n",
        "print(\"done\")"
      ],
      "execution_count": 16,
      "outputs": [
        {
          "output_type": "stream",
          "text": [
            "done\n"
          ],
          "name": "stdout"
        }
      ]
    },
    {
      "cell_type": "code",
      "metadata": {
        "id": "ho7yicXxKzG4",
        "colab": {
          "base_uri": "https://localhost:8080/"
        },
        "outputId": "df67b5f1-019f-444b-de31-1192026fba76"
      },
      "source": [
        "#Dropout added in FC Layer, should it be added between each Conv.Layer as well/instead?\r\n",
        "model_ft = models.resnet50(pretrained=True)\r\n",
        "num_ftrs = model_ft.fc.in_features\r\n",
        "print(model_ft.fc)\r\n",
        "print(num_ftrs)\r\n",
        " \r\n",
        "#custom classifier layer for binary classification\r\n",
        "#Activation function used but results are the same with or without it.\r\n",
        "#It should be noted that in Library/Pytorch implementation of ResNet 50 the output of the fc layer is the final output, without calling softMax on it.\r\n",
        "model_ft.fc = nn.Sequential(\r\n",
        "    nn.Dropout(0.1),\r\n",
        "    nn.Linear(num_ftrs, 1024),\r\n",
        "    nn.ReLU(),\r\n",
        "    nn.Dropout(0.1),\r\n",
        "    nn.Linear(1024, 512),\r\n",
        "    nn.ReLU(),\r\n",
        "    nn.Dropout(0.1),\r\n",
        "    nn.Linear(512,2)\r\n",
        ")\r\n",
        "print(\"Fully connected layer after optimization:\")\r\n",
        "print(model_ft.fc)\r\n",
        "model_ft = model_ft.to(device)\r\n",
        "\r\n",
        "#CrossEntropyLoss works well, but for segmentation maybe FocalLoss is better\r\n",
        "criterion = nn.CrossEntropyLoss()\r\n",
        "\r\n",
        "#Settin learning reate to 10^-5, it should make the learning process more stable\r\n",
        "optimizer_adam = optim.Adam(model_ft.parameters(), lr=0.00001)\r\n",
        "\r\n",
        "# Decay LR by a factor of 0.1 every 7 epochs\r\n",
        "exp_lr_scheduler = lr_scheduler.StepLR(optimizer_adam, step_size=7, gamma=0.1)\r\n",
        "print(\"done\")"
      ],
      "execution_count": 23,
      "outputs": [
        {
          "output_type": "stream",
          "text": [
            "Linear(in_features=2048, out_features=1000, bias=True)\n",
            "2048\n",
            "Fully connected layer after optimization:\n",
            "Sequential(\n",
            "  (0): Dropout(p=0.1, inplace=False)\n",
            "  (1): Linear(in_features=2048, out_features=1024, bias=True)\n",
            "  (2): ReLU()\n",
            "  (3): Dropout(p=0.1, inplace=False)\n",
            "  (4): Linear(in_features=1024, out_features=512, bias=True)\n",
            "  (5): ReLU()\n",
            "  (6): Dropout(p=0.1, inplace=False)\n",
            "  (7): Linear(in_features=512, out_features=2, bias=True)\n",
            ")\n",
            "done\n"
          ],
          "name": "stdout"
        }
      ]
    },
    {
      "cell_type": "code",
      "metadata": {
        "colab": {
          "base_uri": "https://localhost:8080/"
        },
        "id": "7Sb56SZzK67R",
        "outputId": "77b97014-d04a-43d5-bac0-449bc1f085ce"
      },
      "source": [
        "model_ft = train_model(model_ft, criterion, optimizer_adam, exp_lr_scheduler,\r\n",
        "                       num_epochs=25)"
      ],
      "execution_count": 24,
      "outputs": [
        {
          "output_type": "stream",
          "text": [
            "Epoch 0/24\n",
            "----------\n",
            "train Loss: 0.3495 Acc: 0.8964\n",
            "time:148.96897506713867\n",
            "val Loss: 0.0831 Acc: 0.9723\n",
            "time:163.0735321044922\n",
            "\n",
            "Epoch 1/24\n",
            "----------\n",
            "train Loss: 0.0566 Acc: 0.9840\n",
            "time:148.3684961795807\n",
            "val Loss: 0.0365 Acc: 0.9848\n",
            "time:162.8489043712616\n",
            "\n",
            "Epoch 2/24\n",
            "----------\n",
            "train Loss: 0.0195 Acc: 0.9955\n",
            "time:148.05895233154297\n",
            "val Loss: 0.0193 Acc: 0.9951\n",
            "time:162.50731325149536\n",
            "\n",
            "Epoch 3/24\n",
            "----------\n",
            "train Loss: 0.0106 Acc: 0.9973\n",
            "time:148.29477310180664\n",
            "val Loss: 0.0139 Acc: 0.9967\n",
            "time:162.5903344154358\n",
            "\n",
            "Epoch 4/24\n",
            "----------\n",
            "train Loss: 0.0063 Acc: 0.9988\n",
            "time:148.79692268371582\n",
            "val Loss: 0.0185 Acc: 0.9940\n",
            "time:163.0294201374054\n",
            "\n",
            "Epoch 5/24\n",
            "----------\n",
            "train Loss: 0.0027 Acc: 0.9992\n",
            "time:148.54640555381775\n",
            "val Loss: 0.0163 Acc: 0.9951\n",
            "time:163.03582119941711\n",
            "\n",
            "Epoch 6/24\n",
            "----------\n",
            "train Loss: 0.0050 Acc: 0.9984\n",
            "time:149.54295682907104\n",
            "val Loss: 0.0164 Acc: 0.9957\n",
            "time:164.1627163887024\n",
            "\n",
            "Epoch 7/24\n",
            "----------\n",
            "train Loss: 0.0021 Acc: 0.9997\n",
            "time:148.80921816825867\n",
            "val Loss: 0.0146 Acc: 0.9957\n",
            "time:163.128098487854\n",
            "\n",
            "Epoch 8/24\n",
            "----------\n",
            "train Loss: 0.0014 Acc: 0.9999\n",
            "time:149.11277198791504\n",
            "val Loss: 0.0167 Acc: 0.9946\n",
            "time:163.35536336898804\n",
            "\n",
            "Epoch 9/24\n",
            "----------\n",
            "train Loss: 0.0011 Acc: 0.9999\n",
            "time:149.1034393310547\n",
            "val Loss: 0.0148 Acc: 0.9957\n",
            "time:163.44256401062012\n",
            "\n",
            "Epoch 10/24\n",
            "----------\n",
            "train Loss: 0.0012 Acc: 0.9999\n",
            "time:148.94364142417908\n",
            "val Loss: 0.0138 Acc: 0.9951\n",
            "time:163.54839301109314\n",
            "\n",
            "Epoch 11/24\n",
            "----------\n",
            "train Loss: 0.0012 Acc: 0.9999\n",
            "time:148.7433145046234\n",
            "val Loss: 0.0144 Acc: 0.9946\n",
            "time:163.33688640594482\n",
            "\n",
            "Epoch 12/24\n",
            "----------\n",
            "train Loss: 0.0020 Acc: 0.9993\n",
            "time:148.9845473766327\n",
            "val Loss: 0.0668 Acc: 0.9805\n",
            "time:163.41519737243652\n",
            "\n",
            "Epoch 13/24\n",
            "----------\n",
            "train Loss: 0.0010 Acc: 0.9999\n",
            "time:148.81042313575745\n",
            "val Loss: 0.0145 Acc: 0.9957\n",
            "time:163.31509566307068\n",
            "\n",
            "Epoch 14/24\n",
            "----------\n",
            "train Loss: 0.0013 Acc: 0.9997\n",
            "time:149.2946639060974\n",
            "val Loss: 0.0165 Acc: 0.9946\n",
            "time:163.86272382736206\n",
            "\n",
            "Epoch 15/24\n",
            "----------\n",
            "train Loss: 0.0009 Acc: 0.9999\n",
            "time:149.4547164440155\n",
            "val Loss: 0.0162 Acc: 0.9946\n",
            "time:163.8454089164734\n",
            "\n",
            "Epoch 16/24\n",
            "----------\n",
            "train Loss: 0.0008 Acc: 1.0000\n",
            "time:149.59346795082092\n",
            "val Loss: 0.0143 Acc: 0.9946\n",
            "time:163.9091124534607\n",
            "\n",
            "Epoch 17/24\n",
            "----------\n",
            "train Loss: 0.0006 Acc: 1.0000\n",
            "time:149.49287343025208\n",
            "val Loss: 0.0157 Acc: 0.9946\n",
            "time:163.73962998390198\n",
            "\n",
            "Epoch 18/24\n",
            "----------\n",
            "train Loss: 0.0010 Acc: 0.9999\n",
            "time:149.6132550239563\n",
            "val Loss: 0.0146 Acc: 0.9951\n",
            "time:164.25068950653076\n",
            "\n",
            "Epoch 19/24\n",
            "----------\n",
            "train Loss: 0.0008 Acc: 1.0000\n",
            "time:148.90129852294922\n",
            "val Loss: 0.0156 Acc: 0.9946\n",
            "time:163.29330158233643\n",
            "\n",
            "Epoch 20/24\n",
            "----------\n",
            "train Loss: 0.0007 Acc: 1.0000\n",
            "time:149.45317196846008\n",
            "val Loss: 0.0152 Acc: 0.9946\n",
            "time:164.07351994514465\n",
            "\n",
            "Epoch 21/24\n",
            "----------\n",
            "train Loss: 0.0008 Acc: 0.9999\n",
            "time:149.3784942626953\n",
            "val Loss: 0.0158 Acc: 0.9940\n",
            "time:163.64507722854614\n",
            "\n",
            "Epoch 22/24\n",
            "----------\n",
            "train Loss: 0.0008 Acc: 0.9999\n",
            "time:149.73239827156067\n",
            "val Loss: 0.0143 Acc: 0.9957\n",
            "time:163.92943239212036\n",
            "\n",
            "Epoch 23/24\n",
            "----------\n",
            "train Loss: 0.0007 Acc: 1.0000\n",
            "time:149.74178338050842\n",
            "val Loss: 0.0141 Acc: 0.9957\n",
            "time:163.9473147392273\n",
            "\n",
            "Epoch 24/24\n",
            "----------\n",
            "train Loss: 0.0006 Acc: 1.0000\n",
            "time:149.2899045944214\n",
            "val Loss: 0.0140 Acc: 0.9957\n",
            "time:163.96873307228088\n",
            "\n",
            "Training complete in 68m 7s\n",
            "Best val Acc: 0.996746\n"
          ],
          "name": "stdout"
        }
      ]
    },
    {
      "cell_type": "code",
      "metadata": {
        "colab": {
          "base_uri": "https://localhost:8080/",
          "height": 581
        },
        "id": "qkPZsNOdTcGr",
        "outputId": "6f3aa967-25e2-4c3d-8021-b76ccfddab82"
      },
      "source": [
        "visualize_model(model_ft)"
      ],
      "execution_count": null,
      "outputs": [
        {
          "output_type": "display_data",
          "data": {
            "image/png": "[encoded data removed]",
            "text/plain": [
              "<Figure size 432x288 with 1 Axes>"
            ]
          },
          "metadata": {
            "tags": [],
            "needs_background": "light"
          }
        },
        {
          "output_type": "display_data",
          "data": {
            "image/png": "[encoded data removed]",
            "text/plain": [
              "<Figure size 432x288 with 1 Axes>"
            ]
          },
          "metadata": {
            "tags": [],
            "needs_background": "light"
          }
        },
        {
          "output_type": "display_data",
          "data": {
            "image/png": "[encoded data removed]",
            "text/plain": [
              "<Figure size 432x288 with 1 Axes>"
            ]
          },
          "metadata": {
            "tags": [],
            "needs_background": "light"
          }
        },
        {
          "output_type": "display_data",
          "data": {
            "image/png": "[encoded data removed]",
            "text/plain": [
              "<Figure size 432x288 with 1 Axes>"
            ]
          },
          "metadata": {
            "tags": [],
            "needs_background": "light"
          }
        },
        {
          "output_type": "display_data",
          "data": {
            "image/png": "[encoded data removed]",
            "text/plain": [
              "<Figure size 432x288 with 1 Axes>"
            ]
          },
          "metadata": {
            "tags": [],
            "needs_background": "light"
          }
        },
        {
          "output_type": "display_data",
          "data": {
            "image/png": "[encoded data removed]",
            "text/plain": [
              "<Figure size 432x288 with 1 Axes>"
            ]
          },
          "metadata": {
            "tags": [],
            "needs_background": "light"
          }
        }
      ]
    },
    {
      "cell_type": "markdown",
      "metadata": {
        "id": "EQtGkPmiEm3A"
      },
      "source": [
        ""
      ]
    }
  ]
}