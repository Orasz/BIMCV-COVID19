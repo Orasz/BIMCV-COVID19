{
  "nbformat": 4,
  "nbformat_minor": 0,
  "metadata": {
    "colab": {
      "name": "TransferLearningTutorial",
      "provenance": [],
      "include_colab_link": true
    },
    "kernelspec": {
      "name": "python3",
      "display_name": "Python 3"
    },
    "accelerator": "GPU"
  },
  "cells": [
    {
      "cell_type": "markdown",
      "metadata": {
        "id": "view-in-github",
        "colab_type": "text"
      },
      "source": [
        "<a href=\"https://colab.research.google.com/github/Orasz/BIMCV-COVID19/blob/main/resnet50testZERO_1.ipynb\" target=\"_parent\"><img src=\"https://colab.research.google.com/assets/colab-badge.svg\" alt=\"Open In Colab\"/></a>"
      ]
    },
    {
      "cell_type": "markdown",
      "metadata": {
        "id": "Y5hCYn_pEoMX"
      },
      "source": [
        "example of Transfer Learning using QaTa-COV19 dataset."
      ]
    },
    {
      "cell_type": "code",
      "metadata": {
        "colab": {
          "base_uri": "https://localhost:8080/"
        },
        "id": "0E5MnR02HH3x",
        "outputId": "5d50fd88-7735-4262-9b72-96aae1baee24"
      },
      "source": [
        "from google.colab import drive\r\n",
        "drive.mount('/content/gdrive', force_remount=True)\r\n"
      ],
      "execution_count": 7,
      "outputs": [
        {
          "output_type": "stream",
          "text": [
            "Mounted at /content/gdrive\n"
          ],
          "name": "stdout"
        }
      ]
    },
    {
      "cell_type": "code",
      "metadata": {
        "id": "PvVEnw9KtLLV",
        "outputId": "3df4a436-8d2a-4d49-a3d9-8d61d7c24740",
        "colab": {
          "base_uri": "https://localhost:8080/"
        }
      },
      "source": [
        "from __future__ import print_function, division\r\n",
        "\r\n",
        "import torch\r\n",
        "import torch.nn as nn\r\n",
        "import torch.optim as optim\r\n",
        "from torch.optim import lr_scheduler\r\n",
        "import numpy as np\r\n",
        "import torchvision\r\n",
        "from torchvision import datasets, models, transforms\r\n",
        "import matplotlib.pyplot as plt\r\n",
        "import time\r\n",
        "import os\r\n",
        "import copy\r\n",
        "\r\n",
        "plt.ion()   # interactive mode\r\n",
        "print(\"done\")"
      ],
      "execution_count": 8,
      "outputs": [
        {
          "output_type": "stream",
          "text": [
            "done\n"
          ],
          "name": "stdout"
        }
      ]
    },
    {
      "cell_type": "code",
      "metadata": {
        "id": "ELnF4WInFS7g",
        "colab": {
          "base_uri": "https://localhost:8080/"
        },
        "outputId": "655603d8-d764-4300-9167-f1899148983b"
      },
      "source": [
        "# Data augmentation and normalization for training\n",
        "# Just normalization for validation\n",
        "\n",
        "data_transforms_xray = {\n",
        "    'train': transforms.Compose([\n",
        "        transforms.Resize(256),\n",
        "        transforms.CenterCrop(224),\n",
        "        transforms.ToTensor(),\n",
        "        transforms.Normalize([0.485, 0.456, 0.406], [0.229, 0.224, 0.225])\n",
        "    ]),\n",
        "    'val': transforms.Compose([\n",
        "        transforms.Resize(256),\n",
        "        transforms.CenterCrop(224),\n",
        "        transforms.ToTensor(),\n",
        "        transforms.Normalize([0.485, 0.456, 0.406], [0.229, 0.224, 0.225])\n",
        "    ]),\n",
        "}\n",
        "\n",
        "data_dir = 'gdrive/MyDrive/ResNetCovidTest1/'\n",
        "image_datasets = {x: datasets.ImageFolder(os.path.join(data_dir, x),\n",
        "                                          data_transforms_xray[x])\n",
        "                  for x in ['train', 'val']}\n",
        "#aumenta batch size \n",
        "dataloaders = {x: torch.utils.data.DataLoader(image_datasets[x], batch_size=8,\n",
        "                                             shuffle=True, num_workers=4)\n",
        "              for x in ['train', 'val']}\n",
        "dataset_sizes = {x: len(image_datasets[x]) for x in ['train', 'val']}\n",
        "class_names = image_datasets['train'].classes\n",
        "\n",
        "device = torch.device(\"cuda:0\" if torch.cuda.is_available() else \"cpu\")\n",
        "print(\"using device: {}\".format(device))"
      ],
      "execution_count": 9,
      "outputs": [
        {
          "output_type": "stream",
          "text": [
            "using device: cuda:0\n"
          ],
          "name": "stdout"
        }
      ]
    },
    {
      "cell_type": "code",
      "metadata": {
        "colab": {
          "base_uri": "https://localhost:8080/",
          "height": 106
        },
        "id": "9Uyv-fguJBCX",
        "outputId": "37edcb3c-c292-4738-e215-35b6d9f2edce"
      },
      "source": [
        "def imshow(inp, title=None):\r\n",
        "    \"\"\"Imshow for Tensor.\"\"\"\r\n",
        "    inp = inp.numpy().transpose((1, 2, 0))\r\n",
        "    mean = np.array([0.485, 0.456, 0.406])\r\n",
        "    std = np.array([0.229, 0.224, 0.225])\r\n",
        "    inp = std * inp + mean\r\n",
        "    inp = np.clip(inp, 0, 1)\r\n",
        "    plt.imshow(inp)\r\n",
        "    if title is not None:\r\n",
        "        plt.title(title)\r\n",
        "    plt.pause(0.001)  # pause a bit so that plots are updated\r\n",
        "\r\n",
        "\r\n",
        "# Get a batch of training data\r\n",
        "inputs, classes = next(iter(dataloaders['train']))\r\n",
        "\r\n",
        "# Make a grid from batch\r\n",
        "out = torchvision.utils.make_grid(inputs)\r\n",
        "\r\n",
        "imshow(out, title=[class_names[x] for x in classes])"
      ],
      "execution_count": 10,
      "outputs": [
        {
          "output_type": "display_data",
          "data": {
            "image/png": "[encoded data removed]",
            "text/plain": [
              "<Figure size 432x288 with 1 Axes>"
            ]
          },
          "metadata": {
            "tags": [],
            "needs_background": "light"
          }
        }
      ]
    },
    {
      "cell_type": "code",
      "metadata": {
        "id": "HfKmN4woNEZR",
        "outputId": "49b17ba9-6310-4455-d489-3f45afabbd51",
        "colab": {
          "base_uri": "https://localhost:8080/"
        }
      },
      "source": [
        "#Custom ResNet50 in order to add dropout regolarization\r\n",
        "class ResNet(nn.Module):\r\n",
        "    def __init__(self, num_classes = 2, classify=True):\r\n",
        "        super(ResNet, self).__init__()\r\n",
        "        self.model = torchvision.models.resnet50(pretrained=True)\r\n",
        "        self.name = 'resnet'\r\n",
        "        expansion = 4\r\n",
        "        self.classify = classify\r\n",
        "        if self.classify:\r\n",
        "            self.classifier = nn.Linear(512 * expansion, num_classes)\r\n",
        "\r\n",
        "    def forward(self, x):\r\n",
        "        x = self.model.conv1(x)\r\n",
        "        x = self.model.bn1(x)\r\n",
        "        x = self.model.relu(x)\r\n",
        "        x = self.model.maxpool(x)\r\n",
        "\r\n",
        "        x = self.model.layer1(x)\r\n",
        "        x = self.model.layer2(x)\r\n",
        "        x = self.model.layer3(x)\r\n",
        "        x = self.model.layer4(x)\r\n",
        "\r\n",
        "        x = self.model.avgpool(x)\r\n",
        "        x = torch.flatten(x, 1)\r\n",
        "\r\n",
        "        if self.classify:\r\n",
        "            x = self.classifier(x)\r\n",
        "        x = self.dropout(0.2)\r\n",
        "\r\n",
        "        return x\r\n",
        "\r\n",
        "print(\"done\")"
      ],
      "execution_count": 13,
      "outputs": [
        {
          "output_type": "stream",
          "text": [
            "done\n"
          ],
          "name": "stdout"
        }
      ]
    },
    {
      "cell_type": "code",
      "metadata": {
        "id": "KZU4jJ1WJrzT",
        "outputId": "442a84da-b4c3-4400-882a-35792d3b5f44",
        "colab": {
          "base_uri": "https://localhost:8080/"
        }
      },
      "source": [
        "def train_model(model, criterion, optimizer, scheduler, num_epochs=25):\r\n",
        "    since = time.time()\r\n",
        "\r\n",
        "    best_model_wts = copy.deepcopy(model.state_dict())\r\n",
        "    best_acc = 0.0\r\n",
        "\r\n",
        "    for epoch in range(num_epochs):\r\n",
        "        print('Epoch {}/{}'.format(epoch, num_epochs - 1))\r\n",
        "        print('-' * 10)\r\n",
        "        t1 = time.time()\r\n",
        "\r\n",
        "        # Each epoch has a training and validation phase\r\n",
        "        for phase in ['train', 'val']:\r\n",
        "            if phase == 'train':\r\n",
        "                model.train()  # Set model to training mode\r\n",
        "            else:\r\n",
        "                model.eval()   # Set model to evaluate mode\r\n",
        "\r\n",
        "            running_loss = 0.0\r\n",
        "            running_corrects = 0\r\n",
        "\r\n",
        "            # Iterate over data.\r\n",
        "            for inputs, labels in dataloaders[phase]:\r\n",
        "                inputs = inputs.to(device)\r\n",
        "                labels = labels.to(device)\r\n",
        "\r\n",
        "                # zero the parameter gradients\r\n",
        "                optimizer.zero_grad()\r\n",
        "\r\n",
        "                # forward\r\n",
        "                # track history if only in train\r\n",
        "                with torch.set_grad_enabled(phase == 'train'):\r\n",
        "                    outputs = model(inputs)\r\n",
        "                    _, preds = torch.max(outputs, 1)\r\n",
        "                    loss = criterion(outputs, labels)\r\n",
        "\r\n",
        "                    # backward + optimize only if in training phase\r\n",
        "                    if phase == 'train':\r\n",
        "                        loss.backward()\r\n",
        "                        optimizer.step()\r\n",
        "\r\n",
        "                # statistics\r\n",
        "                running_loss += loss.item() * inputs.size(0)\r\n",
        "                running_corrects += torch.sum(preds == labels.data)\r\n",
        "            if phase == 'train':\r\n",
        "                scheduler.step()\r\n",
        "\r\n",
        "            epoch_loss = running_loss / dataset_sizes[phase]\r\n",
        "            epoch_acc = running_corrects.double() / dataset_sizes[phase]\r\n",
        "\r\n",
        "            print('{} Loss: {:.4f} Acc: {:.4f}'.format(\r\n",
        "                phase, epoch_loss, epoch_acc))\r\n",
        "            t2 = time.time()\r\n",
        "            print('time:{}'.format(t2-t1))\r\n",
        "\r\n",
        "            # deep copy the model\r\n",
        "            if phase == 'val' and epoch_acc > best_acc:\r\n",
        "                best_acc = epoch_acc\r\n",
        "                best_model_wts = copy.deepcopy(model.state_dict())\r\n",
        "\r\n",
        "        print()\r\n",
        "\r\n",
        "    time_elapsed = time.time() - since\r\n",
        "    print('Training complete in {:.0f}m {:.0f}s'.format(\r\n",
        "        time_elapsed // 60, time_elapsed % 60))\r\n",
        "    print('Best val Acc: {:4f}'.format(best_acc))\r\n",
        "\r\n",
        "    # load best model weights\r\n",
        "    model.load_state_dict(best_model_wts)\r\n",
        "    return model\r\n",
        "\r\n",
        "print(\"done\")"
      ],
      "execution_count": 15,
      "outputs": [
        {
          "output_type": "stream",
          "text": [
            "done\n"
          ],
          "name": "stdout"
        }
      ]
    },
    {
      "cell_type": "code",
      "metadata": {
        "id": "vaAsYtVKKbR5",
        "colab": {
          "base_uri": "https://localhost:8080/"
        },
        "outputId": "4f40e256-4e8c-4605-923a-929b7cbd6fa3"
      },
      "source": [
        "def visualize_model(model, num_images=6):\r\n",
        "    was_training = model.training\r\n",
        "    model.eval()\r\n",
        "    images_so_far = 0\r\n",
        "    fig = plt.figure()\r\n",
        "\r\n",
        "    with torch.no_grad():\r\n",
        "        for i, (inputs, labels) in enumerate(dataloaders['val']):\r\n",
        "            inputs = inputs.to(device)\r\n",
        "            labels = labels.to(device)\r\n",
        "\r\n",
        "            outputs = model(inputs)\r\n",
        "            _, preds = torch.max(outputs, 1)\r\n",
        "\r\n",
        "            for j in range(inputs.size()[0]):\r\n",
        "                images_so_far += 1\r\n",
        "                ax = plt.subplot(num_images//2, 2, images_so_far)\r\n",
        "                ax.axis('off')\r\n",
        "                ax.set_title('predicted: {}'.format(class_names[preds[j]]))\r\n",
        "                imshow(inputs.cpu().data[j])\r\n",
        "\r\n",
        "                if images_so_far == num_images:\r\n",
        "                    model.train(mode=was_training)\r\n",
        "                    return\r\n",
        "        model.train(mode=was_training)\r\n",
        "print(\"done\")"
      ],
      "execution_count": 16,
      "outputs": [
        {
          "output_type": "stream",
          "text": [
            "done\n"
          ],
          "name": "stdout"
        }
      ]
    },
    {
      "cell_type": "code",
      "metadata": {
        "id": "ho7yicXxKzG4",
        "colab": {
          "base_uri": "https://localhost:8080/"
        },
        "outputId": "004c328b-8e35-485b-c72d-c4bce8122e1f"
      },
      "source": [
        "#N.B inserisci regolarizzazione/dropout\r\n",
        "model_ft = models.resnet50(pretrained=True)\r\n",
        "num_ftrs = model_ft.fc.in_features\r\n",
        "# Here the size of each output sample is set to 2.\r\n",
        "# Alternatively, it can be generalized to nn.Linear(num_ftrs, len(class_names)).\r\n",
        "#N.B. va aggiunto un dropout layer\r\n",
        "#classifier layer\r\n",
        "model_ft.fc = nn.Linear(num_ftrs, 2)\r\n",
        "\r\n",
        "model_ft = model_ft.to(device)\r\n",
        "\r\n",
        "criterion = nn.CrossEntropyLoss()\r\n",
        "\r\n",
        "# Observe that all parameters are being optimized\r\n",
        "#lr should be 0.001\r\n",
        "optimizer_ft = optim.SGD(model_ft.parameters(), lr=0.001, momentum=0.9)\r\n",
        "optimizer_adam = optim.Adam(model_ft.parameters(), lr=0.001)\r\n",
        "\r\n",
        "# Decay LR by a factor of 0.1 every 7 epochs\r\n",
        "exp_lr_scheduler = lr_scheduler.StepLR(optimizer_adam, step_size=7, gamma=0.1)\r\n",
        "print(\"done\")"
      ],
      "execution_count": 18,
      "outputs": [
        {
          "output_type": "stream",
          "text": [
            "done\n"
          ],
          "name": "stdout"
        }
      ]
    },
    {
      "cell_type": "code",
      "metadata": {
        "colab": {
          "base_uri": "https://localhost:8080/"
        },
        "id": "7Sb56SZzK67R",
        "outputId": "28696576-dccc-4259-a117-9cf251fbd49f"
      },
      "source": [
        "model_ft = train_model(model_ft, criterion, optimizer_suggested, exp_lr_scheduler,\r\n",
        "                       num_epochs=25)"
      ],
      "execution_count": 19,
      "outputs": [
        {
          "output_type": "stream",
          "text": [
            "Epoch 0/24\n",
            "----------\n",
            "train Loss: 0.6977 Acc: 0.4908\n",
            "time:253.37146472930908\n"
          ],
          "name": "stdout"
        },
        {
          "output_type": "stream",
          "text": [
            "/usr/local/lib/python3.6/dist-packages/torch/optim/lr_scheduler.py:136: UserWarning: Detected call of `lr_scheduler.step()` before `optimizer.step()`. In PyTorch 1.1.0 and later, you should call them in the opposite order: `optimizer.step()` before `lr_scheduler.step()`.  Failure to do this will result in PyTorch skipping the first value of the learning rate schedule. See more details at https://pytorch.org/docs/stable/optim.html#how-to-adjust-learning-rate\n",
            "  \"https://pytorch.org/docs/stable/optim.html#how-to-adjust-learning-rate\", UserWarning)\n"
          ],
          "name": "stderr"
        },
        {
          "output_type": "stream",
          "text": [
            "val Loss: 0.6740 Acc: 0.6088\n",
            "time:338.67761492729187\n",
            "\n",
            "Epoch 1/24\n",
            "----------\n",
            "train Loss: 0.6987 Acc: 0.4859\n",
            "time:44.760278940200806\n",
            "val Loss: 0.6767 Acc: 0.5912\n",
            "time:51.400716066360474\n",
            "\n",
            "Epoch 2/24\n",
            "----------\n",
            "train Loss: 0.6966 Acc: 0.4947\n",
            "time:44.27827215194702\n",
            "val Loss: 0.6808 Acc: 0.5728\n",
            "time:50.91623497009277\n",
            "\n",
            "Epoch 3/24\n",
            "----------\n",
            "train Loss: 0.6974 Acc: 0.4979\n",
            "time:44.53025531768799\n",
            "val Loss: 0.6798 Acc: 0.5736\n",
            "time:51.12358045578003\n",
            "\n",
            "Epoch 4/24\n",
            "----------\n",
            "train Loss: 0.6969 Acc: 0.4966\n",
            "time:44.422956705093384\n",
            "val Loss: 0.6818 Acc: 0.5608\n",
            "time:51.077500104904175\n",
            "\n",
            "Epoch 5/24\n",
            "----------\n",
            "train Loss: 0.6971 Acc: 0.4944\n",
            "time:44.255834341049194\n",
            "val Loss: 0.6845 Acc: 0.5536\n",
            "time:50.92613458633423\n",
            "\n",
            "Epoch 6/24\n",
            "----------\n",
            "train Loss: 0.6969 Acc: 0.4982\n",
            "time:44.47154712677002\n",
            "val Loss: 0.6801 Acc: 0.5752\n",
            "time:51.05763483047485\n",
            "\n",
            "Epoch 7/24\n",
            "----------\n",
            "train Loss: 0.6978 Acc: 0.4963\n",
            "time:44.46347665786743\n",
            "val Loss: 0.6818 Acc: 0.5704\n",
            "time:51.084228515625\n",
            "\n",
            "Epoch 8/24\n",
            "----------\n",
            "train Loss: 0.6975 Acc: 0.5034\n",
            "time:44.31281065940857\n",
            "val Loss: 0.6855 Acc: 0.5480\n",
            "time:50.85468125343323\n",
            "\n",
            "Epoch 9/24\n",
            "----------\n",
            "train Loss: 0.6975 Acc: 0.4999\n",
            "time:44.46729588508606\n",
            "val Loss: 0.6763 Acc: 0.6016\n",
            "time:51.12202787399292\n",
            "\n",
            "Epoch 10/24\n",
            "----------\n",
            "train Loss: 0.6977 Acc: 0.4996\n",
            "time:44.424335956573486\n",
            "val Loss: 0.6789 Acc: 0.5808\n",
            "time:51.02545762062073\n",
            "\n",
            "Epoch 11/24\n",
            "----------\n",
            "train Loss: 0.6975 Acc: 0.4996\n",
            "time:44.370699882507324\n",
            "val Loss: 0.6788 Acc: 0.5768\n",
            "time:51.00079870223999\n",
            "\n",
            "Epoch 12/24\n",
            "----------\n",
            "train Loss: 0.6961 Acc: 0.5056\n",
            "time:44.3720383644104\n",
            "val Loss: 0.6809 Acc: 0.5736\n",
            "time:51.01966166496277\n",
            "\n",
            "Epoch 13/24\n",
            "----------\n",
            "train Loss: 0.6982 Acc: 0.4936\n",
            "time:44.4776566028595\n",
            "val Loss: 0.6871 Acc: 0.5448\n",
            "time:51.09135603904724\n",
            "\n",
            "Epoch 14/24\n",
            "----------\n",
            "train Loss: 0.6966 Acc: 0.5051\n",
            "time:44.50778675079346\n",
            "val Loss: 0.6791 Acc: 0.5768\n",
            "time:51.16129469871521\n",
            "\n",
            "Epoch 15/24\n",
            "----------\n",
            "train Loss: 0.6987 Acc: 0.5045\n",
            "time:44.42895579338074\n",
            "val Loss: 0.6822 Acc: 0.5632\n",
            "time:51.2156400680542\n",
            "\n",
            "Epoch 16/24\n",
            "----------\n",
            "train Loss: 0.6978 Acc: 0.4990\n",
            "time:44.473058462142944\n",
            "val Loss: 0.6818 Acc: 0.5680\n",
            "time:51.06747555732727\n",
            "\n",
            "Epoch 17/24\n",
            "----------\n",
            "train Loss: 0.6981 Acc: 0.4922\n",
            "time:44.505698680877686\n",
            "val Loss: 0.6821 Acc: 0.5656\n",
            "time:51.138402700424194\n",
            "\n",
            "Epoch 18/24\n",
            "----------\n",
            "train Loss: 0.6967 Acc: 0.5023\n",
            "time:44.43475365638733\n",
            "val Loss: 0.6820 Acc: 0.5648\n",
            "time:51.02494239807129\n",
            "\n",
            "Epoch 19/24\n",
            "----------\n",
            "train Loss: 0.6970 Acc: 0.5018\n",
            "time:44.47925901412964\n",
            "val Loss: 0.6768 Acc: 0.5880\n",
            "time:51.03804039955139\n",
            "\n",
            "Epoch 20/24\n",
            "----------\n",
            "train Loss: 0.6986 Acc: 0.4968\n",
            "time:44.46157765388489\n",
            "val Loss: 0.6805 Acc: 0.5664\n",
            "time:51.11570143699646\n",
            "\n",
            "Epoch 21/24\n",
            "----------\n",
            "train Loss: 0.6978 Acc: 0.5012\n",
            "time:44.44789123535156\n",
            "val Loss: 0.6801 Acc: 0.5704\n",
            "time:51.11947751045227\n",
            "\n",
            "Epoch 22/24\n",
            "----------\n",
            "train Loss: 0.6986 Acc: 0.5040\n",
            "time:44.530632734298706\n",
            "val Loss: 0.6818 Acc: 0.5704\n",
            "time:51.182462215423584\n",
            "\n",
            "Epoch 23/24\n",
            "----------\n",
            "train Loss: 0.6980 Acc: 0.4990\n",
            "time:44.47384858131409\n",
            "val Loss: 0.6804 Acc: 0.5752\n",
            "time:51.17929244041443\n",
            "\n",
            "Epoch 24/24\n",
            "----------\n",
            "train Loss: 0.6980 Acc: 0.4922\n",
            "time:44.46301865577698\n",
            "val Loss: 0.6811 Acc: 0.5760\n",
            "time:51.03532862663269\n",
            "\n",
            "Training complete in 26m 5s\n",
            "Best val Acc: 0.608800\n"
          ],
          "name": "stdout"
        }
      ]
    },
    {
      "cell_type": "code",
      "metadata": {
        "colab": {
          "base_uri": "https://localhost:8080/",
          "height": 581
        },
        "id": "qkPZsNOdTcGr",
        "outputId": "89c7168c-a1e6-4340-d376-a0abdd0fa148"
      },
      "source": [
        "visualize_model(model_ft)"
      ],
      "execution_count": 20,
      "outputs": [
        {
          "output_type": "display_data",
          "data": {
            "image/png": "[encoded data removed]",
            "text/plain": [
              "<Figure size 432x288 with 1 Axes>"
            ]
          },
          "metadata": {
            "tags": [],
            "needs_background": "light"
          }
        },
        {
          "output_type": "display_data",
          "data": {
            "image/png": "[encoded data removed]",
            "text/plain": [
              "<Figure size 432x288 with 1 Axes>"
            ]
          },
          "metadata": {
            "tags": [],
            "needs_background": "light"
          }
        },
        {
          "output_type": "display_data",
          "data": {
            "image/png": "[encoded data removed]",
            "text/plain": [
              "<Figure size 432x288 with 1 Axes>"
            ]
          },
          "metadata": {
            "tags": [],
            "needs_background": "light"
          }
        },
        {
          "output_type": "display_data",
          "data": {
            "image/png": "[encoded data removed]",
            "text/plain": [
              "<Figure size 432x288 with 1 Axes>"
            ]
          },
          "metadata": {
            "tags": [],
            "needs_background": "light"
          }
        },
        {
          "output_type": "display_data",
          "data": {
            "image/png": "[encoded data removed]",
            "text/plain": [
              "<Figure size 432x288 with 1 Axes>"
            ]
          },
          "metadata": {
            "tags": [],
            "needs_background": "light"
          }
        },
        {
          "output_type": "display_data",
          "data": {
            "image/png": "[encoded data removed]",
            "text/plain": [
              "<Figure size 432x288 with 1 Axes>"
            ]
          },
          "metadata": {
            "tags": [],
            "needs_background": "light"
          }
        }
      ]
    },
    {
      "cell_type": "markdown",
      "metadata": {
        "id": "EQtGkPmiEm3A"
      },
      "source": [
        ""
      ]
    }
  ]
}