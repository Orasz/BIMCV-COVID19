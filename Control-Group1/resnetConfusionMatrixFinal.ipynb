{
  "nbformat": 4,
  "nbformat_minor": 0,
  "metadata": {
    "colab": {
      "name": "prova.ipynb",
      "provenance": [],
      "include_colab_link": true
    },
    "kernelspec": {
      "name": "python3",
      "display_name": "Python 3"
    },
    "widgets": {
      "application/vnd.jupyter.widget-state+json": {
        "228b27c3b7894d89913071a5a6bd90dc": {
          "model_module": "@jupyter-widgets/controls",
          "model_name": "HBoxModel",
          "state": {
            "_view_name": "HBoxView",
            "_dom_classes": [],
            "_model_name": "HBoxModel",
            "_view_module": "@jupyter-widgets/controls",
            "_model_module_version": "1.5.0",
            "_view_count": null,
            "_view_module_version": "1.5.0",
            "box_style": "",
            "layout": "IPY_MODEL_2f5c7cf08afc4d38b6c49fb473923cb1",
            "_model_module": "@jupyter-widgets/controls",
            "children": [
              "IPY_MODEL_a989ec799a5d470199278e272fd1d48e",
              "IPY_MODEL_e1838eed8d264955ba3ff2ef86db2d41"
            ]
          }
        },
        "2f5c7cf08afc4d38b6c49fb473923cb1": {
          "model_module": "@jupyter-widgets/base",
          "model_name": "LayoutModel",
          "state": {
            "_view_name": "LayoutView",
            "grid_template_rows": null,
            "right": null,
            "justify_content": null,
            "_view_module": "@jupyter-widgets/base",
            "overflow": null,
            "_model_module_version": "1.2.0",
            "_view_count": null,
            "flex_flow": null,
            "width": null,
            "min_width": null,
            "border": null,
            "align_items": null,
            "bottom": null,
            "_model_module": "@jupyter-widgets/base",
            "top": null,
            "grid_column": null,
            "overflow_y": null,
            "overflow_x": null,
            "grid_auto_flow": null,
            "grid_area": null,
            "grid_template_columns": null,
            "flex": null,
            "_model_name": "LayoutModel",
            "justify_items": null,
            "grid_row": null,
            "max_height": null,
            "align_content": null,
            "visibility": null,
            "align_self": null,
            "height": null,
            "min_height": null,
            "padding": null,
            "grid_auto_rows": null,
            "grid_gap": null,
            "max_width": null,
            "order": null,
            "_view_module_version": "1.2.0",
            "grid_template_areas": null,
            "object_position": null,
            "object_fit": null,
            "grid_auto_columns": null,
            "margin": null,
            "display": null,
            "left": null
          }
        },
        "a989ec799a5d470199278e272fd1d48e": {
          "model_module": "@jupyter-widgets/controls",
          "model_name": "FloatProgressModel",
          "state": {
            "_view_name": "ProgressView",
            "style": "IPY_MODEL_c6bb84e2dfdd4b75ba1b1efdfc1f23b5",
            "_dom_classes": [],
            "description": "100%",
            "_model_name": "FloatProgressModel",
            "bar_style": "success",
            "max": 102502400,
            "_view_module": "@jupyter-widgets/controls",
            "_model_module_version": "1.5.0",
            "value": 102502400,
            "_view_count": null,
            "_view_module_version": "1.5.0",
            "orientation": "horizontal",
            "min": 0,
            "description_tooltip": null,
            "_model_module": "@jupyter-widgets/controls",
            "layout": "IPY_MODEL_d346fabd235c41f8ad697d6fe441ee87"
          }
        },
        "e1838eed8d264955ba3ff2ef86db2d41": {
          "model_module": "@jupyter-widgets/controls",
          "model_name": "HTMLModel",
          "state": {
            "_view_name": "HTMLView",
            "style": "IPY_MODEL_a65f73cf1954406284108af5ca3d3e34",
            "_dom_classes": [],
            "description": "",
            "_model_name": "HTMLModel",
            "placeholder": "​",
            "_view_module": "@jupyter-widgets/controls",
            "_model_module_version": "1.5.0",
            "value": " 97.8M/97.8M [11:38&lt;00:00, 147kB/s]",
            "_view_count": null,
            "_view_module_version": "1.5.0",
            "description_tooltip": null,
            "_model_module": "@jupyter-widgets/controls",
            "layout": "IPY_MODEL_6ee5e7bd00234e1ca02baced8b2b9452"
          }
        },
        "c6bb84e2dfdd4b75ba1b1efdfc1f23b5": {
          "model_module": "@jupyter-widgets/controls",
          "model_name": "ProgressStyleModel",
          "state": {
            "_view_name": "StyleView",
            "_model_name": "ProgressStyleModel",
            "description_width": "initial",
            "_view_module": "@jupyter-widgets/base",
            "_model_module_version": "1.5.0",
            "_view_count": null,
            "_view_module_version": "1.2.0",
            "bar_color": null,
            "_model_module": "@jupyter-widgets/controls"
          }
        },
        "d346fabd235c41f8ad697d6fe441ee87": {
          "model_module": "@jupyter-widgets/base",
          "model_name": "LayoutModel",
          "state": {
            "_view_name": "LayoutView",
            "grid_template_rows": null,
            "right": null,
            "justify_content": null,
            "_view_module": "@jupyter-widgets/base",
            "overflow": null,
            "_model_module_version": "1.2.0",
            "_view_count": null,
            "flex_flow": null,
            "width": null,
            "min_width": null,
            "border": null,
            "align_items": null,
            "bottom": null,
            "_model_module": "@jupyter-widgets/base",
            "top": null,
            "grid_column": null,
            "overflow_y": null,
            "overflow_x": null,
            "grid_auto_flow": null,
            "grid_area": null,
            "grid_template_columns": null,
            "flex": null,
            "_model_name": "LayoutModel",
            "justify_items": null,
            "grid_row": null,
            "max_height": null,
            "align_content": null,
            "visibility": null,
            "align_self": null,
            "height": null,
            "min_height": null,
            "padding": null,
            "grid_auto_rows": null,
            "grid_gap": null,
            "max_width": null,
            "order": null,
            "_view_module_version": "1.2.0",
            "grid_template_areas": null,
            "object_position": null,
            "object_fit": null,
            "grid_auto_columns": null,
            "margin": null,
            "display": null,
            "left": null
          }
        },
        "a65f73cf1954406284108af5ca3d3e34": {
          "model_module": "@jupyter-widgets/controls",
          "model_name": "DescriptionStyleModel",
          "state": {
            "_view_name": "StyleView",
            "_model_name": "DescriptionStyleModel",
            "description_width": "",
            "_view_module": "@jupyter-widgets/base",
            "_model_module_version": "1.5.0",
            "_view_count": null,
            "_view_module_version": "1.2.0",
            "_model_module": "@jupyter-widgets/controls"
          }
        },
        "6ee5e7bd00234e1ca02baced8b2b9452": {
          "model_module": "@jupyter-widgets/base",
          "model_name": "LayoutModel",
          "state": {
            "_view_name": "LayoutView",
            "grid_template_rows": null,
            "right": null,
            "justify_content": null,
            "_view_module": "@jupyter-widgets/base",
            "overflow": null,
            "_model_module_version": "1.2.0",
            "_view_count": null,
            "flex_flow": null,
            "width": null,
            "min_width": null,
            "border": null,
            "align_items": null,
            "bottom": null,
            "_model_module": "@jupyter-widgets/base",
            "top": null,
            "grid_column": null,
            "overflow_y": null,
            "overflow_x": null,
            "grid_auto_flow": null,
            "grid_area": null,
            "grid_template_columns": null,
            "flex": null,
            "_model_name": "LayoutModel",
            "justify_items": null,
            "grid_row": null,
            "max_height": null,
            "align_content": null,
            "visibility": null,
            "align_self": null,
            "height": null,
            "min_height": null,
            "padding": null,
            "grid_auto_rows": null,
            "grid_gap": null,
            "max_width": null,
            "order": null,
            "_view_module_version": "1.2.0",
            "grid_template_areas": null,
            "object_position": null,
            "object_fit": null,
            "grid_auto_columns": null,
            "margin": null,
            "display": null,
            "left": null
          }
        }
      }
    },
    "accelerator": "GPU"
  },
  "cells": [
    {
      "cell_type": "markdown",
      "metadata": {
        "id": "view-in-github",
        "colab_type": "text"
      },
      "source": [
        "<a href=\"https://colab.research.google.com/github/Orasz/CNN4COVID19/blob/main/resnetConfusionMatrixFinal\" target=\"_parent\"><img src=\"https://colab.research.google.com/assets/colab-badge.svg\" alt=\"Open In Colab\"/></a>"
      ]
    },
    {
      "cell_type": "code",
      "metadata": {
        "id": "0ghNYfOAsiGy",
        "colab": {
          "base_uri": "https://localhost:8080/"
        },
        "outputId": "b0e4a6f8-3cd6-47c2-80f7-3d8f4a99ea75"
      },
      "source": [
        "from google.colab import drive\r\n",
        "drive.mount('/content/gdrive', force_remount=True)"
      ],
      "execution_count": 2,
      "outputs": [
        {
          "output_type": "stream",
          "text": [
            "Mounted at /content/gdrive\n"
          ],
          "name": "stdout"
        }
      ]
    },
    {
      "cell_type": "code",
      "metadata": {
        "colab": {
          "base_uri": "https://localhost:8080/"
        },
        "id": "-asMgFoDtKpe",
        "outputId": "79715270-98b3-4fcb-bed3-dc8e9bfcc504"
      },
      "source": [
        "from __future__ import print_function, division\r\n",
        "\r\n",
        "import torch\r\n",
        "import torch.nn as nn\r\n",
        "import torch.optim as optim\r\n",
        "from torch.optim import lr_scheduler\r\n",
        "import numpy as np\r\n",
        "import torchvision\r\n",
        "from torchvision import datasets, models, transforms\r\n",
        "import matplotlib.pyplot as plt\r\n",
        "import time\r\n",
        "import os\r\n",
        "import copy\r\n",
        "\r\n",
        "plt.ion()   # interactive mode\r\n",
        "print(\"done\")"
      ],
      "execution_count": 3,
      "outputs": [
        {
          "output_type": "stream",
          "text": [
            "done\n"
          ],
          "name": "stdout"
        }
      ]
    },
    {
      "cell_type": "code",
      "metadata": {
        "colab": {
          "base_uri": "https://localhost:8080/"
        },
        "id": "llkTQQ-wtSAg",
        "outputId": "7440483c-3e99-4d57-eec8-126af0f2cb73"
      },
      "source": [
        "# Data augmentation and normalization for training\r\n",
        "# Just normalization for validation\r\n",
        "\r\n",
        "data_transforms_xray = {\r\n",
        "    'train': transforms.Compose([\r\n",
        "        transforms.Resize(256),\r\n",
        "        transforms.CenterCrop(224),\r\n",
        "        transforms.ToTensor(),\r\n",
        "        transforms.Normalize([0.485, 0.456, 0.406], [0.229, 0.224, 0.225])\r\n",
        "    ]),\r\n",
        "    'val': transforms.Compose([\r\n",
        "        transforms.Resize(256),\r\n",
        "        transforms.CenterCrop(224),\r\n",
        "        transforms.ToTensor(),\r\n",
        "        transforms.Normalize([0.485, 0.456, 0.406], [0.229, 0.224, 0.225])\r\n",
        "    ]),\r\n",
        "        'test': transforms.Compose([\r\n",
        "        transforms.Resize(256),\r\n",
        "        transforms.CenterCrop(224),\r\n",
        "        transforms.ToTensor(),\r\n",
        "        transforms.Normalize([0.485, 0.456, 0.406], [0.229, 0.224, 0.225])\r\n",
        "    ])\r\n",
        "}\r\n",
        "\r\n",
        "data_dir = 'gdrive/MyDrive/datasetQaTa/'\r\n",
        "image_datasets = {x: datasets.ImageFolder(os.path.join(data_dir, x),\r\n",
        "                                          data_transforms_xray[x])\r\n",
        "                  for x in ['train', 'val']}\r\n",
        "#aumenta batch size \r\n",
        "dataloaders = {x: torch.utils.data.DataLoader(image_datasets[x], batch_size=16,\r\n",
        "                                             shuffle=True, num_workers=4)\r\n",
        "              for x in ['train', 'val']}\r\n",
        "dataset_sizes = {x: len(image_datasets[x]) for x in ['train', 'val']}\r\n",
        "print(\"Dataset sizes: {}\".format(dataset_sizes))\r\n",
        "class_names = image_datasets['train'].classes\r\n",
        "\r\n",
        "device = torch.device(\"cuda:0\" if torch.cuda.is_available() else \"cpu\")\r\n",
        "print(\"using device: {}\".format(device))\r\n",
        "\r\n",
        "\r\n"
      ],
      "execution_count": 5,
      "outputs": [
        {
          "output_type": "stream",
          "text": [
            "Dataset sizes: {'train': 7375, 'val': 940}\n",
            "using device: cuda:0\n"
          ],
          "name": "stdout"
        }
      ]
    },
    {
      "cell_type": "code",
      "metadata": {
        "colab": {
          "base_uri": "https://localhost:8080/"
        },
        "id": "7X-WMrDLxU_A",
        "outputId": "b045224c-65c1-4733-d66b-17c768aad27f"
      },
      "source": [
        "def train_model(model, criterion, optimizer, scheduler, num_epochs=25):\r\n",
        "    since = time.time()\r\n",
        "\r\n",
        "    best_model_wts = copy.deepcopy(model.state_dict())\r\n",
        "    best_acc = 0.0\r\n",
        "\r\n",
        "    for epoch in range(num_epochs):\r\n",
        "        print('Epoch {}/{}'.format(epoch, num_epochs - 1))\r\n",
        "        print('-' * 10)\r\n",
        "        t1 = time.time()\r\n",
        "\r\n",
        "        # Each epoch has a training and validation phase\r\n",
        "        for phase in ['train', 'val']:\r\n",
        "            if phase == 'train':\r\n",
        "                model.train()  # Set model to training mode\r\n",
        "            else:\r\n",
        "                model.eval()   # Set model to evaluate mode\r\n",
        "\r\n",
        "            running_loss = 0.0\r\n",
        "            running_corrects = 0\r\n",
        "\r\n",
        "            # Iterate over data.\r\n",
        "            for inputs, labels in dataloaders[phase]:\r\n",
        "                inputs = inputs.to(device)\r\n",
        "                labels = labels.to(device)\r\n",
        "\r\n",
        "                # zero the parameter gradients\r\n",
        "                optimizer.zero_grad()\r\n",
        "\r\n",
        "                # forward\r\n",
        "                # track history if only in train\r\n",
        "                with torch.set_grad_enabled(phase == 'train'):\r\n",
        "                    outputs = model(inputs)\r\n",
        "                    _, preds = torch.max(outputs, 1)\r\n",
        "                    loss = criterion(outputs, labels)\r\n",
        "\r\n",
        "                    # backward + optimize only if in training phase\r\n",
        "                    if phase == 'train':\r\n",
        "                        loss.backward()\r\n",
        "                        optimizer.step()\r\n",
        "\r\n",
        "                # statistics\r\n",
        "                running_loss += loss.item() * inputs.size(0)\r\n",
        "                running_corrects += torch.sum(preds == labels.data)\r\n",
        "            if phase == 'train':\r\n",
        "                scheduler.step()\r\n",
        "\r\n",
        "            epoch_loss = running_loss / dataset_sizes[phase]\r\n",
        "            epoch_acc = running_corrects.double() / dataset_sizes[phase]\r\n",
        "\r\n",
        "            print('{} Loss: {:.4f} Acc: {:.4f}'.format(\r\n",
        "                phase, epoch_loss, epoch_acc))\r\n",
        "            t2 = time.time()\r\n",
        "            print('time:{}'.format(t2-t1))\r\n",
        "\r\n",
        "            # deep copy the model\r\n",
        "            if phase == 'val' and epoch_acc > best_acc:\r\n",
        "                best_acc = epoch_acc\r\n",
        "                best_model_wts = copy.deepcopy(model.state_dict())\r\n",
        "\r\n",
        "        print()\r\n",
        "\r\n",
        "    time_elapsed = time.time() - since\r\n",
        "    print('Training complete in {:.0f}m {:.0f}s'.format(\r\n",
        "        time_elapsed // 60, time_elapsed % 60))\r\n",
        "    print('Best val Acc: {:4f}'.format(best_acc))\r\n",
        "\r\n",
        "    # load best model weights\r\n",
        "    model.load_state_dict(best_model_wts)\r\n",
        "    return model\r\n",
        "\r\n",
        "print(\"done\")"
      ],
      "execution_count": 6,
      "outputs": [
        {
          "output_type": "stream",
          "text": [
            "done\n"
          ],
          "name": "stdout"
        }
      ]
    },
    {
      "cell_type": "code",
      "metadata": {
        "id": "DJQDBZcD9-s3",
        "colab": {
          "base_uri": "https://localhost:8080/"
        },
        "outputId": "905c39cd-0da1-4366-9b57-89139bed5327"
      },
      "source": [
        "#preparing dataloader for test\r\n",
        "image_datasets = {x: datasets.ImageFolder(os.path.join(data_dir, x),\r\n",
        "                                          data_transforms_xray[x])\r\n",
        "                  for x in ['train', 'val', 'test']}\r\n",
        "dataloaders = {x: torch.utils.data.DataLoader(image_datasets[x], batch_size=16,\r\n",
        "                                             shuffle=True, num_workers=4)\r\n",
        "              for x in ['train', 'val','test']}\r\n",
        "dataset_sizes = {x: len(image_datasets[x]) for x in ['train', 'val','test']}\r\n",
        "print(dataset_sizes)"
      ],
      "execution_count": 7,
      "outputs": [
        {
          "output_type": "stream",
          "text": [
            "{'train': 7375, 'val': 940, 'test': 912}\n"
          ],
          "name": "stdout"
        }
      ]
    },
    {
      "cell_type": "code",
      "metadata": {
        "id": "ylY1tGnp7NpF"
      },
      "source": [
        "def printcm(model):\r\n",
        "  confusion_matrixx = torch.zeros(2, 2)\r\n",
        "  with torch.no_grad():\r\n",
        "    for i, (inputs, classes) in enumerate(dataloaders['test']):\r\n",
        "        inputs = inputs.to(device)\r\n",
        "        classes = classes.to(device)\r\n",
        "        outputs = model_ft(inputs)\r\n",
        "        _, preds = torch.max(outputs, 1)\r\n",
        "        for t, p in zip(classes.view(-1), preds.view(-1)):\r\n",
        "                confusion_matrixx[t.long(), p.long()] += 1\r\n",
        "\r\n",
        "  print(confusion_matrixx)\r\n",
        "  return confusion_matrixx"
      ],
      "execution_count": 8,
      "outputs": []
    },
    {
      "cell_type": "code",
      "metadata": {
        "colab": {
          "base_uri": "https://localhost:8080/",
          "height": 348,
          "referenced_widgets": [
            "228b27c3b7894d89913071a5a6bd90dc",
            "2f5c7cf08afc4d38b6c49fb473923cb1",
            "a989ec799a5d470199278e272fd1d48e",
            "e1838eed8d264955ba3ff2ef86db2d41",
            "c6bb84e2dfdd4b75ba1b1efdfc1f23b5",
            "d346fabd235c41f8ad697d6fe441ee87",
            "a65f73cf1954406284108af5ca3d3e34",
            "6ee5e7bd00234e1ca02baced8b2b9452"
          ]
        },
        "id": "4gPpjiYezL9d",
        "outputId": "2f9e609d-5ecf-46bc-8455-4c7cddd6a4f3"
      },
      "source": [
        "#Dropout added in FC Layer, should it be added between each Conv.Layer as well/instead?\r\n",
        "model_ft = models.resnet50(pretrained=True)\r\n",
        "num_ftrs = model_ft.fc.in_features\r\n",
        "print(model_ft.fc)\r\n",
        "print(num_ftrs)\r\n",
        " \r\n",
        "#custom classifier layer for binary classification\r\n",
        "#Activation function used but results are the same with or without it.\r\n",
        "#It should be noted that in Library/Pytorch implementation of ResNet 50 the output of the fc layer is the final output, without calling softMax on it.\r\n",
        "model_ft.fc = nn.Sequential(\r\n",
        "    nn.Dropout(0.1),\r\n",
        "    nn.Linear(num_ftrs, 1024),\r\n",
        "    nn.ReLU(),\r\n",
        "    nn.Dropout(0.1),\r\n",
        "    nn.Linear(1024, 512),\r\n",
        "    nn.ReLU(),\r\n",
        "    nn.Dropout(0.1),\r\n",
        "    nn.Linear(512,2)\r\n",
        ")\r\n",
        "print(\"Fully connected layer after optimization:\")\r\n",
        "print(model_ft.fc)\r\n",
        "model_ft = model_ft.to(device)\r\n",
        "\r\n",
        "#CrossEntropyLoss works well, but for segmentation maybe FocalLoss is better\r\n",
        "criterion = nn.CrossEntropyLoss()\r\n",
        "\r\n",
        "#Settin learning reate to 10^-5, it should make the learning process more stable\r\n",
        "optimizer_adam = optim.Adam(model_ft.parameters(), lr=0.00001)\r\n",
        "\r\n",
        "# Decay LR by a factor of 0.1 every 7 epochs\r\n",
        "exp_lr_scheduler = lr_scheduler.StepLR(optimizer_adam, step_size=7, gamma=0.1)\r\n",
        "print(\"done\")"
      ],
      "execution_count": 9,
      "outputs": [
        {
          "output_type": "stream",
          "text": [
            "Downloading: \"https://download.pytorch.org/models/resnet50-19c8e357.pth\" to /root/.cache/torch/hub/checkpoints/resnet50-19c8e357.pth\n"
          ],
          "name": "stderr"
        },
        {
          "output_type": "display_data",
          "data": {
            "application/vnd.jupyter.widget-view+json": {
              "model_id": "228b27c3b7894d89913071a5a6bd90dc",
              "version_minor": 0,
              "version_major": 2
            },
            "text/plain": [
              "HBox(children=(FloatProgress(value=0.0, max=102502400.0), HTML(value='')))"
            ]
          },
          "metadata": {
            "tags": []
          }
        },
        {
          "output_type": "stream",
          "text": [
            "\n",
            "Linear(in_features=2048, out_features=1000, bias=True)\n",
            "2048\n",
            "Fully connected layer after optimization:\n",
            "Sequential(\n",
            "  (0): Dropout(p=0.1, inplace=False)\n",
            "  (1): Linear(in_features=2048, out_features=1024, bias=True)\n",
            "  (2): ReLU()\n",
            "  (3): Dropout(p=0.1, inplace=False)\n",
            "  (4): Linear(in_features=1024, out_features=512, bias=True)\n",
            "  (5): ReLU()\n",
            "  (6): Dropout(p=0.1, inplace=False)\n",
            "  (7): Linear(in_features=512, out_features=2, bias=True)\n",
            ")\n",
            "done\n"
          ],
          "name": "stdout"
        }
      ]
    },
    {
      "cell_type": "code",
      "metadata": {
        "colab": {
          "base_uri": "https://localhost:8080/"
        },
        "id": "PslNT7_qzRYZ",
        "outputId": "413b769e-69db-4ece-bb99-b57226cb79b4"
      },
      "source": [
        "model_ft = train_model(model_ft, criterion, optimizer_adam, exp_lr_scheduler,\r\n",
        "                       num_epochs=10)"
      ],
      "execution_count": 10,
      "outputs": [
        {
          "output_type": "stream",
          "text": [
            "Epoch 0/9\n",
            "----------\n",
            "train Loss: 0.2144 Acc: 0.9241\n",
            "time:516.0880224704742\n",
            "val Loss: 0.0483 Acc: 0.9819\n",
            "time:584.7886011600494\n",
            "\n",
            "Epoch 1/9\n",
            "----------\n",
            "train Loss: 0.0455 Acc: 0.9845\n",
            "time:85.17779922485352\n",
            "val Loss: 0.0413 Acc: 0.9840\n",
            "time:90.34135866165161\n",
            "\n",
            "Epoch 2/9\n",
            "----------\n",
            "train Loss: 0.0158 Acc: 0.9946\n",
            "time:84.91285705566406\n",
            "val Loss: 0.0420 Acc: 0.9872\n",
            "time:90.01942467689514\n",
            "\n",
            "Epoch 3/9\n",
            "----------\n",
            "train Loss: 0.0130 Acc: 0.9959\n",
            "time:84.82807421684265\n",
            "val Loss: 0.0311 Acc: 0.9894\n",
            "time:89.95633554458618\n",
            "\n",
            "Epoch 4/9\n",
            "----------\n",
            "train Loss: 0.0077 Acc: 0.9976\n",
            "time:84.63842701911926\n",
            "val Loss: 0.0538 Acc: 0.9809\n",
            "time:89.7621762752533\n",
            "\n",
            "Epoch 5/9\n",
            "----------\n",
            "train Loss: 0.0127 Acc: 0.9972\n",
            "time:84.75823664665222\n",
            "val Loss: 0.0559 Acc: 0.9787\n",
            "time:89.78775191307068\n",
            "\n",
            "Epoch 6/9\n",
            "----------\n",
            "train Loss: 0.0049 Acc: 0.9984\n",
            "time:84.41618871688843\n",
            "val Loss: 0.0377 Acc: 0.9872\n",
            "time:89.49421977996826\n",
            "\n",
            "Epoch 7/9\n",
            "----------\n",
            "train Loss: 0.0021 Acc: 0.9995\n",
            "time:84.83736228942871\n",
            "val Loss: 0.0769 Acc: 0.9787\n",
            "time:89.9007728099823\n",
            "\n",
            "Epoch 8/9\n",
            "----------\n",
            "train Loss: 0.0009 Acc: 1.0000\n",
            "time:84.51585721969604\n",
            "val Loss: 0.0311 Acc: 0.9894\n",
            "time:89.63732671737671\n",
            "\n",
            "Epoch 9/9\n",
            "----------\n",
            "train Loss: 0.0014 Acc: 0.9995\n",
            "time:84.76644802093506\n",
            "val Loss: 0.0397 Acc: 0.9894\n",
            "time:89.86771774291992\n",
            "\n",
            "Training complete in 23m 14s\n",
            "Best val Acc: 0.989362\n"
          ],
          "name": "stdout"
        }
      ]
    },
    {
      "cell_type": "code",
      "metadata": {
        "id": "6R1iPYN7NIqf"
      },
      "source": [
        "#Save model to avoid training every time\r\n",
        "model_ft_save_name = 'resnet10epochs.pt'\r\n",
        "path = 'gdrive/MyDrive/models/{model_ft_save_name}'\r\n",
        "torch.save(model_ft.state_dict(), path)"
      ],
      "execution_count": 11,
      "outputs": []
    },
    {
      "cell_type": "code",
      "metadata": {
        "id": "kttO8x-lN0Ew"
      },
      "source": [
        "#Code to load the model\r\n",
        "model_ft_save_name = 'resnet10epochs.pt'\r\n",
        "path = F\"/content/gdrive/My Drive/{model_ft_save_name}\"\r\n",
        "model.load_state_dict(torch.load(path))"
      ],
      "execution_count": null,
      "outputs": []
    },
    {
      "cell_type": "code",
      "metadata": {
        "id": "Lw8brTTJFUE5",
        "outputId": "047c965d-5b4f-4d2e-e6d7-4f920d0a44fe",
        "colab": {
          "base_uri": "https://localhost:8080/"
        }
      },
      "source": [
        "cm = printcm(model_ft)\r\n",
        "\r\n"
      ],
      "execution_count": 14,
      "outputs": [
        {
          "output_type": "stream",
          "text": [
            "tensor([[454.,   2.],\n",
            "        [  0., 456.]])\n"
          ],
          "name": "stdout"
        }
      ]
    },
    {
      "cell_type": "code",
      "metadata": {
        "id": "9vNqjck5Qe-E"
      },
      "source": [
        "import itertools\r\n",
        "import numpy as np\r\n",
        "import matplotlib.pyplot as plt\r\n",
        "\r\n",
        "def plot_confusion_matrix(cm, classes, normalize=False, title='Confusion matrix', cmap=plt.cm.Blues):\r\n",
        "    if normalize:\r\n",
        "        cm = cm.astype('float') / cm.sum(axis=1)[:, np.newaxis]\r\n",
        "        print(\"Normalized confusion matrix\")\r\n",
        "    else:\r\n",
        "        print('Confusion matrix, without normalization')\r\n",
        "\r\n",
        "    print(cm)\r\n",
        "    plt.imshow(cm, interpolation='nearest', cmap=cmap)\r\n",
        "    plt.title(title)\r\n",
        "    plt.colorbar()\r\n",
        "    tick_marks = np.arange(len(classes))\r\n",
        "    plt.xticks(tick_marks, classes, rotation=45)\r\n",
        "    plt.yticks(tick_marks, classes)\r\n",
        "\r\n",
        "    fmt = '.2f'\r\n",
        "    thresh = cm.max() / 2.\r\n",
        "    for i, j in itertools.product(range(cm.shape[0]), range(cm.shape[1])):\r\n",
        "        plt.text(j, i, format(cm[i, j], fmt), horizontalalignment=\"center\", color=\"white\" if cm[i, j] > thresh else \"black\")\r\n",
        "\r\n",
        "    plt.tight_layout()\r\n",
        "    plt.ylabel('True label')\r\n",
        "    plt.xlabel('Predicted label')"
      ],
      "execution_count": 20,
      "outputs": []
    },
    {
      "cell_type": "code",
      "metadata": {
        "id": "vr3hBzHrQg5h",
        "outputId": "165c035c-835c-418a-cf0d-732705672c48",
        "colab": {
          "base_uri": "https://localhost:8080/",
          "height": 641
        }
      },
      "source": [
        "plt.figure(figsize=(8,8))\r\n",
        "plot_confusion_matrix(cm,image_datasets['test'].classes)"
      ],
      "execution_count": 22,
      "outputs": [
        {
          "output_type": "stream",
          "text": [
            "Confusion matrix, without normalization\n",
            "tensor([[454.,   2.],\n",
            "        [  0., 456.]])\n"
          ],
          "name": "stdout"
        },
        {
          "output_type": "display_data",
          "data": {
            "image/png": "[encoded data removed]",
            "text/plain": [
              "<Figure size 576x576 with 2 Axes>"
            ]
          },
          "metadata": {
            "tags": [],
            "needs_background": "light"
          }
        }
      ]
    }
  ]
}
