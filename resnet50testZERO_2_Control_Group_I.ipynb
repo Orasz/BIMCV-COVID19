{
  "nbformat": 4,
  "nbformat_minor": 0,
  "metadata": {
    "colab": {
      "name": "TransferLearningTutorial",
      "provenance": [],
      "include_colab_link": true
    },
    "kernelspec": {
      "name": "python3",
      "display_name": "Python 3"
    },
    "accelerator": "GPU",
    "widgets": {
      "application/vnd.jupyter.widget-state+json": {
        "af23f0dcca7a4c57afd60d80bc94261e": {
          "model_module": "@jupyter-widgets/controls",
          "model_name": "HBoxModel",
          "state": {
            "_view_name": "HBoxView",
            "_dom_classes": [],
            "_model_name": "HBoxModel",
            "_view_module": "@jupyter-widgets/controls",
            "_model_module_version": "1.5.0",
            "_view_count": null,
            "_view_module_version": "1.5.0",
            "box_style": "",
            "layout": "IPY_MODEL_6de635a0e2c34142bff288c8af6501db",
            "_model_module": "@jupyter-widgets/controls",
            "children": [
              "IPY_MODEL_27757085675f435eb629469d360cac6f",
              "IPY_MODEL_719438dcf578455dabc4c7b7c088d0fd"
            ]
          }
        },
        "6de635a0e2c34142bff288c8af6501db": {
          "model_module": "@jupyter-widgets/base",
          "model_name": "LayoutModel",
          "state": {
            "_view_name": "LayoutView",
            "grid_template_rows": null,
            "right": null,
            "justify_content": null,
            "_view_module": "@jupyter-widgets/base",
            "overflow": null,
            "_model_module_version": "1.2.0",
            "_view_count": null,
            "flex_flow": null,
            "width": null,
            "min_width": null,
            "border": null,
            "align_items": null,
            "bottom": null,
            "_model_module": "@jupyter-widgets/base",
            "top": null,
            "grid_column": null,
            "overflow_y": null,
            "overflow_x": null,
            "grid_auto_flow": null,
            "grid_area": null,
            "grid_template_columns": null,
            "flex": null,
            "_model_name": "LayoutModel",
            "justify_items": null,
            "grid_row": null,
            "max_height": null,
            "align_content": null,
            "visibility": null,
            "align_self": null,
            "height": null,
            "min_height": null,
            "padding": null,
            "grid_auto_rows": null,
            "grid_gap": null,
            "max_width": null,
            "order": null,
            "_view_module_version": "1.2.0",
            "grid_template_areas": null,
            "object_position": null,
            "object_fit": null,
            "grid_auto_columns": null,
            "margin": null,
            "display": null,
            "left": null
          }
        },
        "27757085675f435eb629469d360cac6f": {
          "model_module": "@jupyter-widgets/controls",
          "model_name": "FloatProgressModel",
          "state": {
            "_view_name": "ProgressView",
            "style": "IPY_MODEL_4893a90b70ae4295ad08f8afd03be44f",
            "_dom_classes": [],
            "description": "100%",
            "_model_name": "FloatProgressModel",
            "bar_style": "success",
            "max": 102502400,
            "_view_module": "@jupyter-widgets/controls",
            "_model_module_version": "1.5.0",
            "value": 102502400,
            "_view_count": null,
            "_view_module_version": "1.5.0",
            "orientation": "horizontal",
            "min": 0,
            "description_tooltip": null,
            "_model_module": "@jupyter-widgets/controls",
            "layout": "IPY_MODEL_705691ecd39c4115b9d4cb29dac7e159"
          }
        },
        "719438dcf578455dabc4c7b7c088d0fd": {
          "model_module": "@jupyter-widgets/controls",
          "model_name": "HTMLModel",
          "state": {
            "_view_name": "HTMLView",
            "style": "IPY_MODEL_cc938439a75c4045a888eea3d64b5843",
            "_dom_classes": [],
            "description": "",
            "_model_name": "HTMLModel",
            "placeholder": "​",
            "_view_module": "@jupyter-widgets/controls",
            "_model_module_version": "1.5.0",
            "value": " 97.8M/97.8M [01:15&lt;00:00, 1.35MB/s]",
            "_view_count": null,
            "_view_module_version": "1.5.0",
            "description_tooltip": null,
            "_model_module": "@jupyter-widgets/controls",
            "layout": "IPY_MODEL_989b05e22ca745b5b74cc25c51343be8"
          }
        },
        "4893a90b70ae4295ad08f8afd03be44f": {
          "model_module": "@jupyter-widgets/controls",
          "model_name": "ProgressStyleModel",
          "state": {
            "_view_name": "StyleView",
            "_model_name": "ProgressStyleModel",
            "description_width": "initial",
            "_view_module": "@jupyter-widgets/base",
            "_model_module_version": "1.5.0",
            "_view_count": null,
            "_view_module_version": "1.2.0",
            "bar_color": null,
            "_model_module": "@jupyter-widgets/controls"
          }
        },
        "705691ecd39c4115b9d4cb29dac7e159": {
          "model_module": "@jupyter-widgets/base",
          "model_name": "LayoutModel",
          "state": {
            "_view_name": "LayoutView",
            "grid_template_rows": null,
            "right": null,
            "justify_content": null,
            "_view_module": "@jupyter-widgets/base",
            "overflow": null,
            "_model_module_version": "1.2.0",
            "_view_count": null,
            "flex_flow": null,
            "width": null,
            "min_width": null,
            "border": null,
            "align_items": null,
            "bottom": null,
            "_model_module": "@jupyter-widgets/base",
            "top": null,
            "grid_column": null,
            "overflow_y": null,
            "overflow_x": null,
            "grid_auto_flow": null,
            "grid_area": null,
            "grid_template_columns": null,
            "flex": null,
            "_model_name": "LayoutModel",
            "justify_items": null,
            "grid_row": null,
            "max_height": null,
            "align_content": null,
            "visibility": null,
            "align_self": null,
            "height": null,
            "min_height": null,
            "padding": null,
            "grid_auto_rows": null,
            "grid_gap": null,
            "max_width": null,
            "order": null,
            "_view_module_version": "1.2.0",
            "grid_template_areas": null,
            "object_position": null,
            "object_fit": null,
            "grid_auto_columns": null,
            "margin": null,
            "display": null,
            "left": null
          }
        },
        "cc938439a75c4045a888eea3d64b5843": {
          "model_module": "@jupyter-widgets/controls",
          "model_name": "DescriptionStyleModel",
          "state": {
            "_view_name": "StyleView",
            "_model_name": "DescriptionStyleModel",
            "description_width": "",
            "_view_module": "@jupyter-widgets/base",
            "_model_module_version": "1.5.0",
            "_view_count": null,
            "_view_module_version": "1.2.0",
            "_model_module": "@jupyter-widgets/controls"
          }
        },
        "989b05e22ca745b5b74cc25c51343be8": {
          "model_module": "@jupyter-widgets/base",
          "model_name": "LayoutModel",
          "state": {
            "_view_name": "LayoutView",
            "grid_template_rows": null,
            "right": null,
            "justify_content": null,
            "_view_module": "@jupyter-widgets/base",
            "overflow": null,
            "_model_module_version": "1.2.0",
            "_view_count": null,
            "flex_flow": null,
            "width": null,
            "min_width": null,
            "border": null,
            "align_items": null,
            "bottom": null,
            "_model_module": "@jupyter-widgets/base",
            "top": null,
            "grid_column": null,
            "overflow_y": null,
            "overflow_x": null,
            "grid_auto_flow": null,
            "grid_area": null,
            "grid_template_columns": null,
            "flex": null,
            "_model_name": "LayoutModel",
            "justify_items": null,
            "grid_row": null,
            "max_height": null,
            "align_content": null,
            "visibility": null,
            "align_self": null,
            "height": null,
            "min_height": null,
            "padding": null,
            "grid_auto_rows": null,
            "grid_gap": null,
            "max_width": null,
            "order": null,
            "_view_module_version": "1.2.0",
            "grid_template_areas": null,
            "object_position": null,
            "object_fit": null,
            "grid_auto_columns": null,
            "margin": null,
            "display": null,
            "left": null
          }
        }
      }
    }
  },
  "cells": [
    {
      "cell_type": "markdown",
      "metadata": {
        "id": "view-in-github",
        "colab_type": "text"
      },
      "source": [
        "<a href=\"https://colab.research.google.com/github/Orasz/BIMCV-COVID19/blob/main/resnet50testZERO_2_Control_Group_I.ipynb\" target=\"_parent\"><img src=\"https://colab.research.google.com/assets/colab-badge.svg\" alt=\"Open In Colab\"/></a>"
      ]
    },
    {
      "cell_type": "markdown",
      "metadata": {
        "id": "Y5hCYn_pEoMX"
      },
      "source": [
        "example of Transfer Learning using QaTa-COV19 dataset."
      ]
    },
    {
      "cell_type": "code",
      "metadata": {
        "colab": {
          "base_uri": "https://localhost:8080/"
        },
        "id": "0E5MnR02HH3x",
        "outputId": "0b8cc463-d3d8-418a-f4ae-ed19fab0c6f7"
      },
      "source": [
        "from google.colab import drive\r\n",
        "drive.mount('/content/gdrive', force_remount=True)\r\n"
      ],
      "execution_count": 1,
      "outputs": [
        {
          "output_type": "stream",
          "text": [
            "Mounted at /content/gdrive\n"
          ],
          "name": "stdout"
        }
      ]
    },
    {
      "cell_type": "code",
      "metadata": {
        "id": "PvVEnw9KtLLV",
        "colab": {
          "base_uri": "https://localhost:8080/"
        },
        "outputId": "77d6ea6a-2615-4457-e41e-e489fb944949"
      },
      "source": [
        "from __future__ import print_function, division\r\n",
        "\r\n",
        "import torch\r\n",
        "import torch.nn as nn\r\n",
        "import torch.optim as optim\r\n",
        "from torch.optim import lr_scheduler\r\n",
        "import numpy as np\r\n",
        "import torchvision\r\n",
        "from torchvision import datasets, models, transforms\r\n",
        "import matplotlib.pyplot as plt\r\n",
        "import time\r\n",
        "import os\r\n",
        "import copy\r\n",
        "\r\n",
        "plt.ion()   # interactive mode\r\n",
        "print(\"done\")"
      ],
      "execution_count": 2,
      "outputs": [
        {
          "output_type": "stream",
          "text": [
            "done\n"
          ],
          "name": "stdout"
        }
      ]
    },
    {
      "cell_type": "code",
      "metadata": {
        "id": "ELnF4WInFS7g",
        "colab": {
          "base_uri": "https://localhost:8080/"
        },
        "outputId": "a180f235-a489-423d-e96e-895050f6a0a2"
      },
      "source": [
        "# Data augmentation and normalization for training\n",
        "# Just normalization for validation\n",
        "\n",
        "data_transforms_xray = {\n",
        "    'train': transforms.Compose([\n",
        "        transforms.Resize(256),\n",
        "        transforms.CenterCrop(224),\n",
        "        transforms.ToTensor(),\n",
        "        transforms.Normalize([0.485, 0.456, 0.406], [0.229, 0.224, 0.225])\n",
        "    ]),\n",
        "    'val': transforms.Compose([\n",
        "        transforms.Resize(256),\n",
        "        transforms.CenterCrop(224),\n",
        "        transforms.ToTensor(),\n",
        "        transforms.Normalize([0.485, 0.456, 0.406], [0.229, 0.224, 0.225])\n",
        "    ]),\n",
        "}\n",
        "\n",
        "data_dir = 'gdrive/MyDrive/ResNetCovidTest2/'\n",
        "image_datasets = {x: datasets.ImageFolder(os.path.join(data_dir, x),\n",
        "                                          data_transforms_xray[x])\n",
        "                  for x in ['train', 'val']}\n",
        "#aumenta batch size \n",
        "dataloaders = {x: torch.utils.data.DataLoader(image_datasets[x], batch_size=8,\n",
        "                                             shuffle=True, num_workers=4)\n",
        "              for x in ['train', 'val']}\n",
        "dataset_sizes = {x: len(image_datasets[x]) for x in ['train', 'val']}\n",
        "class_names = image_datasets['train'].classes\n",
        "\n",
        "device = torch.device(\"cuda:0\" if torch.cuda.is_available() else \"cpu\")\n",
        "print(\"using device: {}\".format(device))"
      ],
      "execution_count": 4,
      "outputs": [
        {
          "output_type": "stream",
          "text": [
            "using device: cuda:0\n"
          ],
          "name": "stdout"
        }
      ]
    },
    {
      "cell_type": "code",
      "metadata": {
        "colab": {
          "base_uri": "https://localhost:8080/",
          "height": 106
        },
        "id": "9Uyv-fguJBCX",
        "outputId": "93cf7919-ddba-44a6-f487-1242564d4d84"
      },
      "source": [
        "def imshow(inp, title=None):\r\n",
        "    \"\"\"Imshow for Tensor.\"\"\"\r\n",
        "    inp = inp.numpy().transpose((1, 2, 0))\r\n",
        "    mean = np.array([0.485, 0.456, 0.406])\r\n",
        "    std = np.array([0.229, 0.224, 0.225])\r\n",
        "    inp = std * inp + mean\r\n",
        "    inp = np.clip(inp, 0, 1)\r\n",
        "    plt.imshow(inp)\r\n",
        "    if title is not None:\r\n",
        "        plt.title(title)\r\n",
        "    plt.pause(0.001)  # pause a bit so that plots are updated\r\n",
        "\r\n",
        "\r\n",
        "# Get a batch of training data\r\n",
        "inputs, classes = next(iter(dataloaders['train']))\r\n",
        "\r\n",
        "# Make a grid from batch\r\n",
        "out = torchvision.utils.make_grid(inputs)\r\n",
        "\r\n",
        "imshow(out, title=[class_names[x] for x in classes])"
      ],
      "execution_count": 5,
      "outputs": [
        {
          "output_type": "display_data",
          "data": {
            "image/png": "[encoded data removed]",
            "text/plain": [
              "<Figure size 432x288 with 1 Axes>"
            ]
          },
          "metadata": {
            "tags": [],
            "needs_background": "light"
          }
        }
      ]
    },
    {
      "cell_type": "code",
      "metadata": {
        "id": "HfKmN4woNEZR",
        "colab": {
          "base_uri": "https://localhost:8080/"
        },
        "outputId": "fa86d1f2-8e95-42b4-ca73-2ee68ed9f751"
      },
      "source": [
        "#Custom ResNet50 in order to add dropout regolarization\r\n",
        "class ResNet(nn.Module):\r\n",
        "    def __init__(self, num_classes = 2, classify=True):\r\n",
        "        super(ResNet, self).__init__()\r\n",
        "        self.model = torchvision.models.resnet50(pretrained=True)\r\n",
        "        self.name = 'resnet'\r\n",
        "        expansion = 4\r\n",
        "        self.classify = classify\r\n",
        "        if self.classify:\r\n",
        "            self.classifier = nn.Linear(512 * expansion, num_classes)\r\n",
        "\r\n",
        "    def forward(self, x):\r\n",
        "        x = self.model.conv1(x)\r\n",
        "        x = self.model.bn1(x)\r\n",
        "        x = self.model.relu(x)\r\n",
        "        x = self.model.maxpool(x)\r\n",
        "\r\n",
        "        x = self.model.layer1(x)\r\n",
        "        x = self.model.layer2(x)\r\n",
        "        x = self.model.layer3(x)\r\n",
        "        x = self.model.layer4(x)\r\n",
        "\r\n",
        "        x = self.model.avgpool(x)\r\n",
        "        x = torch.flatten(x, 1)\r\n",
        "\r\n",
        "        if self.classify:\r\n",
        "            x = self.classifier(x)\r\n",
        "        x = self.dropout(0.2)\r\n",
        "\r\n",
        "        return x\r\n",
        "\r\n",
        "print(\"done\")"
      ],
      "execution_count": 6,
      "outputs": [
        {
          "output_type": "stream",
          "text": [
            "done\n"
          ],
          "name": "stdout"
        }
      ]
    },
    {
      "cell_type": "code",
      "metadata": {
        "id": "KZU4jJ1WJrzT",
        "colab": {
          "base_uri": "https://localhost:8080/"
        },
        "outputId": "960eb385-6133-43cf-84e3-7bb68628234a"
      },
      "source": [
        "def train_model(model, criterion, optimizer, scheduler, num_epochs=25):\r\n",
        "    since = time.time()\r\n",
        "\r\n",
        "    best_model_wts = copy.deepcopy(model.state_dict())\r\n",
        "    best_acc = 0.0\r\n",
        "\r\n",
        "    for epoch in range(num_epochs):\r\n",
        "        print('Epoch {}/{}'.format(epoch, num_epochs - 1))\r\n",
        "        print('-' * 10)\r\n",
        "        t1 = time.time()\r\n",
        "\r\n",
        "        # Each epoch has a training and validation phase\r\n",
        "        for phase in ['train', 'val']:\r\n",
        "            if phase == 'train':\r\n",
        "                model.train()  # Set model to training mode\r\n",
        "            else:\r\n",
        "                model.eval()   # Set model to evaluate mode\r\n",
        "\r\n",
        "            running_loss = 0.0\r\n",
        "            running_corrects = 0\r\n",
        "\r\n",
        "            # Iterate over data.\r\n",
        "            for inputs, labels in dataloaders[phase]:\r\n",
        "                inputs = inputs.to(device)\r\n",
        "                labels = labels.to(device)\r\n",
        "\r\n",
        "                # zero the parameter gradients\r\n",
        "                optimizer.zero_grad()\r\n",
        "\r\n",
        "                # forward\r\n",
        "                # track history if only in train\r\n",
        "                with torch.set_grad_enabled(phase == 'train'):\r\n",
        "                    outputs = model(inputs)\r\n",
        "                    _, preds = torch.max(outputs, 1)\r\n",
        "                    loss = criterion(outputs, labels)\r\n",
        "\r\n",
        "                    # backward + optimize only if in training phase\r\n",
        "                    if phase == 'train':\r\n",
        "                        loss.backward()\r\n",
        "                        optimizer.step()\r\n",
        "\r\n",
        "                # statistics\r\n",
        "                running_loss += loss.item() * inputs.size(0)\r\n",
        "                running_corrects += torch.sum(preds == labels.data)\r\n",
        "            if phase == 'train':\r\n",
        "                scheduler.step()\r\n",
        "\r\n",
        "            epoch_loss = running_loss / dataset_sizes[phase]\r\n",
        "            epoch_acc = running_corrects.double() / dataset_sizes[phase]\r\n",
        "\r\n",
        "            print('{} Loss: {:.4f} Acc: {:.4f}'.format(\r\n",
        "                phase, epoch_loss, epoch_acc))\r\n",
        "            t2 = time.time()\r\n",
        "            print('time:{}'.format(t2-t1))\r\n",
        "\r\n",
        "            # deep copy the model\r\n",
        "            if phase == 'val' and epoch_acc > best_acc:\r\n",
        "                best_acc = epoch_acc\r\n",
        "                best_model_wts = copy.deepcopy(model.state_dict())\r\n",
        "\r\n",
        "        print()\r\n",
        "\r\n",
        "    time_elapsed = time.time() - since\r\n",
        "    print('Training complete in {:.0f}m {:.0f}s'.format(\r\n",
        "        time_elapsed // 60, time_elapsed % 60))\r\n",
        "    print('Best val Acc: {:4f}'.format(best_acc))\r\n",
        "\r\n",
        "    # load best model weights\r\n",
        "    model.load_state_dict(best_model_wts)\r\n",
        "    return model\r\n",
        "\r\n",
        "print(\"done\")"
      ],
      "execution_count": 7,
      "outputs": [
        {
          "output_type": "stream",
          "text": [
            "done\n"
          ],
          "name": "stdout"
        }
      ]
    },
    {
      "cell_type": "code",
      "metadata": {
        "id": "vaAsYtVKKbR5",
        "colab": {
          "base_uri": "https://localhost:8080/"
        },
        "outputId": "c0e642f3-46c2-4d61-b722-d2926fad82cc"
      },
      "source": [
        "def visualize_model(model, num_images=6):\r\n",
        "    was_training = model.training\r\n",
        "    model.eval()\r\n",
        "    images_so_far = 0\r\n",
        "    fig = plt.figure()\r\n",
        "\r\n",
        "    with torch.no_grad():\r\n",
        "        for i, (inputs, labels) in enumerate(dataloaders['val']):\r\n",
        "            inputs = inputs.to(device)\r\n",
        "            labels = labels.to(device)\r\n",
        "\r\n",
        "            outputs = model(inputs)\r\n",
        "            _, preds = torch.max(outputs, 1)\r\n",
        "\r\n",
        "            for j in range(inputs.size()[0]):\r\n",
        "                images_so_far += 1\r\n",
        "                ax = plt.subplot(num_images//2, 2, images_so_far)\r\n",
        "                ax.axis('off')\r\n",
        "                ax.set_title('predicted: {}'.format(class_names[preds[j]]))\r\n",
        "                imshow(inputs.cpu().data[j])\r\n",
        "\r\n",
        "                if images_so_far == num_images:\r\n",
        "                    model.train(mode=was_training)\r\n",
        "                    return\r\n",
        "        model.train(mode=was_training)\r\n",
        "print(\"done\")"
      ],
      "execution_count": 8,
      "outputs": [
        {
          "output_type": "stream",
          "text": [
            "done\n"
          ],
          "name": "stdout"
        }
      ]
    },
    {
      "cell_type": "code",
      "metadata": {
        "id": "ho7yicXxKzG4",
        "colab": {
          "base_uri": "https://localhost:8080/",
          "height": 104,
          "referenced_widgets": [
            "af23f0dcca7a4c57afd60d80bc94261e",
            "6de635a0e2c34142bff288c8af6501db",
            "27757085675f435eb629469d360cac6f",
            "719438dcf578455dabc4c7b7c088d0fd",
            "4893a90b70ae4295ad08f8afd03be44f",
            "705691ecd39c4115b9d4cb29dac7e159",
            "cc938439a75c4045a888eea3d64b5843",
            "989b05e22ca745b5b74cc25c51343be8"
          ]
        },
        "outputId": "0ddea285-1ad6-499d-fa2c-e3d80a1c5efc"
      },
      "source": [
        "#N.B inserisci regolarizzazione/dropout\r\n",
        "model_ft = models.resnet50(pretrained=True)\r\n",
        "num_ftrs = model_ft.fc.in_features\r\n",
        "# Here the size of each output sample is set to 2.\r\n",
        "# Alternatively, it can be generalized to nn.Linear(num_ftrs, len(class_names)).\r\n",
        "#N.B. va aggiunto un dropout layer\r\n",
        "#classifier layer\r\n",
        "model_ft.fc = nn.Linear(num_ftrs, 2)\r\n",
        "\r\n",
        "model_ft = model_ft.to(device)\r\n",
        "\r\n",
        "criterion = nn.CrossEntropyLoss()\r\n",
        "\r\n",
        "# Observe that all parameters are being optimized\r\n",
        "#lr should be 0.001\r\n",
        "optimizer_ft = optim.SGD(model_ft.parameters(), lr=0.001, momentum=0.9)\r\n",
        "optimizer_adam = optim.Adam(model_ft.parameters(), lr=0.001)\r\n",
        "\r\n",
        "# Decay LR by a factor of 0.1 every 7 epochs\r\n",
        "exp_lr_scheduler = lr_scheduler.StepLR(optimizer_adam, step_size=7, gamma=0.1)\r\n",
        "print(\"done\")"
      ],
      "execution_count": 9,
      "outputs": [
        {
          "output_type": "stream",
          "text": [
            "Downloading: \"https://download.pytorch.org/models/resnet50-19c8e357.pth\" to /root/.cache/torch/hub/checkpoints/resnet50-19c8e357.pth\n"
          ],
          "name": "stderr"
        },
        {
          "output_type": "display_data",
          "data": {
            "application/vnd.jupyter.widget-view+json": {
              "model_id": "af23f0dcca7a4c57afd60d80bc94261e",
              "version_minor": 0,
              "version_major": 2
            },
            "text/plain": [
              "HBox(children=(FloatProgress(value=0.0, max=102502400.0), HTML(value='')))"
            ]
          },
          "metadata": {
            "tags": []
          }
        },
        {
          "output_type": "stream",
          "text": [
            "\n",
            "done\n"
          ],
          "name": "stdout"
        }
      ]
    },
    {
      "cell_type": "code",
      "metadata": {
        "colab": {
          "base_uri": "https://localhost:8080/"
        },
        "id": "7Sb56SZzK67R",
        "outputId": "49fece45-cbb9-438f-9dcf-eeca9c7c4445"
      },
      "source": [
        "model_ft = train_model(model_ft, criterion, optimizer_adam, exp_lr_scheduler,\r\n",
        "                       num_epochs=25)"
      ],
      "execution_count": 11,
      "outputs": [
        {
          "output_type": "stream",
          "text": [
            "Epoch 0/24\n",
            "----------\n",
            "train Loss: 0.5120 Acc: 0.7669\n",
            "time:231.06388902664185\n",
            "val Loss: 0.6457 Acc: 0.7636\n",
            "time:308.38526725769043\n",
            "\n",
            "Epoch 1/24\n",
            "----------\n",
            "train Loss: 0.3315 Acc: 0.8535\n",
            "time:46.85463190078735\n",
            "val Loss: 0.7270 Acc: 0.6646\n",
            "time:53.47824001312256\n",
            "\n",
            "Epoch 2/24\n",
            "----------\n",
            "train Loss: 0.3213 Acc: 0.8629\n",
            "time:46.23275184631348\n",
            "val Loss: 0.2079 Acc: 0.9224\n",
            "time:52.742509841918945\n",
            "\n",
            "Epoch 3/24\n",
            "----------\n",
            "train Loss: 0.2674 Acc: 0.8944\n",
            "time:46.28091859817505\n",
            "val Loss: 0.1893 Acc: 0.9242\n",
            "time:52.8634877204895\n",
            "\n",
            "Epoch 4/24\n",
            "----------\n",
            "train Loss: 0.2626 Acc: 0.8982\n",
            "time:46.42971158027649\n",
            "val Loss: 0.5645 Acc: 0.8189\n",
            "time:53.04340600967407\n",
            "\n",
            "Epoch 5/24\n",
            "----------\n",
            "train Loss: 0.2271 Acc: 0.9101\n",
            "time:46.29551339149475\n",
            "val Loss: 0.1763 Acc: 0.9349\n",
            "time:52.847895860672\n",
            "\n",
            "Epoch 6/24\n",
            "----------\n",
            "train Loss: 0.1836 Acc: 0.9311\n",
            "time:46.38954210281372\n",
            "val Loss: 1.1470 Acc: 0.6467\n",
            "time:53.02591323852539\n",
            "\n",
            "Epoch 7/24\n",
            "----------\n",
            "train Loss: 0.1283 Acc: 0.9559\n",
            "time:46.35808300971985\n",
            "val Loss: 0.0676 Acc: 0.9786\n",
            "time:53.04657435417175\n",
            "\n",
            "Epoch 8/24\n",
            "----------\n",
            "train Loss: 0.0851 Acc: 0.9688\n",
            "time:46.35670876502991\n",
            "val Loss: 0.0604 Acc: 0.9795\n",
            "time:52.907676696777344\n",
            "\n",
            "Epoch 9/24\n",
            "----------\n",
            "train Loss: 0.0634 Acc: 0.9778\n",
            "time:46.434335708618164\n",
            "val Loss: 0.0701 Acc: 0.9759\n",
            "time:53.068655490875244\n",
            "\n",
            "Epoch 10/24\n",
            "----------\n",
            "train Loss: 0.0764 Acc: 0.9755\n",
            "time:46.35057711601257\n",
            "val Loss: 0.0554 Acc: 0.9795\n",
            "time:52.99520540237427\n",
            "\n",
            "Epoch 11/24\n",
            "----------\n",
            "train Loss: 0.0589 Acc: 0.9784\n",
            "time:46.48814344406128\n",
            "val Loss: 0.0588 Acc: 0.9795\n",
            "time:53.08572340011597\n",
            "\n",
            "Epoch 12/24\n",
            "----------\n",
            "train Loss: 0.0523 Acc: 0.9834\n",
            "time:46.354196071624756\n",
            "val Loss: 0.0542 Acc: 0.9831\n",
            "time:53.11868143081665\n",
            "\n",
            "Epoch 13/24\n",
            "----------\n",
            "train Loss: 0.0489 Acc: 0.9834\n",
            "time:46.45023226737976\n",
            "val Loss: 0.0508 Acc: 0.9839\n",
            "time:52.98457169532776\n",
            "\n",
            "Epoch 14/24\n",
            "----------\n",
            "train Loss: 0.0266 Acc: 0.9912\n",
            "time:46.403390884399414\n",
            "val Loss: 0.0565 Acc: 0.9795\n",
            "time:52.887104749679565\n",
            "\n",
            "Epoch 15/24\n",
            "----------\n",
            "train Loss: 0.0311 Acc: 0.9910\n",
            "time:46.3763062953949\n",
            "val Loss: 0.0410 Acc: 0.9866\n",
            "time:52.8464252948761\n",
            "\n",
            "Epoch 16/24\n",
            "----------\n",
            "train Loss: 0.0184 Acc: 0.9947\n",
            "time:46.24761128425598\n",
            "val Loss: 0.0408 Acc: 0.9866\n",
            "time:52.721596479415894\n",
            "\n",
            "Epoch 17/24\n",
            "----------\n",
            "train Loss: 0.0190 Acc: 0.9945\n",
            "time:46.371673345565796\n",
            "val Loss: 0.0383 Acc: 0.9875\n",
            "time:52.87186622619629\n",
            "\n",
            "Epoch 18/24\n",
            "----------\n",
            "train Loss: 0.0212 Acc: 0.9939\n",
            "time:46.321467876434326\n",
            "val Loss: 0.0400 Acc: 0.9875\n",
            "time:52.8441264629364\n",
            "\n",
            "Epoch 19/24\n",
            "----------\n",
            "train Loss: 0.0244 Acc: 0.9915\n",
            "time:46.33607244491577\n",
            "val Loss: 0.0401 Acc: 0.9875\n",
            "time:52.856608152389526\n",
            "\n",
            "Epoch 20/24\n",
            "----------\n",
            "train Loss: 0.0274 Acc: 0.9915\n",
            "time:46.34597301483154\n",
            "val Loss: 0.0485 Acc: 0.9857\n",
            "time:52.87144756317139\n",
            "\n",
            "Epoch 21/24\n",
            "----------\n",
            "train Loss: 0.0286 Acc: 0.9918\n",
            "time:46.36363935470581\n",
            "val Loss: 0.0416 Acc: 0.9884\n",
            "time:52.8468177318573\n",
            "\n",
            "Epoch 22/24\n",
            "----------\n",
            "train Loss: 0.0135 Acc: 0.9965\n",
            "time:46.330873250961304\n",
            "val Loss: 0.0470 Acc: 0.9857\n",
            "time:52.80217623710632\n",
            "\n",
            "Epoch 23/24\n",
            "----------\n",
            "train Loss: 0.0228 Acc: 0.9939\n",
            "time:46.38992118835449\n",
            "val Loss: 0.0495 Acc: 0.9857\n",
            "time:52.91631531715393\n",
            "\n",
            "Epoch 24/24\n",
            "----------\n",
            "train Loss: 0.0201 Acc: 0.9950\n",
            "time:46.248215198516846\n",
            "val Loss: 0.0416 Acc: 0.9875\n",
            "time:52.75647258758545\n",
            "\n",
            "Training complete in 26m 19s\n",
            "Best val Acc: 0.988403\n"
          ],
          "name": "stdout"
        }
      ]
    },
    {
      "cell_type": "code",
      "metadata": {
        "colab": {
          "base_uri": "https://localhost:8080/",
          "height": 581
        },
        "id": "qkPZsNOdTcGr",
        "outputId": "89c7168c-a1e6-4340-d376-a0abdd0fa148"
      },
      "source": [
        "visualize_model(model_ft)"
      ],
      "execution_count": null,
      "outputs": [
        {
          "output_type": "display_data",
          "data": {
            "image/png": "[encoded data removed]",
            "text/plain": [
              "<Figure size 432x288 with 1 Axes>"
            ]
          },
          "metadata": {
            "tags": [],
            "needs_background": "light"
          }
        },
        {
          "output_type": "display_data",
          "data": {
            "image/png": "[encoded data removed]",
            "text/plain": [
              "<Figure size 432x288 with 1 Axes>"
            ]
          },
          "metadata": {
            "tags": [],
            "needs_background": "light"
          }
        },
        {
          "output_type": "display_data",
          "data": {
            "image/png": "[encoded data removed]",
            "text/plain": [
              "<Figure size 432x288 with 1 Axes>"
            ]
          },
          "metadata": {
            "tags": [],
            "needs_background": "light"
          }
        },
        {
          "output_type": "display_data",
          "data": {
            "image/png": "[encoded data removed]",
            "text/plain": [
              "<Figure size 432x288 with 1 Axes>"
            ]
          },
          "metadata": {
            "tags": [],
            "needs_background": "light"
          }
        },
        {
          "output_type": "display_data",
          "data": {
            "image/png": "[encoded data removed]",
            "text/plain": [
              "<Figure size 432x288 with 1 Axes>"
            ]
          },
          "metadata": {
            "tags": [],
            "needs_background": "light"
          }
        },
        {
          "output_type": "display_data",
          "data": {
            "image/png": "[encoded data removed]",
            "text/plain": [
              "<Figure size 432x288 with 1 Axes>"
            ]
          },
          "metadata": {
            "tags": [],
            "needs_background": "light"
          }
        }
      ]
    },
    {
      "cell_type": "markdown",
      "metadata": {
        "id": "EQtGkPmiEm3A"
      },
      "source": [
        ""
      ]
    }
  ]
}