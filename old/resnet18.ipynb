{
  "nbformat": 4,
  "nbformat_minor": 0,
  "metadata": {
    "colab": {
      "name": "TransferLearningTutorial",
      "provenance": [],
      "mount_file_id": "1juGbc6JQ5QP-L0EWPVfXKLldc_L0SVFF",
      "authorship_tag": "ABX9TyNuAmQb8Elj2xY/O3ah9oD1",
      "include_colab_link": true
    },
    "kernelspec": {
      "name": "python3",
      "display_name": "Python 3"
    },
    "accelerator": "GPU"
  },
  "cells": [
    {
      "cell_type": "markdown",
      "metadata": {
        "id": "view-in-github",
        "colab_type": "text"
      },
      "source": [
        "<a href=\"https://colab.research.google.com/github/Orasz/BIMCV-COVID19/blob/main/resnet18test18/01.ipynb\" target=\"_parent\"><img src=\"https://colab.research.google.com/assets/colab-badge.svg\" alt=\"Open In Colab\"/></a>"
      ]
    },
    {
      "cell_type": "markdown",
      "metadata": {
        "id": "Y5hCYn_pEoMX"
      },
      "source": [
        "Esempio di Transfer Learning - da riadattare al dataset BIMCV"
      ]
    },
    {
      "cell_type": "code",
      "metadata": {
        "colab": {
          "base_uri": "https://localhost:8080/"
        },
        "id": "0E5MnR02HH3x",
        "outputId": "3f9cde48-3a53-47fa-d7d3-2163737c20eb"
      },
      "source": [
        "from google.colab import drive\r\n",
        "drive.mount('/content/gdrive')\r\n"
      ],
      "execution_count": 2,
      "outputs": [
        {
          "output_type": "stream",
          "text": [
            "Mounted at /content/gdrive\n"
          ],
          "name": "stdout"
        }
      ]
    },
    {
      "cell_type": "code",
      "metadata": {
        "id": "PvVEnw9KtLLV"
      },
      "source": [
        "from __future__ import print_function, division\r\n",
        "\r\n",
        "import torch\r\n",
        "import torch.nn as nn\r\n",
        "import torch.optim as optim\r\n",
        "from torch.optim import lr_scheduler\r\n",
        "import numpy as np\r\n",
        "import torchvision\r\n",
        "from torchvision import datasets, models, transforms\r\n",
        "import matplotlib.pyplot as plt\r\n",
        "import time\r\n",
        "import os\r\n",
        "import copy\r\n",
        "\r\n",
        "plt.ion()   # interactive mode"
      ],
      "execution_count": 4,
      "outputs": []
    },
    {
      "cell_type": "code",
      "metadata": {
        "id": "ELnF4WInFS7g",
        "outputId": "5104fb64-4530-472e-fa51-cba6dcf89ccf",
        "colab": {
          "base_uri": "https://localhost:8080/"
        }
      },
      "source": [
        "# Data augmentation and normalization for training\n",
        "# Just normalization for validation\n",
        "data_transforms = {\n",
        "    'train': transforms.Compose([\n",
        "        transforms.RandomResizedCrop(224),\n",
        "        transforms.RandomHorizontalFlip(),\n",
        "        transforms.ToTensor(),\n",
        "        transforms.Normalize([0.485, 0.456, 0.406], [0.229, 0.224, 0.225])\n",
        "    ]),\n",
        "    'val': transforms.Compose([\n",
        "        transforms.Resize(256),\n",
        "        transforms.CenterCrop(224),\n",
        "        transforms.ToTensor(),\n",
        "        transforms.Normalize([0.485, 0.456, 0.406], [0.229, 0.224, 0.225])\n",
        "    ]),\n",
        "}\n",
        "data_transforms_xray = {\n",
        "    'train': transforms.Compose([\n",
        "        transforms.Resize(256),\n",
        "        transforms.CenterCrop(224),\n",
        "        transforms.ToTensor(),\n",
        "        transforms.Normalize([0.485, 0.456, 0.406], [0.229, 0.224, 0.225])\n",
        "    ]),\n",
        "    'val': transforms.Compose([\n",
        "        transforms.Resize(256),\n",
        "        transforms.CenterCrop(224),\n",
        "        transforms.ToTensor(),\n",
        "        transforms.Normalize([0.485, 0.456, 0.406], [0.229, 0.224, 0.225])\n",
        "    ]),\n",
        "}\n",
        "\n",
        "data_dir = 'gdrive/MyDrive/ResNetCovidTest1/'\n",
        "image_datasets = {x: datasets.ImageFolder(os.path.join(data_dir, x),\n",
        "                                          data_transforms_xray[x])\n",
        "                  for x in ['train', 'val']}\n",
        "#aumenta batch size \n",
        "dataloaders = {x: torch.utils.data.DataLoader(image_datasets[x], batch_size=4,\n",
        "                                             shuffle=True, num_workers=4)\n",
        "              for x in ['train', 'val']}\n",
        "dataset_sizes = {x: len(image_datasets[x]) for x in ['train', 'val']}\n",
        "class_names = image_datasets['train'].classes\n",
        "\n",
        "device = torch.device(\"cuda:0\" if torch.cuda.is_available() else \"cpu\")\n",
        "print(device)"
      ],
      "execution_count": 5,
      "outputs": [
        {
          "output_type": "stream",
          "text": [
            "cuda:0\n"
          ],
          "name": "stdout"
        }
      ]
    },
    {
      "cell_type": "code",
      "metadata": {
        "colab": {
          "base_uri": "https://localhost:8080/",
          "height": 148
        },
        "id": "9Uyv-fguJBCX",
        "outputId": "d24c03e1-6bbd-41f2-da42-dc6537d2419e"
      },
      "source": [
        "def imshow(inp, title=None):\r\n",
        "    \"\"\"Imshow for Tensor.\"\"\"\r\n",
        "    inp = inp.numpy().transpose((1, 2, 0))\r\n",
        "    mean = np.array([0.485, 0.456, 0.406])\r\n",
        "    std = np.array([0.229, 0.224, 0.225])\r\n",
        "    inp = std * inp + mean\r\n",
        "    inp = np.clip(inp, 0, 1)\r\n",
        "    plt.imshow(inp)\r\n",
        "    if title is not None:\r\n",
        "        plt.title(title)\r\n",
        "    plt.pause(0.001)  # pause a bit so that plots are updated\r\n",
        "\r\n",
        "\r\n",
        "# Get a batch of training data\r\n",
        "inputs, classes = next(iter(dataloaders['val']))\r\n",
        "\r\n",
        "# Make a grid from batch\r\n",
        "out = torchvision.utils.make_grid(inputs)\r\n",
        "\r\n",
        "imshow(out, title=[class_names[x] for x in classes])"
      ],
      "execution_count": 26,
      "outputs": [
        {
          "output_type": "display_data",
          "data": {
            "image/png": "[encoded data removed]",
            "text/plain": [
              "<Figure size 432x288 with 1 Axes>"
            ]
          },
          "metadata": {
            "tags": [],
            "needs_background": "light"
          }
        }
      ]
    },
    {
      "cell_type": "code",
      "metadata": {
        "id": "KZU4jJ1WJrzT"
      },
      "source": [
        "def train_model(model, criterion, optimizer, scheduler, num_epochs=25):\r\n",
        "    since = time.time()\r\n",
        "\r\n",
        "    best_model_wts = copy.deepcopy(model.state_dict())\r\n",
        "    best_acc = 0.0\r\n",
        "\r\n",
        "    for epoch in range(num_epochs):\r\n",
        "        print('Epoch {}/{}'.format(epoch, num_epochs - 1))\r\n",
        "        print('-' * 10)\r\n",
        "        t1 = time.time()\r\n",
        "\r\n",
        "        # Each epoch has a training and validation phase\r\n",
        "        for phase in ['train', 'val']:\r\n",
        "            if phase == 'train':\r\n",
        "                model.train()  # Set model to training mode\r\n",
        "            else:\r\n",
        "                model.eval()   # Set model to evaluate mode\r\n",
        "\r\n",
        "            running_loss = 0.0\r\n",
        "            running_corrects = 0\r\n",
        "\r\n",
        "            # Iterate over data.\r\n",
        "            for inputs, labels in dataloaders[phase]:\r\n",
        "                inputs = inputs.to(device)\r\n",
        "                labels = labels.to(device)\r\n",
        "\r\n",
        "                # zero the parameter gradients\r\n",
        "                optimizer.zero_grad()\r\n",
        "\r\n",
        "                # forward\r\n",
        "                # track history if only in train\r\n",
        "                with torch.set_grad_enabled(phase == 'train'):\r\n",
        "                    outputs = model(inputs)\r\n",
        "                    _, preds = torch.max(outputs, 1)\r\n",
        "                    loss = criterion(outputs, labels)\r\n",
        "\r\n",
        "                    # backward + optimize only if in training phase\r\n",
        "                    if phase == 'train':\r\n",
        "                        loss.backward()\r\n",
        "                        optimizer.step()\r\n",
        "\r\n",
        "                # statistics\r\n",
        "                running_loss += loss.item() * inputs.size(0)\r\n",
        "                running_corrects += torch.sum(preds == labels.data)\r\n",
        "            if phase == 'train':\r\n",
        "                scheduler.step()\r\n",
        "\r\n",
        "            epoch_loss = running_loss / dataset_sizes[phase]\r\n",
        "            epoch_acc = running_corrects.double() / dataset_sizes[phase]\r\n",
        "\r\n",
        "            print('{} Loss: {:.4f} Acc: {:.4f}'.format(\r\n",
        "                phase, epoch_loss, epoch_acc))\r\n",
        "            t2 = time.time()\r\n",
        "            print('time:{.4f}'.format(t2-t1))\r\n",
        "\r\n",
        "            # deep copy the model\r\n",
        "            if phase == 'val' and epoch_acc > best_acc:\r\n",
        "                best_acc = epoch_acc\r\n",
        "                best_model_wts = copy.deepcopy(model.state_dict())\r\n",
        "\r\n",
        "        print()\r\n",
        "\r\n",
        "    time_elapsed = time.time() - since\r\n",
        "    print('Training complete in {:.0f}m {:.0f}s'.format(\r\n",
        "        time_elapsed // 60, time_elapsed % 60))\r\n",
        "    print('Best val Acc: {:4f}'.format(best_acc))\r\n",
        "\r\n",
        "    # load best model weights\r\n",
        "    model.load_state_dict(best_model_wts)\r\n",
        "    return model"
      ],
      "execution_count": 19,
      "outputs": []
    },
    {
      "cell_type": "code",
      "metadata": {
        "id": "vaAsYtVKKbR5",
        "outputId": "7b34df92-cfb4-41d1-84ac-8a00a45c46d1",
        "colab": {
          "base_uri": "https://localhost:8080/"
        }
      },
      "source": [
        "def visualize_model(model, num_images=6):\r\n",
        "    was_training = model.training\r\n",
        "    model.eval()\r\n",
        "    images_so_far = 0\r\n",
        "    fig = plt.figure()\r\n",
        "\r\n",
        "    with torch.no_grad():\r\n",
        "        for i, (inputs, labels) in enumerate(dataloaders['val']):\r\n",
        "            inputs = inputs.to(device)\r\n",
        "            labels = labels.to(device)\r\n",
        "\r\n",
        "            outputs = model(inputs)\r\n",
        "            _, preds = torch.max(outputs, 1)\r\n",
        "\r\n",
        "            for j in range(inputs.size()[0]):\r\n",
        "                images_so_far += 1\r\n",
        "                ax = plt.subplot(num_images//2, 2, images_so_far)\r\n",
        "                ax.axis('off')\r\n",
        "                ax.set_title('predicted: {}'.format(class_names[preds[j]]))\r\n",
        "                imshow(inputs.cpu().data[j])\r\n",
        "\r\n",
        "                if images_so_far == num_images:\r\n",
        "                    model.train(mode=was_training)\r\n",
        "                    return\r\n",
        "        model.train(mode=was_training)\r\n",
        "print(\"done\")"
      ],
      "execution_count": 14,
      "outputs": [
        {
          "output_type": "stream",
          "text": [
            "done\n"
          ],
          "name": "stdout"
        }
      ]
    },
    {
      "cell_type": "code",
      "metadata": {
        "id": "ho7yicXxKzG4",
        "outputId": "02df055e-3776-4271-fbde-72edf56cad96",
        "colab": {
          "base_uri": "https://localhost:8080/"
        }
      },
      "source": [
        "#N.B inserisci regolarizzazione/dropout\r\n",
        "model_ft = models.resnet18(pretrained=True)\r\n",
        "num_ftrs = model_ft.fc.in_features\r\n",
        "# Here the size of each output sample is set to 2.\r\n",
        "# Alternatively, it can be generalized to nn.Linear(num_ftrs, len(class_names)).\r\n",
        "#N.B. va aggiunto un dropout layer\r\n",
        "#classifier layer\r\n",
        "model_ft.fc = nn.Linear(num_ftrs, 2)\r\n",
        "\r\n",
        "model_ft = model_ft.to(device)\r\n",
        "\r\n",
        "criterion = nn.CrossEntropyLoss()\r\n",
        "\r\n",
        "# Observe that all parameters are being optimized\r\n",
        "#lr should be 0.001\r\n",
        "optimizer_ft = optim.SGD(model_ft.parameters(), lr=0.001, momentum=0.9)\r\n",
        "optimizer_suggested = optim.Adam(model_ft.parameters(), lr=0.001)\r\n",
        "\r\n",
        "# Decay LR by a factor of 0.1 every 7 epochs\r\n",
        "exp_lr_scheduler = lr_scheduler.StepLR(optimizer_ft, step_size=7, gamma=0.1)\r\n",
        "print(\"done\")"
      ],
      "execution_count": 16,
      "outputs": [
        {
          "output_type": "stream",
          "text": [
            "done\n"
          ],
          "name": "stdout"
        }
      ]
    },
    {
      "cell_type": "code",
      "metadata": {
        "colab": {
          "base_uri": "https://localhost:8080/"
        },
        "id": "7Sb56SZzK67R",
        "outputId": "4c97c6e4-4a1d-4700-ad00-3b2c382c7935"
      },
      "source": [
        "model_ft = train_model(model_ft, criterion, optimizer_ft, exp_lr_scheduler,\r\n",
        "                       num_epochs=25)"
      ],
      "execution_count": 17,
      "outputs": [
        {
          "output_type": "stream",
          "text": [
            "Epoch 0/24\n",
            "----------\n",
            "train Loss: 0.5129 Acc: 0.7848\n",
            "time:30.512924194335938.4f \n",
            "val Loss: 0.5576 Acc: 0.7835\n",
            "time:38.55527377128601.4f \n",
            "\n",
            "Epoch 1/24\n",
            "----------\n",
            "train Loss: 0.3107 Acc: 0.8734\n",
            "time:30.33748197555542.4f \n",
            "val Loss: 0.1625 Acc: 0.9271\n",
            "time:38.24627685546875.4f \n",
            "\n",
            "Epoch 2/24\n",
            "----------\n",
            "train Loss: 0.1891 Acc: 0.9267\n",
            "time:30.79484224319458.4f \n",
            "val Loss: 0.3096 Acc: 0.8704\n",
            "time:38.77469229698181.4f \n",
            "\n",
            "Epoch 3/24\n",
            "----------\n",
            "train Loss: 0.1428 Acc: 0.9440\n",
            "time:30.521777391433716.4f \n",
            "val Loss: 0.2829 Acc: 0.8711\n",
            "time:38.459733963012695.4f \n",
            "\n",
            "Epoch 4/24\n",
            "----------\n",
            "train Loss: 0.1346 Acc: 0.9537\n",
            "time:30.677465200424194.4f \n",
            "val Loss: 0.5093 Acc: 0.8225\n",
            "time:38.69816279411316.4f \n",
            "\n",
            "Epoch 5/24\n",
            "----------\n",
            "train Loss: 0.0899 Acc: 0.9682\n",
            "time:30.876582145690918.4f \n",
            "val Loss: 0.3096 Acc: 0.8652\n",
            "time:38.93580937385559.4f \n",
            "\n",
            "Epoch 6/24\n",
            "----------\n",
            "train Loss: 0.0567 Acc: 0.9812\n",
            "time:31.03490900993347.4f \n",
            "val Loss: 0.1949 Acc: 0.9212\n",
            "time:39.18943548202515.4f \n",
            "\n",
            "Epoch 7/24\n",
            "----------\n",
            "train Loss: 0.0239 Acc: 0.9932\n",
            "time:31.089249849319458.4f \n",
            "val Loss: 0.1390 Acc: 0.9455\n",
            "time:39.269301414489746.4f \n",
            "\n",
            "Epoch 8/24\n",
            "----------\n",
            "train Loss: 0.0166 Acc: 0.9957\n",
            "time:31.044238090515137.4f \n",
            "val Loss: 0.1928 Acc: 0.9264\n",
            "time:39.200690507888794.4f \n",
            "\n",
            "Epoch 9/24\n",
            "----------\n",
            "train Loss: 0.0140 Acc: 0.9965\n",
            "time:31.10163450241089.4f \n",
            "val Loss: 0.1185 Acc: 0.9536\n",
            "time:39.237931966781616.4f \n",
            "\n",
            "Epoch 10/24\n",
            "----------\n",
            "train Loss: 0.0152 Acc: 0.9962\n",
            "time:31.209125757217407.4f \n",
            "val Loss: 0.1425 Acc: 0.9492\n",
            "time:39.390584230422974.4f \n",
            "\n",
            "Epoch 11/24\n",
            "----------\n",
            "train Loss: 0.0118 Acc: 0.9970\n",
            "time:30.8995943069458.4f \n",
            "val Loss: 0.1467 Acc: 0.9440\n",
            "time:38.93429708480835.4f \n",
            "\n",
            "Epoch 12/24\n",
            "----------\n",
            "train Loss: 0.0104 Acc: 0.9980\n",
            "time:31.000584840774536.4f \n",
            "val Loss: 0.1290 Acc: 0.9536\n",
            "time:39.14101767539978.4f \n",
            "\n",
            "Epoch 13/24\n",
            "----------\n",
            "train Loss: 0.0077 Acc: 0.9995\n",
            "time:31.281360149383545.4f \n",
            "val Loss: 0.1663 Acc: 0.9433\n",
            "time:39.5189106464386.4f \n",
            "\n",
            "Epoch 14/24\n",
            "----------\n",
            "train Loss: 0.0113 Acc: 0.9980\n",
            "time:31.619670629501343.4f \n",
            "val Loss: 0.1784 Acc: 0.9374\n",
            "time:39.870054721832275.4f \n",
            "\n",
            "Epoch 15/24\n",
            "----------\n",
            "train Loss: 0.0085 Acc: 0.9985\n",
            "time:31.86567783355713.4f \n",
            "val Loss: 0.1378 Acc: 0.9455\n",
            "time:40.19689464569092.4f \n",
            "\n",
            "Epoch 16/24\n",
            "----------\n",
            "train Loss: 0.0110 Acc: 0.9975\n",
            "time:31.740458250045776.4f \n",
            "val Loss: 0.1664 Acc: 0.9426\n",
            "time:40.04771661758423.4f \n",
            "\n",
            "Epoch 17/24\n",
            "----------\n",
            "train Loss: 0.0109 Acc: 0.9977\n",
            "time:31.809882640838623.4f \n",
            "val Loss: 0.1334 Acc: 0.9448\n",
            "time:40.26853656768799.4f \n",
            "\n",
            "Epoch 18/24\n",
            "----------\n",
            "train Loss: 0.0095 Acc: 0.9975\n",
            "time:31.899282455444336.4f \n",
            "val Loss: 0.1317 Acc: 0.9470\n",
            "time:40.2328999042511.4f \n",
            "\n",
            "Epoch 19/24\n",
            "----------\n",
            "train Loss: 0.0113 Acc: 0.9972\n",
            "time:31.67025065422058.4f \n",
            "val Loss: 0.1326 Acc: 0.9492\n",
            "time:39.98364043235779.4f \n",
            "\n",
            "Epoch 20/24\n",
            "----------\n",
            "train Loss: 0.0095 Acc: 0.9980\n",
            "time:31.7203106880188.4f \n",
            "val Loss: 0.1832 Acc: 0.9367\n",
            "time:40.13520789146423.4f \n",
            "\n",
            "Epoch 21/24\n",
            "----------\n",
            "train Loss: 0.0101 Acc: 0.9972\n",
            "time:31.706484079360962.4f \n",
            "val Loss: 0.2481 Acc: 0.9183\n",
            "time:39.98660230636597.4f \n",
            "\n",
            "Epoch 22/24\n",
            "----------\n",
            "train Loss: 0.0103 Acc: 0.9982\n",
            "time:31.369614124298096.4f \n",
            "val Loss: 0.1832 Acc: 0.9352\n",
            "time:39.7317750453949.4f \n",
            "\n",
            "Epoch 23/24\n",
            "----------\n",
            "train Loss: 0.0085 Acc: 0.9982\n",
            "time:32.72524285316467.4f \n",
            "val Loss: 0.1325 Acc: 0.9492\n",
            "time:41.325510025024414.4f \n",
            "\n",
            "Epoch 24/24\n",
            "----------\n",
            "train Loss: 0.0107 Acc: 0.9985\n",
            "time:32.534337282180786.4f \n",
            "val Loss: 0.1645 Acc: 0.9462\n",
            "time:40.979241132736206.4f \n",
            "\n",
            "Training complete in 16m 28s\n",
            "Best val Acc: 0.953608\n"
          ],
          "name": "stdout"
        }
      ]
    },
    {
      "cell_type": "code",
      "metadata": {
        "colab": {
          "base_uri": "https://localhost:8080/",
          "height": 581
        },
        "id": "qkPZsNOdTcGr",
        "outputId": "e4adfd9d-b364-44d2-fa50-cf68f61f1e32"
      },
      "source": [
        "visualize_model(model_ft)"
      ],
      "execution_count": 18,
      "outputs": [
        {
          "output_type": "display_data",
          "data": {
            "image/png": "[encoded data removed]",
            "text/plain": [
              "<Figure size 432x288 with 1 Axes>"
            ]
          },
          "metadata": {
            "tags": [],
            "needs_background": "light"
          }
        },
        {
          "output_type": "display_data",
          "data": {
            "image/png": "[encoded data removed]",
            "text/plain": [
              "<Figure size 432x288 with 1 Axes>"
            ]
          },
          "metadata": {
            "tags": [],
            "needs_background": "light"
          }
        },
        {
          "output_type": "display_data",
          "data": {
            "image/png": "[encoded data removed]",
            "text/plain": [
              "<Figure size 432x288 with 1 Axes>"
            ]
          },
          "metadata": {
            "tags": [],
            "needs_background": "light"
          }
        },
        {
          "output_type": "display_data",
          "data": {
            "image/png": "[encoded data removed]",
            "text/plain": [
              "<Figure size 432x288 with 1 Axes>"
            ]
          },
          "metadata": {
            "tags": [],
            "needs_background": "light"
          }
        },
        {
          "output_type": "display_data",
          "data": {
            "image/png": "[encoded data removed]",
            "text/plain": [
              "<Figure size 432x288 with 1 Axes>"
            ]
          },
          "metadata": {
            "tags": [],
            "needs_background": "light"
          }
        },
        {
          "output_type": "display_data",
          "data": {
            "image/png": "[encoded data removed]",
            "text/plain": [
              "<Figure size 432x288 with 1 Axes>"
            ]
          },
          "metadata": {
            "tags": [],
            "needs_background": "light"
          }
        }
      ]
    },
    {
      "cell_type": "markdown",
      "metadata": {
        "id": "EQtGkPmiEm3A"
      },
      "source": [
        ""
      ]
    }
  ]
}