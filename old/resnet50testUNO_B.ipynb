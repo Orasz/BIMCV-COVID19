{
  "nbformat": 4,
  "nbformat_minor": 0,
  "metadata": {
    "colab": {
      "name": "TransferLearningTutorial",
      "provenance": [],
      "include_colab_link": true
    },
    "kernelspec": {
      "name": "python3",
      "display_name": "Python 3"
    },
    "accelerator": "GPU"
  },
  "cells": [
    {
      "cell_type": "markdown",
      "metadata": {
        "id": "view-in-github",
        "colab_type": "text"
      },
      "source": [
        "<a href=\"https://colab.research.google.com/github/Orasz/BIMCV-COVID19/blob/main/resnet50testUNO_B.ipynb\" target=\"_parent\"><img src=\"https://colab.research.google.com/assets/colab-badge.svg\" alt=\"Open In Colab\"/></a>"
      ]
    },
    {
      "cell_type": "markdown",
      "metadata": {
        "id": "Y5hCYn_pEoMX"
      },
      "source": [
        "example of Transfer Learning using QaTa-COV19 dataset."
      ]
    },
    {
      "cell_type": "code",
      "metadata": {
        "colab": {
          "base_uri": "https://localhost:8080/"
        },
        "id": "0E5MnR02HH3x",
        "outputId": "ec54f502-83fa-46d2-83d8-5efa7f5c85a3"
      },
      "source": [
        "from google.colab import drive\r\n",
        "drive.mount('/content/gdrive', force_remount=True)\r\n"
      ],
      "execution_count": 1,
      "outputs": [
        {
          "output_type": "stream",
          "text": [
            "Mounted at /content/gdrive\n"
          ],
          "name": "stdout"
        }
      ]
    },
    {
      "cell_type": "code",
      "metadata": {
        "id": "PvVEnw9KtLLV",
        "colab": {
          "base_uri": "https://localhost:8080/"
        },
        "outputId": "0ad6e2c7-00d3-4518-db7e-0fb09f48a2b7"
      },
      "source": [
        "from __future__ import print_function, division\r\n",
        "\r\n",
        "import torch\r\n",
        "import torch.nn as nn\r\n",
        "import torch.optim as optim\r\n",
        "from torch.optim import lr_scheduler\r\n",
        "import numpy as np\r\n",
        "import torchvision\r\n",
        "from torchvision import datasets, models, transforms\r\n",
        "import matplotlib.pyplot as plt\r\n",
        "import time\r\n",
        "import os\r\n",
        "import copy\r\n",
        "\r\n",
        "plt.ion()   # interactive mode\r\n",
        "print(\"done\")"
      ],
      "execution_count": 2,
      "outputs": [
        {
          "output_type": "stream",
          "text": [
            "done\n"
          ],
          "name": "stdout"
        }
      ]
    },
    {
      "cell_type": "code",
      "metadata": {
        "id": "ELnF4WInFS7g",
        "colab": {
          "base_uri": "https://localhost:8080/"
        },
        "outputId": "a9c0660d-c2f4-490a-d47b-da62ce22f506"
      },
      "source": [
        "# Data augmentation and normalization for training\n",
        "# Just normalization for validation\n",
        "\n",
        "data_transforms_xray = {\n",
        "    'train': transforms.Compose([\n",
        "        transforms.Resize(256),\n",
        "        transforms.CenterCrop(224),\n",
        "        transforms.ToTensor(),\n",
        "        transforms.Normalize([0.485, 0.456, 0.406], [0.229, 0.224, 0.225])\n",
        "    ]),\n",
        "    'val': transforms.Compose([\n",
        "        transforms.Resize(256),\n",
        "        transforms.CenterCrop(224),\n",
        "        transforms.ToTensor(),\n",
        "        transforms.Normalize([0.485, 0.456, 0.406], [0.229, 0.224, 0.225])\n",
        "    ]),\n",
        "}\n",
        "\n",
        "data_dir = 'gdrive/MyDrive/ResNetCovidTest2/'\n",
        "image_datasets = {x: datasets.ImageFolder(os.path.join(data_dir, x),\n",
        "                                          data_transforms_xray[x])\n",
        "                  for x in ['train', 'val']}\n",
        "#aumenta batch size \n",
        "dataloaders = {x: torch.utils.data.DataLoader(image_datasets[x], batch_size=16,\n",
        "                                             shuffle=True, num_workers=4)\n",
        "              for x in ['train', 'val']}\n",
        "dataset_sizes = {x: len(image_datasets[x]) for x in ['train', 'val']}\n",
        "class_names = image_datasets['train'].classes\n",
        "\n",
        "device = torch.device(\"cuda:0\" if torch.cuda.is_available() else \"cpu\")\n",
        "print(\"using device: {}\".format(device))"
      ],
      "execution_count": 4,
      "outputs": [
        {
          "output_type": "stream",
          "text": [
            "using device: cuda:0\n"
          ],
          "name": "stdout"
        }
      ]
    },
    {
      "cell_type": "code",
      "metadata": {
        "colab": {
          "base_uri": "https://localhost:8080/",
          "height": 148
        },
        "id": "9Uyv-fguJBCX",
        "outputId": "475ce7b4-5485-4c3c-b6db-beab3ed698ec"
      },
      "source": [
        "def imshow(inp, title=None):\r\n",
        "    \"\"\"Imshow for Tensor.\"\"\"\r\n",
        "    inp = inp.numpy().transpose((1, 2, 0))\r\n",
        "    mean = np.array([0.485, 0.456, 0.406])\r\n",
        "    std = np.array([0.229, 0.224, 0.225])\r\n",
        "    inp = std * inp + mean\r\n",
        "    inp = np.clip(inp, 0, 1)\r\n",
        "    plt.imshow(inp)\r\n",
        "    if title is not None:\r\n",
        "        plt.title(title)\r\n",
        "    plt.pause(0.001)  # pause a bit so that plots are updated\r\n",
        "\r\n",
        "\r\n",
        "# Get a batch of training data\r\n",
        "inputs, classes = next(iter(dataloaders['train']))\r\n",
        "\r\n",
        "# Make a grid from batch\r\n",
        "out = torchvision.utils.make_grid(inputs)\r\n",
        "\r\n",
        "imshow(out, title=[class_names[x] for x in classes])"
      ],
      "execution_count": 5,
      "outputs": [
        {
          "output_type": "display_data",
          "data": {
            "image/png": "[encoded data removed]",
            "text/plain": [
              "<Figure size 432x288 with 1 Axes>"
            ]
          },
          "metadata": {
            "tags": [],
            "needs_background": "light"
          }
        }
      ]
    },
    {
      "cell_type": "code",
      "metadata": {
        "id": "HfKmN4woNEZR",
        "colab": {
          "base_uri": "https://localhost:8080/"
        },
        "outputId": "02c2b4e1-9d04-4ee8-dfba-43d081c1c773"
      },
      "source": [
        "#Custom ResNet50 in order to add dropout regolarization\r\n",
        "class ResNet(nn.Module):\r\n",
        "    def __init__(self, num_classes = 2, classify=True):\r\n",
        "        super(ResNet, self).__init__()\r\n",
        "        self.model = torchvision.models.resnet50(pretrained=True)\r\n",
        "        self.name = 'resnet'\r\n",
        "        expansion = 4\r\n",
        "        self.classify = classify\r\n",
        "        if self.classify:\r\n",
        "            self.classifier = nn.Linear(512 * expansion, num_classes)\r\n",
        "        self.dropout = nn.Dropout(0.2)\r\n",
        "\r\n",
        "    def forward(self, x):\r\n",
        "        x = self.model.conv1(x)\r\n",
        "        x = self.model.bn1(x)\r\n",
        "        x = self.model.relu(x)\r\n",
        "        x = self.model.maxpool(x)\r\n",
        "\r\n",
        "        x = self.model.layer1(x)\r\n",
        "        x = self.model.layer2(x)\r\n",
        "        x = self.model.layer3(x)\r\n",
        "        x = self.model.layer4(x)\r\n",
        "\r\n",
        "        x = self.model.avgpool(x)\r\n",
        "        x = torch.flatten(x, 1)\r\n",
        "\r\n",
        "        if self.classify:\r\n",
        "            x = self.classifier(x)\r\n",
        "        x = self.dropout(x)\r\n",
        "\r\n",
        "        return x\r\n",
        "\r\n",
        "print(\"done\")"
      ],
      "execution_count": 15,
      "outputs": [
        {
          "output_type": "stream",
          "text": [
            "done\n"
          ],
          "name": "stdout"
        }
      ]
    },
    {
      "cell_type": "code",
      "metadata": {
        "id": "KZU4jJ1WJrzT",
        "colab": {
          "base_uri": "https://localhost:8080/"
        },
        "outputId": "7ab743a5-6471-4f32-9d3f-9c75c0c53dc9"
      },
      "source": [
        "def train_model(model, criterion, optimizer, scheduler, num_epochs=25):\r\n",
        "    since = time.time()\r\n",
        "\r\n",
        "    best_model_wts = copy.deepcopy(model.state_dict())\r\n",
        "    best_acc = 0.0\r\n",
        "\r\n",
        "    for epoch in range(num_epochs):\r\n",
        "        print('Epoch {}/{}'.format(epoch, num_epochs - 1))\r\n",
        "        print('-' * 10)\r\n",
        "        t1 = time.time()\r\n",
        "\r\n",
        "        # Each epoch has a training and validation phase\r\n",
        "        for phase in ['train', 'val']:\r\n",
        "            if phase == 'train':\r\n",
        "                model.train()  # Set model to training mode\r\n",
        "            else:\r\n",
        "                model.eval()   # Set model to evaluate mode\r\n",
        "\r\n",
        "            running_loss = 0.0\r\n",
        "            running_corrects = 0\r\n",
        "\r\n",
        "            # Iterate over data.\r\n",
        "            for inputs, labels in dataloaders[phase]:\r\n",
        "                inputs = inputs.to(device)\r\n",
        "                labels = labels.to(device)\r\n",
        "\r\n",
        "                # zero the parameter gradients\r\n",
        "                optimizer.zero_grad()\r\n",
        "\r\n",
        "                # forward\r\n",
        "                # track history if only in train\r\n",
        "                with torch.set_grad_enabled(phase == 'train'):\r\n",
        "                    outputs = model(inputs)\r\n",
        "                    _, preds = torch.max(outputs, 1)\r\n",
        "                    loss = criterion(outputs, labels)\r\n",
        "\r\n",
        "                    # backward + optimize only if in training phase\r\n",
        "                    if phase == 'train':\r\n",
        "                        loss.backward()\r\n",
        "                        optimizer.step()\r\n",
        "\r\n",
        "                # statistics\r\n",
        "                running_loss += loss.item() * inputs.size(0)\r\n",
        "                running_corrects += torch.sum(preds == labels.data)\r\n",
        "            if phase == 'train':\r\n",
        "                scheduler.step()\r\n",
        "\r\n",
        "            epoch_loss = running_loss / dataset_sizes[phase]\r\n",
        "            epoch_acc = running_corrects.double() / dataset_sizes[phase]\r\n",
        "\r\n",
        "            print('{} Loss: {:.4f} Acc: {:.4f}'.format(\r\n",
        "                phase, epoch_loss, epoch_acc))\r\n",
        "            t2 = time.time()\r\n",
        "            print('time:{}'.format(t2-t1))\r\n",
        "\r\n",
        "            # deep copy the model\r\n",
        "            if phase == 'val' and epoch_acc > best_acc:\r\n",
        "                best_acc = epoch_acc\r\n",
        "                best_model_wts = copy.deepcopy(model.state_dict())\r\n",
        "\r\n",
        "        print()\r\n",
        "\r\n",
        "    time_elapsed = time.time() - since\r\n",
        "    print('Training complete in {:.0f}m {:.0f}s'.format(\r\n",
        "        time_elapsed // 60, time_elapsed % 60))\r\n",
        "    print('Best val Acc: {:4f}'.format(best_acc))\r\n",
        "\r\n",
        "    # load best model weights\r\n",
        "    model.load_state_dict(best_model_wts)\r\n",
        "    return model\r\n",
        "\r\n",
        "print(\"done\")"
      ],
      "execution_count": 16,
      "outputs": [
        {
          "output_type": "stream",
          "text": [
            "done\n"
          ],
          "name": "stdout"
        }
      ]
    },
    {
      "cell_type": "code",
      "metadata": {
        "id": "vaAsYtVKKbR5",
        "colab": {
          "base_uri": "https://localhost:8080/"
        },
        "outputId": "d4cec700-9165-4334-d0e2-eed48f92e7aa"
      },
      "source": [
        "def visualize_model(model, num_images=6):\r\n",
        "    was_training = model.training\r\n",
        "    model.eval()\r\n",
        "    images_so_far = 0\r\n",
        "    fig = plt.figure()\r\n",
        "\r\n",
        "    with torch.no_grad():\r\n",
        "        for i, (inputs, labels) in enumerate(dataloaders['val']):\r\n",
        "            inputs = inputs.to(device)\r\n",
        "            labels = labels.to(device)\r\n",
        "\r\n",
        "            outputs = model(inputs)\r\n",
        "            _, preds = torch.max(outputs, 1)\r\n",
        "\r\n",
        "            for j in range(inputs.size()[0]):\r\n",
        "                images_so_far += 1\r\n",
        "                ax = plt.subplot(num_images//2, 2, images_so_far)\r\n",
        "                ax.axis('off')\r\n",
        "                ax.set_title('predicted: {}'.format(class_names[preds[j]]))\r\n",
        "                imshow(inputs.cpu().data[j])\r\n",
        "\r\n",
        "                if images_so_far == num_images:\r\n",
        "                    model.train(mode=was_training)\r\n",
        "                    return\r\n",
        "        model.train(mode=was_training)\r\n",
        "print(\"done\")"
      ],
      "execution_count": 17,
      "outputs": [
        {
          "output_type": "stream",
          "text": [
            "done\n"
          ],
          "name": "stdout"
        }
      ]
    },
    {
      "cell_type": "code",
      "metadata": {
        "id": "ho7yicXxKzG4",
        "colab": {
          "base_uri": "https://localhost:8080/"
        },
        "outputId": "03ca28e1-22c5-4c91-d789-d03f8fbf3ace"
      },
      "source": [
        "#N.B inserisci regolarizzazione/dropout\r\n",
        "model_ft = models.resnet50(pretrained=True)\r\n",
        "num_ftrs = model_ft.fc.in_features\r\n",
        "custom_resnet = ResNet()\r\n",
        "# Here the size of each output sample is set to 2.\r\n",
        "# Alternatively, it can be generalized to nn.Linear(num_ftrs, len(class_names)).\r\n",
        "#N.B. va aggiunto un dropout layer\r\n",
        "#classifier layer\r\n",
        "model_ft.fc = nn.Linear(num_ftrs, 2)\r\n",
        "custom_resnet = custom_resnet.to(device)\r\n",
        "#model_ft = model_ft.to(device)\r\n",
        "criterion = nn.CrossEntropyLoss()\r\n",
        "\r\n",
        "# Observe that all parameters are being optimized\r\n",
        "#lr should be 0.001\r\n",
        "optimizer_ft = optim.SGD(model_ft.parameters(), lr=0.001, momentum=0.9)\r\n",
        "optimizer_adam = optim.Adam(model_ft.parameters(), lr=0.001)\r\n",
        "\r\n",
        "# Decay LR by a factor of 0.1 every 7 epochs\r\n",
        "exp_lr_scheduler = lr_scheduler.StepLR(optimizer_adam, step_size=7, gamma=0.1)\r\n",
        "print(\"done\")"
      ],
      "execution_count": 21,
      "outputs": [
        {
          "output_type": "stream",
          "text": [
            "done\n"
          ],
          "name": "stdout"
        }
      ]
    },
    {
      "cell_type": "code",
      "metadata": {
        "colab": {
          "base_uri": "https://localhost:8080/"
        },
        "id": "7Sb56SZzK67R",
        "outputId": "6a1f7536-1ab2-42c0-f108-be9c2eb06418"
      },
      "source": [
        "custom_resnet = train_model(custom_resnet, criterion, optimizer_adam, exp_lr_scheduler,\r\n",
        "                       num_epochs=50)"
      ],
      "execution_count": 22,
      "outputs": [
        {
          "output_type": "stream",
          "text": [
            "Epoch 0/49\n",
            "----------\n",
            "train Loss: 0.7285 Acc: 0.4707\n",
            "time:199.0765597820282\n",
            "val Loss: 0.7278 Acc: 0.4612\n",
            "time:274.4909636974335\n",
            "\n",
            "Epoch 1/49\n",
            "----------\n",
            "train Loss: 0.7310 Acc: 0.4730\n",
            "time:36.07757306098938\n",
            "val Loss: 0.7257 Acc: 0.4576\n",
            "time:41.69823908805847\n",
            "\n",
            "Epoch 2/49\n",
            "----------\n",
            "train Loss: 0.7289 Acc: 0.4695\n",
            "time:37.16461443901062\n",
            "val Loss: 0.7289 Acc: 0.4487\n",
            "time:42.88045120239258\n",
            "\n",
            "Epoch 3/49\n",
            "----------\n",
            "train Loss: 0.7268 Acc: 0.4797\n",
            "time:36.718109130859375\n",
            "val Loss: 0.7265 Acc: 0.4514\n",
            "time:42.514238595962524\n",
            "\n",
            "Epoch 4/49\n",
            "----------\n",
            "train Loss: 0.7283 Acc: 0.4651\n",
            "time:37.007004499435425\n",
            "val Loss: 0.7302 Acc: 0.4603\n",
            "time:42.57943391799927\n",
            "\n",
            "Epoch 5/49\n",
            "----------\n",
            "train Loss: 0.7321 Acc: 0.4724\n",
            "time:36.992637157440186\n",
            "val Loss: 0.7305 Acc: 0.4594\n",
            "time:42.50334358215332\n",
            "\n",
            "Epoch 6/49\n",
            "----------\n",
            "train Loss: 0.7299 Acc: 0.4689\n",
            "time:36.83312392234802\n",
            "val Loss: 0.7320 Acc: 0.4585\n",
            "time:42.36817717552185\n",
            "\n",
            "Epoch 7/49\n",
            "----------\n",
            "train Loss: 0.7331 Acc: 0.4724\n",
            "time:36.951863527297974\n",
            "val Loss: 0.7339 Acc: 0.4674\n",
            "time:42.492780685424805\n",
            "\n",
            "Epoch 8/49\n",
            "----------\n",
            "train Loss: 0.7296 Acc: 0.4715\n",
            "time:36.92344546318054\n",
            "val Loss: 0.7311 Acc: 0.4639\n",
            "time:42.538172006607056\n",
            "\n",
            "Epoch 9/49\n",
            "----------\n",
            "train Loss: 0.7303 Acc: 0.4707\n",
            "time:36.98647999763489\n",
            "val Loss: 0.7301 Acc: 0.4514\n",
            "time:42.614673137664795\n",
            "\n",
            "Epoch 10/49\n",
            "----------\n",
            "train Loss: 0.7312 Acc: 0.4666\n",
            "time:36.89778971672058\n",
            "val Loss: 0.7307 Acc: 0.4612\n",
            "time:42.668163537979126\n",
            "\n",
            "Epoch 11/49\n",
            "----------\n",
            "train Loss: 0.7285 Acc: 0.4660\n",
            "time:36.99421238899231\n",
            "val Loss: 0.7279 Acc: 0.4657\n",
            "time:42.647130727767944\n",
            "\n",
            "Epoch 12/49\n",
            "----------\n",
            "train Loss: 0.7302 Acc: 0.4666\n",
            "time:36.92760348320007\n",
            "val Loss: 0.7279 Acc: 0.4674\n",
            "time:42.52472448348999\n",
            "\n",
            "Epoch 13/49\n",
            "----------\n",
            "train Loss: 0.7295 Acc: 0.4616\n",
            "time:36.88114380836487\n",
            "val Loss: 0.7330 Acc: 0.4567\n",
            "time:42.549535274505615\n",
            "\n",
            "Epoch 14/49\n",
            "----------\n",
            "train Loss: 0.7335 Acc: 0.4686\n",
            "time:37.09230971336365\n",
            "val Loss: 0.7337 Acc: 0.4594\n",
            "time:42.70941948890686\n",
            "\n",
            "Epoch 15/49\n",
            "----------\n",
            "train Loss: 0.7328 Acc: 0.4710\n",
            "time:36.952128171920776\n",
            "val Loss: 0.7332 Acc: 0.4621\n",
            "time:42.62920832633972\n",
            "\n",
            "Epoch 16/49\n",
            "----------\n",
            "train Loss: 0.7340 Acc: 0.4622\n",
            "time:36.941943883895874\n",
            "val Loss: 0.7332 Acc: 0.4692\n",
            "time:42.55769944190979\n",
            "\n",
            "Epoch 17/49\n",
            "----------\n",
            "train Loss: 0.7318 Acc: 0.4675\n",
            "time:37.034528970718384\n",
            "val Loss: 0.7303 Acc: 0.4683\n",
            "time:42.79233384132385\n",
            "\n",
            "Epoch 18/49\n",
            "----------\n",
            "train Loss: 0.7318 Acc: 0.4602\n",
            "time:37.021347522735596\n",
            "val Loss: 0.7298 Acc: 0.4612\n",
            "time:42.782912731170654\n",
            "\n",
            "Epoch 19/49\n",
            "----------\n",
            "train Loss: 0.7298 Acc: 0.4616\n",
            "time:37.05056428909302\n",
            "val Loss: 0.7273 Acc: 0.4612\n",
            "time:42.87094449996948\n",
            "\n",
            "Epoch 20/49\n",
            "----------\n",
            "train Loss: 0.7295 Acc: 0.4710\n",
            "time:36.989598989486694\n",
            "val Loss: 0.7248 Acc: 0.4648\n",
            "time:42.65554165840149\n",
            "\n",
            "Epoch 21/49\n",
            "----------\n",
            "train Loss: 0.7342 Acc: 0.4575\n",
            "time:36.902902603149414\n",
            "val Loss: 0.7273 Acc: 0.4550\n",
            "time:42.40544652938843\n",
            "\n",
            "Epoch 22/49\n",
            "----------\n",
            "train Loss: 0.7315 Acc: 0.4707\n",
            "time:37.12488102912903\n",
            "val Loss: 0.7280 Acc: 0.4657\n",
            "time:42.641018867492676\n",
            "\n",
            "Epoch 23/49\n",
            "----------\n",
            "train Loss: 0.7289 Acc: 0.4724\n",
            "time:36.934868812561035\n",
            "val Loss: 0.7325 Acc: 0.4487\n",
            "time:42.579832792282104\n",
            "\n",
            "Epoch 24/49\n",
            "----------\n",
            "train Loss: 0.7323 Acc: 0.4645\n",
            "time:37.10647988319397\n",
            "val Loss: 0.7284 Acc: 0.4621\n",
            "time:42.75950598716736\n",
            "\n",
            "Epoch 25/49\n",
            "----------\n",
            "train Loss: 0.7275 Acc: 0.4823\n",
            "time:36.87564754486084\n",
            "val Loss: 0.7303 Acc: 0.4442\n",
            "time:42.467262506484985\n",
            "\n",
            "Epoch 26/49\n",
            "----------\n",
            "train Loss: 0.7326 Acc: 0.4622\n",
            "time:37.05867147445679\n",
            "val Loss: 0.7301 Acc: 0.4523\n",
            "time:42.60345959663391\n",
            "\n",
            "Epoch 27/49\n",
            "----------\n",
            "train Loss: 0.7333 Acc: 0.4678\n",
            "time:36.917468786239624\n",
            "val Loss: 0.7320 Acc: 0.4567\n",
            "time:42.57116341590881\n",
            "\n",
            "Epoch 28/49\n",
            "----------\n",
            "train Loss: 0.7310 Acc: 0.4657\n",
            "time:36.984641790390015\n",
            "val Loss: 0.7344 Acc: 0.4594\n",
            "time:42.51586079597473\n",
            "\n",
            "Epoch 29/49\n",
            "----------\n",
            "train Loss: 0.7287 Acc: 0.4704\n",
            "time:36.95063376426697\n",
            "val Loss: 0.7272 Acc: 0.4612\n",
            "time:42.413076639175415\n",
            "\n",
            "Epoch 30/49\n",
            "----------\n",
            "train Loss: 0.7309 Acc: 0.4666\n",
            "time:36.9820990562439\n",
            "val Loss: 0.7313 Acc: 0.4585\n",
            "time:42.6580970287323\n",
            "\n",
            "Epoch 31/49\n",
            "----------\n",
            "train Loss: 0.7293 Acc: 0.4654\n",
            "time:36.9782600402832\n",
            "val Loss: 0.7255 Acc: 0.4710\n",
            "time:42.5522677898407\n",
            "\n",
            "Epoch 32/49\n",
            "----------\n",
            "train Loss: 0.7298 Acc: 0.4686\n",
            "time:36.967679262161255\n",
            "val Loss: 0.7250 Acc: 0.4630\n",
            "time:42.6806001663208\n",
            "\n",
            "Epoch 33/49\n",
            "----------\n",
            "train Loss: 0.7294 Acc: 0.4666\n",
            "time:36.97586989402771\n",
            "val Loss: 0.7315 Acc: 0.4567\n",
            "time:42.56447744369507\n",
            "\n",
            "Epoch 34/49\n",
            "----------\n",
            "train Loss: 0.7292 Acc: 0.4756\n",
            "time:36.949981689453125\n",
            "val Loss: 0.7316 Acc: 0.4630\n",
            "time:42.57239818572998\n",
            "\n",
            "Epoch 35/49\n",
            "----------\n",
            "train Loss: 0.7336 Acc: 0.4657\n",
            "time:36.87245512008667\n",
            "val Loss: 0.7297 Acc: 0.4648\n",
            "time:42.54737401008606\n",
            "\n",
            "Epoch 36/49\n",
            "----------\n",
            "train Loss: 0.7335 Acc: 0.4648\n",
            "time:37.00762128829956\n",
            "val Loss: 0.7293 Acc: 0.4603\n",
            "time:42.661787271499634\n",
            "\n",
            "Epoch 37/49\n",
            "----------\n",
            "train Loss: 0.7303 Acc: 0.4660\n",
            "time:36.948288917541504\n",
            "val Loss: 0.7315 Acc: 0.4585\n",
            "time:42.6253559589386\n",
            "\n",
            "Epoch 38/49\n",
            "----------\n",
            "train Loss: 0.7335 Acc: 0.4645\n",
            "time:36.9911892414093\n",
            "val Loss: 0.7276 Acc: 0.4585\n",
            "time:42.578415632247925\n",
            "\n",
            "Epoch 39/49\n",
            "----------\n",
            "train Loss: 0.7316 Acc: 0.4704\n",
            "time:36.91033053398132\n",
            "val Loss: 0.7289 Acc: 0.4523\n",
            "time:42.570821046829224\n",
            "\n",
            "Epoch 40/49\n",
            "----------\n",
            "train Loss: 0.7341 Acc: 0.4622\n",
            "time:36.96486806869507\n",
            "val Loss: 0.7301 Acc: 0.4541\n",
            "time:42.58081340789795\n",
            "\n",
            "Epoch 41/49\n",
            "----------\n",
            "train Loss: 0.7330 Acc: 0.4657\n",
            "time:37.124603509902954\n",
            "val Loss: 0.7298 Acc: 0.4630\n",
            "time:42.731894969940186\n",
            "\n",
            "Epoch 42/49\n",
            "----------\n",
            "train Loss: 0.7289 Acc: 0.4715\n",
            "time:36.925191164016724\n",
            "val Loss: 0.7298 Acc: 0.4576\n",
            "time:42.489248752593994\n",
            "\n",
            "Epoch 43/49\n",
            "----------\n",
            "train Loss: 0.7296 Acc: 0.4733\n",
            "time:37.0459885597229\n",
            "val Loss: 0.7283 Acc: 0.4648\n",
            "time:42.554503202438354\n",
            "\n",
            "Epoch 44/49\n",
            "----------\n",
            "train Loss: 0.7314 Acc: 0.4745\n",
            "time:36.93923211097717\n",
            "val Loss: 0.7306 Acc: 0.4585\n",
            "time:42.4556827545166\n",
            "\n",
            "Epoch 45/49\n",
            "----------\n",
            "train Loss: 0.7321 Acc: 0.4599\n",
            "time:36.8979218006134\n",
            "val Loss: 0.7270 Acc: 0.4603\n",
            "time:42.494526624679565\n",
            "\n",
            "Epoch 46/49\n",
            "----------\n",
            "train Loss: 0.7329 Acc: 0.4680\n",
            "time:36.778773069381714\n",
            "val Loss: 0.7277 Acc: 0.4630\n",
            "time:42.3036904335022\n",
            "\n",
            "Epoch 47/49\n",
            "----------\n",
            "train Loss: 0.7339 Acc: 0.4698\n",
            "time:37.08911848068237\n",
            "val Loss: 0.7299 Acc: 0.4496\n",
            "time:42.701611280441284\n",
            "\n",
            "Epoch 48/49\n",
            "----------\n",
            "train Loss: 0.7311 Acc: 0.4643\n",
            "time:36.907482385635376\n",
            "val Loss: 0.7325 Acc: 0.4585\n",
            "time:42.47841668128967\n",
            "\n",
            "Epoch 49/49\n",
            "----------\n",
            "train Loss: 0.7307 Acc: 0.4704\n",
            "time:36.91996765136719\n",
            "val Loss: 0.7300 Acc: 0.4585\n",
            "time:42.57685351371765\n",
            "\n",
            "Training complete in 39m 21s\n",
            "Best val Acc: 0.471008\n"
          ],
          "name": "stdout"
        }
      ]
    },
    {
      "cell_type": "code",
      "metadata": {
        "colab": {
          "base_uri": "https://localhost:8080/",
          "height": 581
        },
        "id": "qkPZsNOdTcGr",
        "outputId": "89c7168c-a1e6-4340-d376-a0abdd0fa148"
      },
      "source": [
        "visualize_model(model_ft)"
      ],
      "execution_count": null,
      "outputs": [
        {
          "output_type": "display_data",
          "data": {
            "image/png": "[encoded data removed]",
            "text/plain": [
              "<Figure size 432x288 with 1 Axes>"
            ]
          },
          "metadata": {
            "tags": [],
            "needs_background": "light"
          }
        },
        {
          "output_type": "display_data",
          "data": {
            "image/png": "[encoded data removed]",
            "text/plain": [
              "<Figure size 432x288 with 1 Axes>"
            ]
          },
          "metadata": {
            "tags": [],
            "needs_background": "light"
          }
        },
        {
          "output_type": "display_data",
          "data": {
            "image/png": "[encoded data removed]",
            "text/plain": [
              "<Figure size 432x288 with 1 Axes>"
            ]
          },
          "metadata": {
            "tags": [],
            "needs_background": "light"
          }
        },
        {
          "output_type": "display_data",
          "data": {
            "image/png": "[encoded data removed]",
            "text/plain": [
              "<Figure size 432x288 with 1 Axes>"
            ]
          },
          "metadata": {
            "tags": [],
            "needs_background": "light"
          }
        },
        {
          "output_type": "display_data",
          "data": {
            "image/png": "[encoded data removed]",
            "text/plain": [
              "<Figure size 432x288 with 1 Axes>"
            ]
          },
          "metadata": {
            "tags": [],
            "needs_background": "light"
          }
        },
        {
          "output_type": "display_data",
          "data": {
            "image/png": "[encoded data removed]",
            "text/plain": [
              "<Figure size 432x288 with 1 Axes>"
            ]
          },
          "metadata": {
            "tags": [],
            "needs_background": "light"
          }
        }
      ]
    },
    {
      "cell_type": "markdown",
      "metadata": {
        "id": "EQtGkPmiEm3A"
      },
      "source": [
        ""
      ]
    }
  ]
}