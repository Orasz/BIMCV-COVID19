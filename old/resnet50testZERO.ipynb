{
  "nbformat": 4,
  "nbformat_minor": 0,
  "metadata": {
    "colab": {
      "name": "TransferLearningTutorial",
      "provenance": [],
      "mount_file_id": "https://github.com/Orasz/BIMCV-COVID19/blob/main/resnet18test1.ipynb",
      "authorship_tag": "ABX9TyM95JB//5cIIjTgaWfAqqO/",
      "include_colab_link": true
    },
    "kernelspec": {
      "name": "python3",
      "display_name": "Python 3"
    },
    "accelerator": "GPU"
  },
  "cells": [
    {
      "cell_type": "markdown",
      "metadata": {
        "id": "view-in-github",
        "colab_type": "text"
      },
      "source": [
        "<a href=\"https://colab.research.google.com/github/Orasz/BIMCV-COVID19/blob/main/resnet50testZERO.ipynb\" target=\"_parent\"><img src=\"https://colab.research.google.com/assets/colab-badge.svg\" alt=\"Open In Colab\"/></a>"
      ]
    },
    {
      "cell_type": "markdown",
      "metadata": {
        "id": "Y5hCYn_pEoMX"
      },
      "source": [
        "Esempio di Transfer Learning - da riadattare al dataset BIMCV"
      ]
    },
    {
      "cell_type": "code",
      "metadata": {
        "colab": {
          "base_uri": "https://localhost:8080/"
        },
        "id": "0E5MnR02HH3x",
        "outputId": "bab3d27e-3f8c-4a2e-a566-8186bcb27fe9"
      },
      "source": [
        "from google.colab import drive\r\n",
        "drive.mount('/content/gdrive')\r\n"
      ],
      "execution_count": 25,
      "outputs": [
        {
          "output_type": "stream",
          "text": [
            "Mounted at /content/gdrive\n"
          ],
          "name": "stdout"
        }
      ]
    },
    {
      "cell_type": "code",
      "metadata": {
        "id": "PvVEnw9KtLLV"
      },
      "source": [
        "from __future__ import print_function, division\r\n",
        "\r\n",
        "import torch\r\n",
        "import torch.nn as nn\r\n",
        "import torch.optim as optim\r\n",
        "from torch.optim import lr_scheduler\r\n",
        "import numpy as np\r\n",
        "import torchvision\r\n",
        "from torchvision import datasets, models, transforms\r\n",
        "import matplotlib.pyplot as plt\r\n",
        "import time\r\n",
        "import os\r\n",
        "import copy\r\n",
        "\r\n",
        "plt.ion()   # interactive mode\r\n",
        "print(\"done\")"
      ],
      "execution_count": 2,
      "outputs": []
    },
    {
      "cell_type": "code",
      "metadata": {
        "id": "ELnF4WInFS7g",
        "colab": {
          "base_uri": "https://localhost:8080/"
        },
        "outputId": "47d74f8a-5384-4ca3-d7fa-447dc095a3d0"
      },
      "source": [
        "# Data augmentation and normalization for training\n",
        "# Just normalization for validation\n",
        "data_transforms = {\n",
        "    'train': transforms.Compose([\n",
        "        transforms.RandomResizedCrop(224),\n",
        "        transforms.RandomHorizontalFlip(),\n",
        "        transforms.ToTensor(),\n",
        "        transforms.Normalize([0.485, 0.456, 0.406], [0.229, 0.224, 0.225])\n",
        "    ]),\n",
        "    'val': transforms.Compose([\n",
        "        transforms.Resize(256),\n",
        "        transforms.CenterCrop(224),\n",
        "        transforms.ToTensor(),\n",
        "        transforms.Normalize([0.485, 0.456, 0.406], [0.229, 0.224, 0.225])\n",
        "    ]),\n",
        "}\n",
        "data_transforms_xray = {\n",
        "    'train': transforms.Compose([\n",
        "        transforms.Resize(256),\n",
        "        transforms.CenterCrop(224),\n",
        "        transforms.ToTensor(),\n",
        "        transforms.Normalize([0.485, 0.456, 0.406], [0.229, 0.224, 0.225])\n",
        "    ]),\n",
        "    'val': transforms.Compose([\n",
        "        transforms.Resize(256),\n",
        "        transforms.CenterCrop(224),\n",
        "        transforms.ToTensor(),\n",
        "        transforms.Normalize([0.485, 0.456, 0.406], [0.229, 0.224, 0.225])\n",
        "    ]),\n",
        "}\n",
        "\n",
        "data_dir = 'gdrive/MyDrive/ResNetCovidTest1/'\n",
        "image_datasets = {x: datasets.ImageFolder(os.path.join(data_dir, x),\n",
        "                                          data_transforms_xray[x])\n",
        "                  for x in ['train', 'val']}\n",
        "#aumenta batch size \n",
        "dataloaders = {x: torch.utils.data.DataLoader(image_datasets[x], batch_size=8,\n",
        "                                             shuffle=True, num_workers=4)\n",
        "              for x in ['train', 'val']}\n",
        "dataset_sizes = {x: len(image_datasets[x]) for x in ['train', 'val']}\n",
        "class_names = image_datasets['train'].classes\n",
        "\n",
        "device = torch.device(\"cuda:0\" if torch.cuda.is_available() else \"cpu\")\n",
        "print(device)"
      ],
      "execution_count": 9,
      "outputs": [
        {
          "output_type": "stream",
          "text": [
            "cuda:0\n"
          ],
          "name": "stdout"
        }
      ]
    },
    {
      "cell_type": "code",
      "metadata": {
        "colab": {
          "base_uri": "https://localhost:8080/",
          "height": 106
        },
        "id": "9Uyv-fguJBCX",
        "outputId": "7758dedf-ab1b-4157-cf65-c2b835117319"
      },
      "source": [
        "def imshow(inp, title=None):\r\n",
        "    \"\"\"Imshow for Tensor.\"\"\"\r\n",
        "    inp = inp.numpy().transpose((1, 2, 0))\r\n",
        "    mean = np.array([0.485, 0.456, 0.406])\r\n",
        "    std = np.array([0.229, 0.224, 0.225])\r\n",
        "    inp = std * inp + mean\r\n",
        "    inp = np.clip(inp, 0, 1)\r\n",
        "    plt.imshow(inp)\r\n",
        "    if title is not None:\r\n",
        "        plt.title(title)\r\n",
        "    plt.pause(0.001)  # pause a bit so that plots are updated\r\n",
        "\r\n",
        "\r\n",
        "# Get a batch of training data\r\n",
        "inputs, classes = next(iter(dataloaders['train']))\r\n",
        "\r\n",
        "# Make a grid from batch\r\n",
        "out = torchvision.utils.make_grid(inputs)\r\n",
        "\r\n",
        "imshow(out, title=[class_names[x] for x in classes])"
      ],
      "execution_count": 10,
      "outputs": [
        {
          "output_type": "display_data",
          "data": {
            "image/png": "[encoded data removed]",
            "text/plain": [
              "<Figure size 432x288 with 1 Axes>"
            ]
          },
          "metadata": {
            "tags": [],
            "needs_background": "light"
          }
        }
      ]
    },
    {
      "cell_type": "code",
      "metadata": {
        "id": "KZU4jJ1WJrzT"
      },
      "source": [
        "def train_model(model, criterion, optimizer, scheduler, num_epochs=25):\r\n",
        "    since = time.time()\r\n",
        "\r\n",
        "    best_model_wts = copy.deepcopy(model.state_dict())\r\n",
        "    best_acc = 0.0\r\n",
        "\r\n",
        "    for epoch in range(num_epochs):\r\n",
        "        print('Epoch {}/{}'.format(epoch, num_epochs - 1))\r\n",
        "        print('-' * 10)\r\n",
        "        t1 = time.time()\r\n",
        "\r\n",
        "        # Each epoch has a training and validation phase\r\n",
        "        for phase in ['train', 'val']:\r\n",
        "            if phase == 'train':\r\n",
        "                model.train()  # Set model to training mode\r\n",
        "            else:\r\n",
        "                model.eval()   # Set model to evaluate mode\r\n",
        "\r\n",
        "            running_loss = 0.0\r\n",
        "            running_corrects = 0\r\n",
        "\r\n",
        "            # Iterate over data.\r\n",
        "            for inputs, labels in dataloaders[phase]:\r\n",
        "                inputs = inputs.to(device)\r\n",
        "                labels = labels.to(device)\r\n",
        "\r\n",
        "                # zero the parameter gradients\r\n",
        "                optimizer.zero_grad()\r\n",
        "\r\n",
        "                # forward\r\n",
        "                # track history if only in train\r\n",
        "                with torch.set_grad_enabled(phase == 'train'):\r\n",
        "                    outputs = model(inputs)\r\n",
        "                    _, preds = torch.max(outputs, 1)\r\n",
        "                    loss = criterion(outputs, labels)\r\n",
        "\r\n",
        "                    # backward + optimize only if in training phase\r\n",
        "                    if phase == 'train':\r\n",
        "                        loss.backward()\r\n",
        "                        optimizer.step()\r\n",
        "\r\n",
        "                # statistics\r\n",
        "                running_loss += loss.item() * inputs.size(0)\r\n",
        "                running_corrects += torch.sum(preds == labels.data)\r\n",
        "            if phase == 'train':\r\n",
        "                scheduler.step()\r\n",
        "\r\n",
        "            epoch_loss = running_loss / dataset_sizes[phase]\r\n",
        "            epoch_acc = running_corrects.double() / dataset_sizes[phase]\r\n",
        "\r\n",
        "            print('{} Loss: {:.4f} Acc: {:.4f}'.format(\r\n",
        "                phase, epoch_loss, epoch_acc))\r\n",
        "            t2 = time.time()\r\n",
        "            print('time:{}'.format(t2-t1))\r\n",
        "\r\n",
        "            # deep copy the model\r\n",
        "            if phase == 'val' and epoch_acc > best_acc:\r\n",
        "                best_acc = epoch_acc\r\n",
        "                best_model_wts = copy.deepcopy(model.state_dict())\r\n",
        "\r\n",
        "        print()\r\n",
        "\r\n",
        "    time_elapsed = time.time() - since\r\n",
        "    print('Training complete in {:.0f}m {:.0f}s'.format(\r\n",
        "        time_elapsed // 60, time_elapsed % 60))\r\n",
        "    print('Best val Acc: {:4f}'.format(best_acc))\r\n",
        "\r\n",
        "    # load best model weights\r\n",
        "    model.load_state_dict(best_model_wts)\r\n",
        "    return model"
      ],
      "execution_count": 16,
      "outputs": []
    },
    {
      "cell_type": "code",
      "metadata": {
        "id": "vaAsYtVKKbR5",
        "colab": {
          "base_uri": "https://localhost:8080/"
        },
        "outputId": "c9ed2e79-0b6d-499a-d858-9791f0f72ba2"
      },
      "source": [
        "def visualize_model(model, num_images=6):\r\n",
        "    was_training = model.training\r\n",
        "    model.eval()\r\n",
        "    images_so_far = 0\r\n",
        "    fig = plt.figure()\r\n",
        "\r\n",
        "    with torch.no_grad():\r\n",
        "        for i, (inputs, labels) in enumerate(dataloaders['val']):\r\n",
        "            inputs = inputs.to(device)\r\n",
        "            labels = labels.to(device)\r\n",
        "\r\n",
        "            outputs = model(inputs)\r\n",
        "            _, preds = torch.max(outputs, 1)\r\n",
        "\r\n",
        "            for j in range(inputs.size()[0]):\r\n",
        "                images_so_far += 1\r\n",
        "                ax = plt.subplot(num_images//2, 2, images_so_far)\r\n",
        "                ax.axis('off')\r\n",
        "                ax.set_title('predicted: {}'.format(class_names[preds[j]]))\r\n",
        "                imshow(inputs.cpu().data[j])\r\n",
        "\r\n",
        "                if images_so_far == num_images:\r\n",
        "                    model.train(mode=was_training)\r\n",
        "                    return\r\n",
        "        model.train(mode=was_training)\r\n",
        "print(\"done\")"
      ],
      "execution_count": 18,
      "outputs": [
        {
          "output_type": "stream",
          "text": [
            "done\n"
          ],
          "name": "stdout"
        }
      ]
    },
    {
      "cell_type": "code",
      "metadata": {
        "id": "ho7yicXxKzG4",
        "colab": {
          "base_uri": "https://localhost:8080/"
        },
        "outputId": "1ee55975-14cc-42f1-8bd4-e7cb6f22e025"
      },
      "source": [
        "#N.B inserisci regolarizzazione/dropout\r\n",
        "model_ft = models.resnet50(pretrained=True)\r\n",
        "num_ftrs = model_ft.fc.in_features\r\n",
        "# Here the size of each output sample is set to 2.\r\n",
        "# Alternatively, it can be generalized to nn.Linear(num_ftrs, len(class_names)).\r\n",
        "#N.B. va aggiunto un dropout layer\r\n",
        "#classifier layer\r\n",
        "model_ft.fc = nn.Linear(num_ftrs, 2)\r\n",
        "\r\n",
        "model_ft = model_ft.to(device)\r\n",
        "\r\n",
        "criterion = nn.CrossEntropyLoss()\r\n",
        "\r\n",
        "# Observe that all parameters are being optimized\r\n",
        "#lr should be 0.001\r\n",
        "optimizer_ft = optim.SGD(model_ft.parameters(), lr=0.001, momentum=0.9)\r\n",
        "optimizer_suggested = optim.Adam(model_ft.parameters(), lr=0.001)\r\n",
        "\r\n",
        "# Decay LR by a factor of 0.1 every 7 epochs\r\n",
        "exp_lr_scheduler = lr_scheduler.StepLR(optimizer_suggested, step_size=7, gamma=0.1)\r\n",
        "print(\"done\")"
      ],
      "execution_count": 19,
      "outputs": [
        {
          "output_type": "stream",
          "text": [
            "done\n"
          ],
          "name": "stdout"
        }
      ]
    },
    {
      "cell_type": "code",
      "metadata": {
        "colab": {
          "base_uri": "https://localhost:8080/"
        },
        "id": "7Sb56SZzK67R",
        "outputId": "6206fa43-d78d-4eb6-a427-74d0933c9986"
      },
      "source": [
        "model_ft = train_model(model_ft, criterion, optimizer_suggested, exp_lr_scheduler,\r\n",
        "                       num_epochs=25)"
      ],
      "execution_count": 20,
      "outputs": [
        {
          "output_type": "stream",
          "text": [
            "Epoch 0/24\n",
            "----------\n",
            "train Loss: 0.5273 Acc: 0.7553\n",
            "time:54.37868356704712\n",
            "val Loss: 0.4114 Acc: 0.8122\n",
            "time:194.80592942237854\n",
            "\n",
            "Epoch 1/24\n",
            "----------\n",
            "train Loss: 0.4256 Acc: 0.8186\n",
            "time:54.073617458343506\n",
            "val Loss: 2.1913 Acc: 0.4102\n",
            "time:62.16865062713623\n",
            "\n",
            "Epoch 2/24\n",
            "----------\n",
            "train Loss: 0.3553 Acc: 0.8514\n",
            "time:53.66586446762085\n",
            "val Loss: 0.4425 Acc: 0.8218\n",
            "time:61.96163558959961\n",
            "\n",
            "Epoch 3/24\n",
            "----------\n",
            "train Loss: 0.3323 Acc: 0.8574\n",
            "time:53.859811782836914\n",
            "val Loss: 0.6527 Acc: 0.7216\n",
            "time:62.03876543045044\n",
            "\n",
            "Epoch 4/24\n",
            "----------\n",
            "train Loss: 0.2908 Acc: 0.8822\n",
            "time:53.84947085380554\n",
            "val Loss: 0.2531 Acc: 0.8895\n",
            "time:61.99808645248413\n",
            "\n",
            "Epoch 5/24\n",
            "----------\n",
            "train Loss: 0.2836 Acc: 0.8919\n",
            "time:53.8902542591095\n",
            "val Loss: 0.5783 Acc: 0.7364\n",
            "time:62.111668825149536\n",
            "\n",
            "Epoch 6/24\n",
            "----------\n",
            "train Loss: 0.2500 Acc: 0.8984\n",
            "time:53.902504205703735\n",
            "val Loss: 1.7452 Acc: 0.4757\n",
            "time:62.17607808113098\n",
            "\n",
            "Epoch 7/24\n",
            "----------\n",
            "train Loss: 0.1911 Acc: 0.9242\n",
            "time:54.03606557846069\n",
            "val Loss: 0.2952 Acc: 0.8895\n",
            "time:62.257779598236084\n",
            "\n",
            "Epoch 8/24\n",
            "----------\n",
            "train Loss: 0.1558 Acc: 0.9387\n",
            "time:54.00714039802551\n",
            "val Loss: 0.2304 Acc: 0.9065\n",
            "time:62.1462824344635\n",
            "\n",
            "Epoch 9/24\n",
            "----------\n",
            "train Loss: 0.1364 Acc: 0.9437\n",
            "time:53.916072845458984\n",
            "val Loss: 0.2328 Acc: 0.9050\n",
            "time:62.08569121360779\n",
            "\n",
            "Epoch 10/24\n",
            "----------\n",
            "train Loss: 0.1196 Acc: 0.9510\n",
            "time:53.87640023231506\n",
            "val Loss: 0.2351 Acc: 0.8991\n",
            "time:62.045873403549194\n",
            "\n",
            "Epoch 11/24\n",
            "----------\n",
            "train Loss: 0.1155 Acc: 0.9522\n",
            "time:53.993568420410156\n",
            "val Loss: 0.1802 Acc: 0.9300\n",
            "time:62.196669578552246\n",
            "\n",
            "Epoch 12/24\n",
            "----------\n",
            "train Loss: 0.1102 Acc: 0.9552\n",
            "time:53.99487066268921\n",
            "val Loss: 0.1130 Acc: 0.9551\n",
            "time:62.34484314918518\n",
            "\n",
            "Epoch 13/24\n",
            "----------\n",
            "train Loss: 0.0996 Acc: 0.9587\n",
            "time:53.8120231628418\n",
            "val Loss: 0.1334 Acc: 0.9455\n",
            "time:62.03257918357849\n",
            "\n",
            "Epoch 14/24\n",
            "----------\n",
            "train Loss: 0.0848 Acc: 0.9710\n",
            "time:53.9093234539032\n",
            "val Loss: 0.1182 Acc: 0.9514\n",
            "time:62.1910674571991\n",
            "\n",
            "Epoch 15/24\n",
            "----------\n",
            "train Loss: 0.0867 Acc: 0.9650\n",
            "time:53.77000308036804\n",
            "val Loss: 0.1089 Acc: 0.9580\n",
            "time:61.930360555648804\n",
            "\n",
            "Epoch 16/24\n",
            "----------\n",
            "train Loss: 0.0769 Acc: 0.9727\n",
            "time:53.97807502746582\n",
            "val Loss: 0.0885 Acc: 0.9691\n",
            "time:62.17876219749451\n",
            "\n",
            "Epoch 17/24\n",
            "----------\n",
            "train Loss: 0.0722 Acc: 0.9745\n",
            "time:53.86293435096741\n",
            "val Loss: 0.0858 Acc: 0.9683\n",
            "time:62.13481783866882\n",
            "\n",
            "Epoch 18/24\n",
            "----------\n",
            "train Loss: 0.0700 Acc: 0.9742\n",
            "time:54.076202630996704\n",
            "val Loss: 0.0941 Acc: 0.9661\n",
            "time:62.22783088684082\n",
            "\n",
            "Epoch 19/24\n",
            "----------\n",
            "train Loss: 0.0682 Acc: 0.9735\n",
            "time:53.953240633010864\n",
            "val Loss: 0.1321 Acc: 0.9455\n",
            "time:62.078983306884766\n",
            "\n",
            "Epoch 20/24\n",
            "----------\n",
            "train Loss: 0.0814 Acc: 0.9677\n",
            "time:53.85506725311279\n",
            "val Loss: 0.0975 Acc: 0.9661\n",
            "time:61.97757124900818\n",
            "\n",
            "Epoch 21/24\n",
            "----------\n",
            "train Loss: 0.0706 Acc: 0.9722\n",
            "time:53.92991638183594\n",
            "val Loss: 0.0933 Acc: 0.9669\n",
            "time:62.42189168930054\n",
            "\n",
            "Epoch 22/24\n",
            "----------\n",
            "train Loss: 0.0717 Acc: 0.9720\n",
            "time:54.004838705062866\n",
            "val Loss: 0.0925 Acc: 0.9639\n",
            "time:62.29209518432617\n",
            "\n",
            "Epoch 23/24\n",
            "----------\n",
            "train Loss: 0.0676 Acc: 0.9740\n",
            "time:54.10160946846008\n",
            "val Loss: 0.0879 Acc: 0.9676\n",
            "time:62.40313649177551\n",
            "\n",
            "Epoch 24/24\n",
            "----------\n",
            "train Loss: 0.0670 Acc: 0.9780\n",
            "time:54.02853727340698\n",
            "val Loss: 0.0872 Acc: 0.9669\n",
            "time:62.27599000930786\n",
            "\n",
            "Training complete in 28m 7s\n",
            "Best val Acc: 0.969072\n"
          ],
          "name": "stdout"
        }
      ]
    },
    {
      "cell_type": "code",
      "metadata": {
        "colab": {
          "base_uri": "https://localhost:8080/",
          "height": 581
        },
        "id": "qkPZsNOdTcGr",
        "outputId": "c4e15a1c-834f-4ca1-9c6f-519bc6559ff0"
      },
      "source": [
        "visualize_model(model_ft)"
      ],
      "execution_count": 26,
      "outputs": [
        {
          "output_type": "display_data",
          "data": {
            "image/png": "[encoded data removed]",
            "text/plain": [
              "<Figure size 432x288 with 1 Axes>"
            ]
          },
          "metadata": {
            "tags": [],
            "needs_background": "light"
          }
        },
        {
          "output_type": "display_data",
          "data": {
            "image/png": "[encoded data removed]",
            "text/plain": [
              "<Figure size 432x288 with 1 Axes>"
            ]
          },
          "metadata": {
            "tags": [],
            "needs_background": "light"
          }
        },
        {
          "output_type": "display_data",
          "data": {
            "image/png": "[encoded data removed]",
            "text/plain": [
              "<Figure size 432x288 with 1 Axes>"
            ]
          },
          "metadata": {
            "tags": [],
            "needs_background": "light"
          }
        },
        {
          "output_type": "display_data",
          "data": {
            "image/png": "[encoded data removed]",
            "text/plain": [
              "<Figure size 432x288 with 1 Axes>"
            ]
          },
          "metadata": {
            "tags": [],
            "needs_background": "light"
          }
        },
        {
          "output_type": "display_data",
          "data": {
            "image/png": "[encoded data removed]",
            "text/plain": [
              "<Figure size 432x288 with 1 Axes>"
            ]
          },
          "metadata": {
            "tags": [],
            "needs_background": "light"
          }
        },
        {
          "output_type": "display_data",
          "data": {
            "image/png": "[encoded data removed]",
            "text/plain": [
              "<Figure size 432x288 with 1 Axes>"
            ]
          },
          "metadata": {
            "tags": [],
            "needs_background": "light"
          }
        }
      ]
    },
    {
      "cell_type": "markdown",
      "metadata": {
        "id": "EQtGkPmiEm3A"
      },
      "source": [
        ""
      ]
    }
  ]
}