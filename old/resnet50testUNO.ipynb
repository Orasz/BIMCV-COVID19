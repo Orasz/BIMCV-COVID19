{
  "nbformat": 4,
  "nbformat_minor": 0,
  "metadata": {
    "colab": {
      "name": "TransferLearningTutorial",
      "provenance": [],
      "include_colab_link": true
    },
    "kernelspec": {
      "name": "python3",
      "display_name": "Python 3"
    },
    "accelerator": "GPU"
  },
  "cells": [
    {
      "cell_type": "markdown",
      "metadata": {
        "id": "view-in-github",
        "colab_type": "text"
      },
      "source": [
        "<a href=\"https://colab.research.google.com/github/Orasz/BIMCV-COVID19/blob/main/resnet50testUNO.ipynb\" target=\"_parent\"><img src=\"https://colab.research.google.com/assets/colab-badge.svg\" alt=\"Open In Colab\"/></a>"
      ]
    },
    {
      "cell_type": "code",
      "metadata": {
        "id": "gkHiyEHmQt1p"
      },
      "source": [
        ""
      ],
      "execution_count": null,
      "outputs": []
    },
    {
      "cell_type": "markdown",
      "metadata": {
        "id": "Y5hCYn_pEoMX"
      },
      "source": [
        "example of Transfer Learning using QaTa-COV19 dataset."
      ]
    },
    {
      "cell_type": "code",
      "metadata": {
        "colab": {
          "base_uri": "https://localhost:8080/"
        },
        "id": "0E5MnR02HH3x",
        "outputId": "039f0026-6bb4-4f4f-f21a-420296e543b6"
      },
      "source": [
        "from google.colab import drive\r\n",
        "drive.mount('/content/gdrive', force_remount=True)\r\n"
      ],
      "execution_count": 1,
      "outputs": [
        {
          "output_type": "stream",
          "text": [
            "Mounted at /content/gdrive\n"
          ],
          "name": "stdout"
        }
      ]
    },
    {
      "cell_type": "code",
      "metadata": {
        "id": "PvVEnw9KtLLV",
        "colab": {
          "base_uri": "https://localhost:8080/"
        },
        "outputId": "82bf8e4c-106d-47ec-e5d6-d41d65626c63"
      },
      "source": [
        "from __future__ import print_function, division\r\n",
        "\r\n",
        "import torch\r\n",
        "import torch.nn as nn\r\n",
        "import torch.optim as optim\r\n",
        "from torch.optim import lr_scheduler\r\n",
        "import numpy as np\r\n",
        "import torchvision\r\n",
        "from torchvision import datasets, models, transforms\r\n",
        "import matplotlib.pyplot as plt\r\n",
        "import time\r\n",
        "import os\r\n",
        "import copy\r\n",
        "\r\n",
        "plt.ion()   # interactive mode\r\n",
        "print(\"done\")"
      ],
      "execution_count": 2,
      "outputs": [
        {
          "output_type": "stream",
          "text": [
            "done\n"
          ],
          "name": "stdout"
        }
      ]
    },
    {
      "cell_type": "code",
      "metadata": {
        "id": "ELnF4WInFS7g",
        "colab": {
          "base_uri": "https://localhost:8080/"
        },
        "outputId": "7cf8271e-2a6b-423a-8e53-fb947ed06e5c"
      },
      "source": [
        "# Data augmentation and normalization for training\n",
        "# Just normalization for validation\n",
        "\n",
        "data_transforms_xray = {\n",
        "    'train': transforms.Compose([\n",
        "        transforms.Resize(256),\n",
        "        transforms.CenterCrop(224),\n",
        "        transforms.ToTensor(),\n",
        "        transforms.Normalize([0.485, 0.456, 0.406], [0.229, 0.224, 0.225])\n",
        "    ]),\n",
        "    'val': transforms.Compose([\n",
        "        transforms.Resize(256),\n",
        "        transforms.CenterCrop(224),\n",
        "        transforms.ToTensor(),\n",
        "        transforms.Normalize([0.485, 0.456, 0.406], [0.229, 0.224, 0.225])\n",
        "    ]),\n",
        "}\n",
        "\n",
        "data_dir = 'gdrive/MyDrive/ResNetCovidTest1/'\n",
        "image_datasets = {x: datasets.ImageFolder(os.path.join(data_dir, x),\n",
        "                                          data_transforms_xray[x])\n",
        "                  for x in ['train', 'val']}\n",
        "#aumenta batch size \n",
        "dataloaders = {x: torch.utils.data.DataLoader(image_datasets[x], batch_size=8,\n",
        "                                             shuffle=True, num_workers=4)\n",
        "              for x in ['train', 'val']}\n",
        "dataset_sizes = {x: len(image_datasets[x]) for x in ['train', 'val']}\n",
        "class_names = image_datasets['train'].classes\n",
        "\n",
        "device = torch.device(\"cuda:0\" if torch.cuda.is_available() else \"cpu\")\n",
        "print(\"using device: {}\".format(device))"
      ],
      "execution_count": 3,
      "outputs": [
        {
          "output_type": "stream",
          "text": [
            "using device: cuda:0\n"
          ],
          "name": "stdout"
        }
      ]
    },
    {
      "cell_type": "code",
      "metadata": {
        "colab": {
          "base_uri": "https://localhost:8080/",
          "height": 106
        },
        "id": "9Uyv-fguJBCX",
        "outputId": "058a5215-0a57-43b6-e01d-3d0c47e4bc87"
      },
      "source": [
        "def imshow(inp, title=None):\r\n",
        "    \"\"\"Imshow for Tensor.\"\"\"\r\n",
        "    inp = inp.numpy().transpose((1, 2, 0))\r\n",
        "    mean = np.array([0.485, 0.456, 0.406])\r\n",
        "    std = np.array([0.229, 0.224, 0.225])\r\n",
        "    inp = std * inp + mean\r\n",
        "    inp = np.clip(inp, 0, 1)\r\n",
        "    plt.imshow(inp)\r\n",
        "    if title is not None:\r\n",
        "        plt.title(title)\r\n",
        "    plt.pause(0.001)  # pause a bit so that plots are updated\r\n",
        "\r\n",
        "\r\n",
        "# Get a batch of training data\r\n",
        "inputs, classes = next(iter(dataloaders['train']))\r\n",
        "\r\n",
        "# Make a grid from batch\r\n",
        "out = torchvision.utils.make_grid(inputs)\r\n",
        "\r\n",
        "imshow(out, title=[class_names[x] for x in classes])"
      ],
      "execution_count": 4,
      "outputs": [
        {
          "output_type": "display_data",
          "data": {
            "image/png": "[encoded data removed]",
            "text/plain": [
              "<Figure size 432x288 with 1 Axes>"
            ]
          },
          "metadata": {
            "tags": [],
            "needs_background": "light"
          }
        }
      ]
    },
    {
      "cell_type": "code",
      "metadata": {
        "id": "HfKmN4woNEZR",
        "colab": {
          "base_uri": "https://localhost:8080/"
        },
        "outputId": "c1c514ff-afba-447f-a9a4-ffb6bc9e62e0"
      },
      "source": [
        "#Custom ResNet50 in order to add dropout regolarization\r\n",
        "class ResNet(nn.Module):\r\n",
        "    def __init__(self, num_classes = 2, classify=True):\r\n",
        "        super(ResNet, self).__init__()\r\n",
        "        self.model = torchvision.models.resnet50(pretrained=True)\r\n",
        "        self.name = 'resnet'\r\n",
        "        expansion = 4\r\n",
        "        self.classify = classify\r\n",
        "        if self.classify:\r\n",
        "            self.classifier = nn.Linear(512 * expansion, num_classes)\r\n",
        "          \r\n",
        "        self.dropout = nn.Dropout(0.2)\r\n",
        "\r\n",
        "    def forward(self, x):\r\n",
        "        x = self.model.conv1(x)\r\n",
        "        x = self.model.bn1(x)\r\n",
        "        x = self.model.relu(x)\r\n",
        "        x = self.model.maxpool(x)\r\n",
        "\r\n",
        "        x = self.model.layer1(x)\r\n",
        "        x = self.model.layer2(x)\r\n",
        "        x = self.model.layer3(x)\r\n",
        "        x = self.model.layer4(x)\r\n",
        "\r\n",
        "        x = self.model.avgpool(x)\r\n",
        "        x = torch.flatten(x, 1)\r\n",
        "\r\n",
        "        if self.classify:\r\n",
        "            x = self.classifier(x)\r\n",
        "        x = self.dropout(x)\r\n",
        "\r\n",
        "        return x\r\n",
        "\r\n",
        "print(\"done\")"
      ],
      "execution_count": 21,
      "outputs": [
        {
          "output_type": "stream",
          "text": [
            "done\n"
          ],
          "name": "stdout"
        }
      ]
    },
    {
      "cell_type": "code",
      "metadata": {
        "id": "KZU4jJ1WJrzT",
        "colab": {
          "base_uri": "https://localhost:8080/"
        },
        "outputId": "a4b2ac68-54fb-4228-bc53-0fa7ab9ccdaa"
      },
      "source": [
        "def train_model(model, criterion, optimizer, scheduler, num_epochs=25):\r\n",
        "    since = time.time()\r\n",
        "\r\n",
        "    best_model_wts = copy.deepcopy(model.state_dict())\r\n",
        "    best_acc = 0.0\r\n",
        "\r\n",
        "    for epoch in range(num_epochs):\r\n",
        "        print('Epoch {}/{}'.format(epoch, num_epochs - 1))\r\n",
        "        print('-' * 10)\r\n",
        "        t1 = time.time()\r\n",
        "\r\n",
        "        # Each epoch has a training and validation phase\r\n",
        "        for phase in ['train', 'val']:\r\n",
        "            if phase == 'train':\r\n",
        "                model.train()  # Set model to training mode\r\n",
        "            else:\r\n",
        "                model.eval()   # Set model to evaluate mode\r\n",
        "\r\n",
        "            running_loss = 0.0\r\n",
        "            running_corrects = 0\r\n",
        "\r\n",
        "            # Iterate over data.\r\n",
        "            for inputs, labels in dataloaders[phase]:\r\n",
        "                inputs = inputs.to(device)\r\n",
        "                labels = labels.to(device)\r\n",
        "\r\n",
        "                # zero the parameter gradients\r\n",
        "                optimizer.zero_grad()\r\n",
        "\r\n",
        "                # forward\r\n",
        "                # track history if only in train\r\n",
        "                with torch.set_grad_enabled(phase == 'train'):\r\n",
        "                    outputs = model(inputs)\r\n",
        "                    _, preds = torch.max(outputs, 1)\r\n",
        "                    loss = criterion(outputs, labels)\r\n",
        "\r\n",
        "                    # backward + optimize only if in training phase\r\n",
        "                    if phase == 'train':\r\n",
        "                        loss.backward()\r\n",
        "                        optimizer.step()\r\n",
        "\r\n",
        "                # statistics\r\n",
        "                running_loss += loss.item() * inputs.size(0)\r\n",
        "                running_corrects += torch.sum(preds == labels.data)\r\n",
        "            if phase == 'train':\r\n",
        "                scheduler.step()\r\n",
        "\r\n",
        "            epoch_loss = running_loss / dataset_sizes[phase]\r\n",
        "            epoch_acc = running_corrects.double() / dataset_sizes[phase]\r\n",
        "\r\n",
        "            print('{} Loss: {:.4f} Acc: {:.4f}'.format(\r\n",
        "                phase, epoch_loss, epoch_acc))\r\n",
        "            t2 = time.time()\r\n",
        "            print('time:{}'.format(t2-t1))\r\n",
        "\r\n",
        "            # deep copy the model\r\n",
        "            if phase == 'val' and epoch_acc > best_acc:\r\n",
        "                best_acc = epoch_acc\r\n",
        "                best_model_wts = copy.deepcopy(model.state_dict())\r\n",
        "\r\n",
        "        print()\r\n",
        "\r\n",
        "    time_elapsed = time.time() - since\r\n",
        "    print('Training complete in {:.0f}m {:.0f}s'.format(\r\n",
        "        time_elapsed // 60, time_elapsed % 60))\r\n",
        "    print('Best val Acc: {:4f}'.format(best_acc))\r\n",
        "\r\n",
        "    # load best model weights\r\n",
        "    model.load_state_dict(best_model_wts)\r\n",
        "    return model\r\n",
        "\r\n",
        "print(\"done\")"
      ],
      "execution_count": 22,
      "outputs": [
        {
          "output_type": "stream",
          "text": [
            "done\n"
          ],
          "name": "stdout"
        }
      ]
    },
    {
      "cell_type": "code",
      "metadata": {
        "id": "vaAsYtVKKbR5",
        "colab": {
          "base_uri": "https://localhost:8080/"
        },
        "outputId": "681a20e5-f031-4950-a672-ba0ee56f92c4"
      },
      "source": [
        "def visualize_model(model, num_images=6):\r\n",
        "    was_training = model.training\r\n",
        "    model.eval()\r\n",
        "    images_so_far = 0\r\n",
        "    fig = plt.figure()\r\n",
        "\r\n",
        "    with torch.no_grad():\r\n",
        "        for i, (inputs, labels) in enumerate(dataloaders['val']):\r\n",
        "            inputs = inputs.to(device)\r\n",
        "            labels = labels.to(device)\r\n",
        "\r\n",
        "            outputs = model(inputs)\r\n",
        "            _, preds = torch.max(outputs, 1)\r\n",
        "\r\n",
        "            for j in range(inputs.size()[0]):\r\n",
        "                images_so_far += 1\r\n",
        "                ax = plt.subplot(num_images//2, 2, images_so_far)\r\n",
        "                ax.axis('off')\r\n",
        "                ax.set_title('predicted: {}'.format(class_names[preds[j]]))\r\n",
        "                imshow(inputs.cpu().data[j])\r\n",
        "\r\n",
        "                if images_so_far == num_images:\r\n",
        "                    model.train(mode=was_training)\r\n",
        "                    return\r\n",
        "        model.train(mode=was_training)\r\n",
        "print(\"done\")"
      ],
      "execution_count": 23,
      "outputs": [
        {
          "output_type": "stream",
          "text": [
            "done\n"
          ],
          "name": "stdout"
        }
      ]
    },
    {
      "cell_type": "code",
      "metadata": {
        "id": "ho7yicXxKzG4",
        "colab": {
          "base_uri": "https://localhost:8080/"
        },
        "outputId": "9ddcbb7b-56a7-4516-c69a-228133647563"
      },
      "source": [
        "#N.B inserisci regolarizzazione/dropout\r\n",
        "model_ft = models.resnet50(pretrained=True)\r\n",
        "num_ftrs = model_ft.fc.in_features\r\n",
        "# Here the size of each output sample is set to 2.\r\n",
        "# Alternatively, it can be generalized to nn.Linear(num_ftrs, len(class_names)).\r\n",
        "#N.B. va aggiunto un dropout layer\r\n",
        "#classifier layer\r\n",
        "model_ft.fc = nn.Linear(num_ftrs, 2)\r\n",
        "dropout_resnet = ResNet()\r\n",
        "dropout_resnet = dropout_resnet.to(device)\r\n",
        "\r\n",
        "model_ft = model_ft.to(device)\r\n",
        "\r\n",
        "criterion = nn.CrossEntropyLoss()\r\n",
        "\r\n",
        "# Observe that all parameters are being optimized\r\n",
        "#lr should be 0.001\r\n",
        "optimizer_ft = optim.SGD(model_ft.parameters(), lr=0.001, momentum=0.9)\r\n",
        "optimizer_adam = optim.Adam(model_ft.parameters(), lr=0.001)\r\n",
        "\r\n",
        "# Decay LR by a factor of 0.1 every 7 epochs\r\n",
        "exp_lr_scheduler = lr_scheduler.StepLR(optimizer_adam, step_size=7, gamma=0.1)\r\n",
        "print(\"done\")"
      ],
      "execution_count": 24,
      "outputs": [
        {
          "output_type": "stream",
          "text": [
            "done\n"
          ],
          "name": "stdout"
        }
      ]
    },
    {
      "cell_type": "code",
      "metadata": {
        "colab": {
          "base_uri": "https://localhost:8080/"
        },
        "id": "7Sb56SZzK67R",
        "outputId": "91475b16-4615-4404-a0f9-c9f026786377"
      },
      "source": [
        "dropout_resnet = train_model(dropout_resnet, criterion, optimizer_adam, exp_lr_scheduler,\r\n",
        "                       num_epochs=50)"
      ],
      "execution_count": 25,
      "outputs": [
        {
          "output_type": "stream",
          "text": [
            "Epoch 0/49\n",
            "----------\n",
            "train Loss: 0.7325 Acc: 0.4332\n",
            "time:44.240078926086426\n",
            "val Loss: 0.7270 Acc: 0.4048\n",
            "time:50.92877554893494\n",
            "\n",
            "Epoch 1/49\n",
            "----------\n",
            "train Loss: 0.7396 Acc: 0.4223\n",
            "time:43.62980508804321\n",
            "val Loss: 0.7286 Acc: 0.3824\n",
            "time:50.36326241493225\n",
            "\n",
            "Epoch 2/49\n",
            "----------\n",
            "train Loss: 0.7390 Acc: 0.4302\n",
            "time:43.76604247093201\n",
            "val Loss: 0.7306 Acc: 0.3808\n",
            "time:50.56657266616821\n",
            "\n",
            "Epoch 3/49\n",
            "----------\n",
            "train Loss: 0.7408 Acc: 0.4302\n",
            "time:43.755321979522705\n",
            "val Loss: 0.7306 Acc: 0.3896\n",
            "time:50.47692131996155\n",
            "\n",
            "Epoch 4/49\n",
            "----------\n",
            "train Loss: 0.7386 Acc: 0.4242\n",
            "time:43.62404704093933\n",
            "val Loss: 0.7317 Acc: 0.3856\n",
            "time:50.34900116920471\n",
            "\n",
            "Epoch 5/49\n",
            "----------\n",
            "train Loss: 0.7367 Acc: 0.4280\n",
            "time:43.76220369338989\n",
            "val Loss: 0.7297 Acc: 0.3808\n",
            "time:50.377118825912476\n",
            "\n",
            "Epoch 6/49\n",
            "----------\n",
            "train Loss: 0.7401 Acc: 0.4201\n",
            "time:43.66766905784607\n",
            "val Loss: 0.7296 Acc: 0.3888\n",
            "time:50.515408515930176\n",
            "\n",
            "Epoch 7/49\n",
            "----------\n",
            "train Loss: 0.7314 Acc: 0.4456\n",
            "time:43.644564628601074\n",
            "val Loss: 0.7275 Acc: 0.3912\n",
            "time:50.27222228050232\n",
            "\n",
            "Epoch 8/49\n",
            "----------\n",
            "train Loss: 0.7383 Acc: 0.4354\n",
            "time:43.7679979801178\n",
            "val Loss: 0.7335 Acc: 0.3728\n",
            "time:50.41969084739685\n",
            "\n",
            "Epoch 9/49\n",
            "----------\n",
            "train Loss: 0.7374 Acc: 0.4283\n",
            "time:43.76172161102295\n",
            "val Loss: 0.7284 Acc: 0.3816\n",
            "time:50.47122001647949\n",
            "\n",
            "Epoch 10/49\n",
            "----------\n",
            "train Loss: 0.7410 Acc: 0.4341\n",
            "time:43.71273112297058\n",
            "val Loss: 0.7286 Acc: 0.3816\n",
            "time:50.54284954071045\n",
            "\n",
            "Epoch 11/49\n",
            "----------\n",
            "train Loss: 0.7420 Acc: 0.4212\n",
            "time:43.73382091522217\n",
            "val Loss: 0.7243 Acc: 0.4072\n",
            "time:50.34083843231201\n",
            "\n",
            "Epoch 12/49\n",
            "----------\n",
            "train Loss: 0.7393 Acc: 0.4288\n",
            "time:43.81184434890747\n",
            "val Loss: 0.7284 Acc: 0.3808\n",
            "time:50.51744294166565\n",
            "\n",
            "Epoch 13/49\n",
            "----------\n",
            "train Loss: 0.7383 Acc: 0.4379\n",
            "time:43.70991659164429\n",
            "val Loss: 0.7291 Acc: 0.3944\n",
            "time:50.488192081451416\n",
            "\n",
            "Epoch 14/49\n",
            "----------\n",
            "train Loss: 0.7367 Acc: 0.4335\n",
            "time:43.72577381134033\n",
            "val Loss: 0.7246 Acc: 0.3920\n",
            "time:50.601075887680054\n",
            "\n",
            "Epoch 15/49\n",
            "----------\n",
            "train Loss: 0.7375 Acc: 0.4291\n",
            "time:43.75158882141113\n",
            "val Loss: 0.7294 Acc: 0.3808\n",
            "time:50.47822904586792\n",
            "\n",
            "Epoch 16/49\n",
            "----------\n",
            "train Loss: 0.7398 Acc: 0.4190\n",
            "time:43.84121489524841\n",
            "val Loss: 0.7294 Acc: 0.3872\n",
            "time:50.58678698539734\n",
            "\n",
            "Epoch 17/49\n",
            "----------\n",
            "train Loss: 0.7377 Acc: 0.4335\n",
            "time:43.66865134239197\n",
            "val Loss: 0.7260 Acc: 0.3992\n",
            "time:50.27595567703247\n",
            "\n",
            "Epoch 18/49\n",
            "----------\n",
            "train Loss: 0.7411 Acc: 0.4261\n",
            "time:43.60465955734253\n",
            "val Loss: 0.7279 Acc: 0.3880\n",
            "time:50.29952073097229\n",
            "\n",
            "Epoch 19/49\n",
            "----------\n",
            "train Loss: 0.7352 Acc: 0.4321\n",
            "time:43.56263184547424\n",
            "val Loss: 0.7293 Acc: 0.3848\n",
            "time:50.144216537475586\n",
            "\n",
            "Epoch 20/49\n",
            "----------\n",
            "train Loss: 0.7373 Acc: 0.4299\n",
            "time:43.688509702682495\n",
            "val Loss: 0.7288 Acc: 0.3808\n",
            "time:50.410852670669556\n",
            "\n",
            "Epoch 21/49\n",
            "----------\n",
            "train Loss: 0.7377 Acc: 0.4313\n",
            "time:43.75536346435547\n",
            "val Loss: 0.7297 Acc: 0.3904\n",
            "time:50.25151872634888\n",
            "\n",
            "Epoch 22/49\n",
            "----------\n",
            "train Loss: 0.7363 Acc: 0.4310\n",
            "time:43.61986303329468\n",
            "val Loss: 0.7262 Acc: 0.4040\n",
            "time:50.23646378517151\n",
            "\n",
            "Epoch 23/49\n",
            "----------\n",
            "train Loss: 0.7419 Acc: 0.4261\n",
            "time:43.6224946975708\n",
            "val Loss: 0.7284 Acc: 0.3928\n",
            "time:50.190345287323\n",
            "\n",
            "Epoch 24/49\n",
            "----------\n",
            "train Loss: 0.7388 Acc: 0.4324\n",
            "time:43.654890060424805\n",
            "val Loss: 0.7311 Acc: 0.3832\n",
            "time:50.411394357681274\n",
            "\n",
            "Epoch 25/49\n",
            "----------\n",
            "train Loss: 0.7365 Acc: 0.4283\n",
            "time:43.77761912345886\n",
            "val Loss: 0.7310 Acc: 0.3840\n",
            "time:50.32813215255737\n",
            "\n",
            "Epoch 26/49\n",
            "----------\n",
            "train Loss: 0.7366 Acc: 0.4264\n",
            "time:43.66053247451782\n",
            "val Loss: 0.7309 Acc: 0.3824\n",
            "time:50.19279885292053\n",
            "\n",
            "Epoch 27/49\n",
            "----------\n",
            "train Loss: 0.7344 Acc: 0.4354\n",
            "time:43.62876605987549\n",
            "val Loss: 0.7258 Acc: 0.3912\n",
            "time:50.347065687179565\n",
            "\n",
            "Epoch 28/49\n",
            "----------\n",
            "train Loss: 0.7374 Acc: 0.4360\n",
            "time:43.63241744041443\n",
            "val Loss: 0.7291 Acc: 0.3896\n",
            "time:50.20499873161316\n",
            "\n",
            "Epoch 29/49\n",
            "----------\n",
            "train Loss: 0.7378 Acc: 0.4250\n",
            "time:43.70626211166382\n",
            "val Loss: 0.7311 Acc: 0.3824\n",
            "time:50.444308280944824\n",
            "\n",
            "Epoch 30/49\n",
            "----------\n",
            "train Loss: 0.7342 Acc: 0.4390\n",
            "time:43.64738416671753\n",
            "val Loss: 0.7305 Acc: 0.3880\n",
            "time:50.185489654541016\n",
            "\n",
            "Epoch 31/49\n",
            "----------\n",
            "train Loss: 0.7389 Acc: 0.4327\n",
            "time:43.653167963027954\n",
            "val Loss: 0.7309 Acc: 0.3896\n",
            "time:50.18653130531311\n",
            "\n",
            "Epoch 32/49\n",
            "----------\n",
            "train Loss: 0.7429 Acc: 0.4209\n",
            "time:43.876644134521484\n",
            "val Loss: 0.7244 Acc: 0.4016\n",
            "time:50.51311016082764\n",
            "\n",
            "Epoch 33/49\n",
            "----------\n",
            "train Loss: 0.7347 Acc: 0.4357\n",
            "time:43.72595810890198\n",
            "val Loss: 0.7286 Acc: 0.3848\n",
            "time:50.415889263153076\n",
            "\n",
            "Epoch 34/49\n",
            "----------\n",
            "train Loss: 0.7375 Acc: 0.4272\n",
            "time:43.60077166557312\n",
            "val Loss: 0.7264 Acc: 0.3936\n",
            "time:50.145883560180664\n",
            "\n",
            "Epoch 35/49\n",
            "----------\n",
            "train Loss: 0.7333 Acc: 0.4324\n",
            "time:43.71863508224487\n",
            "val Loss: 0.7316 Acc: 0.3760\n",
            "time:50.3605101108551\n",
            "\n",
            "Epoch 36/49\n",
            "----------\n",
            "train Loss: 0.7399 Acc: 0.4349\n",
            "time:43.727219104766846\n",
            "val Loss: 0.7288 Acc: 0.3856\n",
            "time:50.44524574279785\n",
            "\n",
            "Epoch 37/49\n",
            "----------\n",
            "train Loss: 0.7342 Acc: 0.4324\n",
            "time:43.60214877128601\n",
            "val Loss: 0.7280 Acc: 0.3944\n",
            "time:50.19575238227844\n",
            "\n",
            "Epoch 38/49\n",
            "----------\n",
            "train Loss: 0.7390 Acc: 0.4291\n",
            "time:43.648457288742065\n",
            "val Loss: 0.7298 Acc: 0.3912\n",
            "time:50.29086685180664\n",
            "\n",
            "Epoch 39/49\n",
            "----------\n",
            "train Loss: 0.7397 Acc: 0.4299\n",
            "time:43.653756856918335\n",
            "val Loss: 0.7271 Acc: 0.3880\n",
            "time:50.2247200012207\n",
            "\n",
            "Epoch 40/49\n",
            "----------\n",
            "train Loss: 0.7402 Acc: 0.4236\n",
            "time:43.67056727409363\n",
            "val Loss: 0.7280 Acc: 0.3896\n",
            "time:50.091429233551025\n",
            "\n",
            "Epoch 41/49\n",
            "----------\n",
            "train Loss: 0.7374 Acc: 0.4286\n",
            "time:43.732566118240356\n",
            "val Loss: 0.7251 Acc: 0.3976\n",
            "time:50.204442501068115\n",
            "\n",
            "Epoch 42/49\n",
            "----------\n",
            "train Loss: 0.7392 Acc: 0.4291\n",
            "time:43.639947175979614\n",
            "val Loss: 0.7295 Acc: 0.3880\n",
            "time:50.26128816604614\n",
            "\n",
            "Epoch 43/49\n",
            "----------\n",
            "train Loss: 0.7354 Acc: 0.4305\n",
            "time:43.58991003036499\n",
            "val Loss: 0.7265 Acc: 0.4032\n",
            "time:50.20642042160034\n",
            "\n",
            "Epoch 44/49\n",
            "----------\n",
            "train Loss: 0.7365 Acc: 0.4283\n",
            "time:43.6692898273468\n",
            "val Loss: 0.7288 Acc: 0.3816\n",
            "time:50.072166204452515\n",
            "\n",
            "Epoch 45/49\n",
            "----------\n",
            "train Loss: 0.7386 Acc: 0.4250\n",
            "time:43.599894285202026\n",
            "val Loss: 0.7267 Acc: 0.4016\n",
            "time:49.979087352752686\n",
            "\n",
            "Epoch 46/49\n",
            "----------\n",
            "train Loss: 0.7393 Acc: 0.4324\n",
            "time:43.70960330963135\n",
            "val Loss: 0.7341 Acc: 0.3720\n",
            "time:50.16758584976196\n",
            "\n",
            "Epoch 47/49\n",
            "----------\n",
            "train Loss: 0.7358 Acc: 0.4286\n",
            "time:43.54019808769226\n",
            "val Loss: 0.7296 Acc: 0.3784\n",
            "time:50.14130783081055\n",
            "\n",
            "Epoch 48/49\n",
            "----------\n",
            "train Loss: 0.7369 Acc: 0.4313\n",
            "time:43.68281674385071\n",
            "val Loss: 0.7282 Acc: 0.3840\n",
            "time:50.292895793914795\n",
            "\n",
            "Epoch 49/49\n",
            "----------\n",
            "train Loss: 0.7397 Acc: 0.4225\n",
            "time:43.64575529098511\n",
            "val Loss: 0.7245 Acc: 0.4064\n",
            "time:50.11781620979309\n",
            "\n",
            "Training complete in 41m 57s\n",
            "Best val Acc: 0.407200\n"
          ],
          "name": "stdout"
        }
      ]
    },
    {
      "cell_type": "code",
      "metadata": {
        "colab": {
          "base_uri": "https://localhost:8080/",
          "height": 581
        },
        "id": "qkPZsNOdTcGr",
        "outputId": "89c7168c-a1e6-4340-d376-a0abdd0fa148"
      },
      "source": [
        "visualize_model(model_ft)"
      ],
      "execution_count": null,
      "outputs": [
        {
          "output_type": "display_data",
          "data": {
            "image/png": "[encoded data removed]",
            "text/plain": [
              "<Figure size 432x288 with 1 Axes>"
            ]
          },
          "metadata": {
            "tags": [],
            "needs_background": "light"
          }
        },
        {
          "output_type": "display_data",
          "data": {
            "image/png": "[encoded data removed]",
            "text/plain": [
              "<Figure size 432x288 with 1 Axes>"
            ]
          },
          "metadata": {
            "tags": [],
            "needs_background": "light"
          }
        },
        {
          "output_type": "display_data",
          "data": {
            "image/png": "[encoded data removed]",
            "text/plain": [
              "<Figure size 432x288 with 1 Axes>"
            ]
          },
          "metadata": {
            "tags": [],
            "needs_background": "light"
          }
        },
        {
          "output_type": "display_data",
          "data": {
            "image/png": "[encoded data removed]",
            "text/plain": [
              "<Figure size 432x288 with 1 Axes>"
            ]
          },
          "metadata": {
            "tags": [],
            "needs_background": "light"
          }
        },
        {
          "output_type": "display_data",
          "data": {
            "image/png": "[encoded data removed]",
            "text/plain": [
              "<Figure size 432x288 with 1 Axes>"
            ]
          },
          "metadata": {
            "tags": [],
            "needs_background": "light"
          }
        },
        {
          "output_type": "display_data",
          "data": {
            "image/png": "[encoded data removed]",
            "text/plain": [
              "<Figure size 432x288 with 1 Axes>"
            ]
          },
          "metadata": {
            "tags": [],
            "needs_background": "light"
          }
        }
      ]
    },
    {
      "cell_type": "markdown",
      "metadata": {
        "id": "EQtGkPmiEm3A"
      },
      "source": [
        ""
      ]
    }
  ]
}