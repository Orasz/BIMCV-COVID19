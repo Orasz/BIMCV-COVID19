{
  "nbformat": 4,
  "nbformat_minor": 0,
  "metadata": {
    "colab": {
      "name": "TransferLearningTutorial",
      "provenance": [],
      "include_colab_link": true
    },
    "kernelspec": {
      "name": "python3",
      "display_name": "Python 3"
    },
    "accelerator": "GPU"
  },
  "cells": [
    {
      "cell_type": "markdown",
      "metadata": {
        "id": "view-in-github",
        "colab_type": "text"
      },
      "source": [
        "<a href=\"https://colab.research.google.com/github/Orasz/BIMCV-COVID19/blob/main/resnet50CustomFCLFullDatasetCG1.ipynb\" target=\"_parent\"><img src=\"https://colab.research.google.com/assets/colab-badge.svg\" alt=\"Open In Colab\"/></a>"
      ]
    },
    {
      "cell_type": "markdown",
      "metadata": {
        "id": "Y5hCYn_pEoMX"
      },
      "source": [
        "example of Transfer Learning using QaTa-COV19 dataset."
      ]
    },
    {
      "cell_type": "code",
      "metadata": {
        "colab": {
          "base_uri": "https://localhost:8080/"
        },
        "id": "0E5MnR02HH3x",
        "outputId": "896ebb6b-7df1-4156-897f-b42ba2164ba7"
      },
      "source": [
        "from google.colab import drive\r\n",
        "drive.mount('/content/gdrive', force_remount=True)\r\n"
      ],
      "execution_count": 1,
      "outputs": [
        {
          "output_type": "stream",
          "text": [
            "Mounted at /content/gdrive\n"
          ],
          "name": "stdout"
        }
      ]
    },
    {
      "cell_type": "code",
      "metadata": {
        "id": "PvVEnw9KtLLV",
        "colab": {
          "base_uri": "https://localhost:8080/"
        },
        "outputId": "8b54f90e-e075-476f-a1f0-1ccd3bde6b34"
      },
      "source": [
        "from __future__ import print_function, division\r\n",
        "\r\n",
        "import torch\r\n",
        "import torch.nn as nn\r\n",
        "import torch.optim as optim\r\n",
        "from torch.optim import lr_scheduler\r\n",
        "import numpy as np\r\n",
        "import torchvision\r\n",
        "from torchvision import datasets, models, transforms\r\n",
        "import matplotlib.pyplot as plt\r\n",
        "import time\r\n",
        "import os\r\n",
        "import copy\r\n",
        "\r\n",
        "plt.ion()   # interactive mode\r\n",
        "print(\"done\")"
      ],
      "execution_count": 2,
      "outputs": [
        {
          "output_type": "stream",
          "text": [
            "done\n"
          ],
          "name": "stdout"
        }
      ]
    },
    {
      "cell_type": "code",
      "metadata": {
        "id": "ELnF4WInFS7g",
        "colab": {
          "base_uri": "https://localhost:8080/"
        },
        "outputId": "2b3aeb03-62e7-4567-c036-4b6a5c13b934"
      },
      "source": [
        "# Data augmentation and normalization for training\n",
        "# Just normalization for validation\n",
        "\n",
        "data_transforms_xray = {\n",
        "    'train': transforms.Compose([\n",
        "        transforms.Resize(256),\n",
        "        transforms.CenterCrop(224),\n",
        "        transforms.ToTensor(),\n",
        "        transforms.Normalize([0.485, 0.456, 0.406], [0.229, 0.224, 0.225])\n",
        "    ]),\n",
        "    'val': transforms.Compose([\n",
        "        transforms.Resize(256),\n",
        "        transforms.CenterCrop(224),\n",
        "        transforms.ToTensor(),\n",
        "        transforms.Normalize([0.485, 0.456, 0.406], [0.229, 0.224, 0.225])\n",
        "    ]),\n",
        "}\n",
        "\n",
        "data_dir = 'gdrive/MyDrive/datasetQaTa/'\n",
        "image_datasets = {x: datasets.ImageFolder(os.path.join(data_dir, x),\n",
        "                                          data_transforms_xray[x])\n",
        "                  for x in ['train', 'val']}\n",
        "#aumenta batch size \n",
        "dataloaders = {x: torch.utils.data.DataLoader(image_datasets[x], batch_size=64,\n",
        "                                             shuffle=True, num_workers=4)\n",
        "              for x in ['train', 'val']}\n",
        "dataset_sizes = {x: len(image_datasets[x]) for x in ['train', 'val']}\n",
        "class_names = image_datasets['train'].classes\n",
        "\n",
        "device = torch.device(\"cuda:0\" if torch.cuda.is_available() else \"cpu\")\n",
        "print(\"using device: {}\".format(device))"
      ],
      "execution_count": 11,
      "outputs": [
        {
          "output_type": "stream",
          "text": [
            "using device: cuda:0\n"
          ],
          "name": "stdout"
        }
      ]
    },
    {
      "cell_type": "code",
      "metadata": {
        "colab": {
          "base_uri": "https://localhost:8080/",
          "height": 106
        },
        "id": "9Uyv-fguJBCX",
        "outputId": "38e71cb0-d815-4bb6-e21a-7ecda2d7e8df"
      },
      "source": [
        "def imshow(inp, title=None):\r\n",
        "    \"\"\"Imshow for Tensor.\"\"\"\r\n",
        "    inp = inp.numpy().transpose((1, 2, 0))\r\n",
        "    mean = np.array([0.485, 0.456, 0.406])\r\n",
        "    std = np.array([0.229, 0.224, 0.225])\r\n",
        "    inp = std * inp + mean\r\n",
        "    inp = np.clip(inp, 0, 1)\r\n",
        "    plt.imshow(inp)\r\n",
        "    if title is not None:\r\n",
        "        plt.title(title)\r\n",
        "    plt.pause(0.001)  # pause a bit so that plots are updated\r\n",
        "\r\n",
        "\r\n",
        "# Get a batch of training data\r\n",
        "inputs, classes = next(iter(dataloaders['train']))\r\n",
        "\r\n",
        "# Make a grid from batch\r\n",
        "out = torchvision.utils.make_grid(inputs)\r\n",
        "\r\n",
        "imshow(out, title=[class_names[x] for x in classes])"
      ],
      "execution_count": 6,
      "outputs": [
        {
          "output_type": "display_data",
          "data": {
            "image/png": "[encoded data removed]",
            "text/plain": [
              "<Figure size 432x288 with 1 Axes>"
            ]
          },
          "metadata": {
            "tags": [],
            "needs_background": "light"
          }
        }
      ]
    },
    {
      "cell_type": "code",
      "metadata": {
        "id": "HfKmN4woNEZR",
        "colab": {
          "base_uri": "https://localhost:8080/"
        },
        "outputId": "3ac69847-2d66-49a1-9848-fdf3fe1730ad"
      },
      "source": [
        ""
      ],
      "execution_count": null,
      "outputs": [
        {
          "output_type": "stream",
          "text": [
            "done\n"
          ],
          "name": "stdout"
        }
      ]
    },
    {
      "cell_type": "code",
      "metadata": {
        "id": "KZU4jJ1WJrzT",
        "colab": {
          "base_uri": "https://localhost:8080/"
        },
        "outputId": "72a4cd20-7b9e-4961-9114-d7e78f919c2f"
      },
      "source": [
        "def train_model(model, criterion, optimizer, scheduler, num_epochs=25):\r\n",
        "    since = time.time()\r\n",
        "\r\n",
        "    best_model_wts = copy.deepcopy(model.state_dict())\r\n",
        "    best_acc = 0.0\r\n",
        "\r\n",
        "    for epoch in range(num_epochs):\r\n",
        "        print('Epoch {}/{}'.format(epoch, num_epochs - 1))\r\n",
        "        print('-' * 10)\r\n",
        "        t1 = time.time()\r\n",
        "\r\n",
        "        # Each epoch has a training and validation phase\r\n",
        "        for phase in ['train', 'val']:\r\n",
        "            if phase == 'train':\r\n",
        "                model.train()  # Set model to training mode\r\n",
        "            else:\r\n",
        "                model.eval()   # Set model to evaluate mode\r\n",
        "\r\n",
        "            running_loss = 0.0\r\n",
        "            running_corrects = 0\r\n",
        "\r\n",
        "            # Iterate over data.\r\n",
        "            for inputs, labels in dataloaders[phase]:\r\n",
        "                inputs = inputs.to(device)\r\n",
        "                labels = labels.to(device)\r\n",
        "\r\n",
        "                # zero the parameter gradients\r\n",
        "                optimizer.zero_grad()\r\n",
        "\r\n",
        "                # forward\r\n",
        "                # track history if only in train\r\n",
        "                with torch.set_grad_enabled(phase == 'train'):\r\n",
        "                    outputs = model(inputs)\r\n",
        "                    _, preds = torch.max(outputs, 1)\r\n",
        "                    loss = criterion(outputs, labels)\r\n",
        "\r\n",
        "                    # backward + optimize only if in training phase\r\n",
        "                    if phase == 'train':\r\n",
        "                        loss.backward()\r\n",
        "                        optimizer.step()\r\n",
        "\r\n",
        "                # statistics\r\n",
        "                running_loss += loss.item() * inputs.size(0)\r\n",
        "                running_corrects += torch.sum(preds == labels.data)\r\n",
        "            if phase == 'train':\r\n",
        "                scheduler.step()\r\n",
        "\r\n",
        "            epoch_loss = running_loss / dataset_sizes[phase]\r\n",
        "            epoch_acc = running_corrects.double() / dataset_sizes[phase]\r\n",
        "\r\n",
        "            print('{} Loss: {:.4f} Acc: {:.4f}'.format(\r\n",
        "                phase, epoch_loss, epoch_acc))\r\n",
        "            t2 = time.time()\r\n",
        "            print('time:{}'.format(t2-t1))\r\n",
        "\r\n",
        "            # deep copy the model\r\n",
        "            if phase == 'val' and epoch_acc > best_acc:\r\n",
        "                best_acc = epoch_acc\r\n",
        "                best_model_wts = copy.deepcopy(model.state_dict())\r\n",
        "\r\n",
        "        print()\r\n",
        "\r\n",
        "    time_elapsed = time.time() - since\r\n",
        "    print('Training complete in {:.0f}m {:.0f}s'.format(\r\n",
        "        time_elapsed // 60, time_elapsed % 60))\r\n",
        "    print('Best val Acc: {:4f}'.format(best_acc))\r\n",
        "\r\n",
        "    # load best model weights\r\n",
        "    model.load_state_dict(best_model_wts)\r\n",
        "    return model\r\n",
        "\r\n",
        "print(\"done\")"
      ],
      "execution_count": 7,
      "outputs": [
        {
          "output_type": "stream",
          "text": [
            "done\n"
          ],
          "name": "stdout"
        }
      ]
    },
    {
      "cell_type": "code",
      "metadata": {
        "id": "vaAsYtVKKbR5",
        "colab": {
          "base_uri": "https://localhost:8080/"
        },
        "outputId": "e38fdf67-22ce-4156-e559-dc2b562385e4"
      },
      "source": [
        "def visualize_model(model, num_images=6):\r\n",
        "    was_training = model.training\r\n",
        "    model.eval()\r\n",
        "    images_so_far = 0\r\n",
        "    fig = plt.figure()\r\n",
        "\r\n",
        "    with torch.no_grad():\r\n",
        "        for i, (inputs, labels) in enumerate(dataloaders['val']):\r\n",
        "            inputs = inputs.to(device)\r\n",
        "            labels = labels.to(device)\r\n",
        "\r\n",
        "            outputs = model(inputs)\r\n",
        "            _, preds = torch.max(outputs, 1)\r\n",
        "\r\n",
        "            for j in range(inputs.size()[0]):\r\n",
        "                images_so_far += 1\r\n",
        "                ax = plt.subplot(num_images//2, 2, images_so_far)\r\n",
        "                ax.axis('off')\r\n",
        "                ax.set_title('predicted: {}'.format(class_names[preds[j]]))\r\n",
        "                imshow(inputs.cpu().data[j])\r\n",
        "\r\n",
        "                if images_so_far == num_images:\r\n",
        "                    model.train(mode=was_training)\r\n",
        "                    return\r\n",
        "        model.train(mode=was_training)\r\n",
        "print(\"done\")"
      ],
      "execution_count": 8,
      "outputs": [
        {
          "output_type": "stream",
          "text": [
            "done\n"
          ],
          "name": "stdout"
        }
      ]
    },
    {
      "cell_type": "code",
      "metadata": {
        "id": "ho7yicXxKzG4",
        "colab": {
          "base_uri": "https://localhost:8080/"
        },
        "outputId": "3fbe872c-c553-4858-d70d-2c1f039b3292"
      },
      "source": [
        "#N.B inserisci regolarizzazione/dropout\r\n",
        "model_ft = models.resnet50(pretrained=True)\r\n",
        "num_ftrs = model_ft.fc.in_features\r\n",
        "print(model_ft.fc)\r\n",
        "print(num_ftrs)\r\n",
        "#Here the size of each output sample is set to 2.\r\n",
        "#and Dropout is added \r\n",
        "#classifier layer\r\n",
        "model_ft.fc = nn.Sequential(\r\n",
        "    nn.Dropout(0.1),\r\n",
        "    nn.Linear(num_ftrs, 1024),\r\n",
        "    nn.Dropout(0.1),\r\n",
        "    nn.Linear(1024, 512),\r\n",
        "    nn.Dropout(0.1),\r\n",
        "    nn.Linear(512,2)\r\n",
        ")\r\n",
        "print(\"Fully connected layer after optimization:\")\r\n",
        "print(model_ft.fc)\r\n",
        "model_ft = model_ft.to(device)\r\n",
        "\r\n",
        "criterion = nn.CrossEntropyLoss()\r\n",
        "\r\n",
        "# Observe that all parameters are being optimized\r\n",
        "#lr should be 0.001\r\n",
        "optimizer_ft = optim.SGD(model_ft.parameters(), lr=0.000001, momentum=0.9)\r\n",
        "optimizer_adam = optim.Adam(model_ft.parameters(), lr=0.001)\r\n",
        "\r\n",
        "# Decay LR by a factor of 0.1 every 7 epochs\r\n",
        "exp_lr_scheduler = lr_scheduler.StepLR(optimizer_adam, step_size=7, gamma=0.1)\r\n",
        "print(\"done\")"
      ],
      "execution_count": 15,
      "outputs": [
        {
          "output_type": "stream",
          "text": [
            "Linear(in_features=2048, out_features=1000, bias=True)\n",
            "2048\n",
            "Fully connected layer after optimization:\n",
            "Sequential(\n",
            "  (0): Dropout(p=0.1, inplace=False)\n",
            "  (1): Linear(in_features=2048, out_features=1024, bias=True)\n",
            "  (2): Dropout(p=0.1, inplace=False)\n",
            "  (3): Linear(in_features=1024, out_features=512, bias=True)\n",
            "  (4): Dropout(p=0.1, inplace=False)\n",
            "  (5): Linear(in_features=512, out_features=2, bias=True)\n",
            ")\n",
            "done\n"
          ],
          "name": "stdout"
        }
      ]
    },
    {
      "cell_type": "code",
      "metadata": {
        "colab": {
          "base_uri": "https://localhost:8080/"
        },
        "id": "7Sb56SZzK67R",
        "outputId": "2eaf1d70-d91f-4eba-b994-38b2e16ece1b"
      },
      "source": [
        "model_ft = train_model(model_ft, criterion, optimizer_adam, exp_lr_scheduler,\r\n",
        "                       num_epochs=25)"
      ],
      "execution_count": 16,
      "outputs": [
        {
          "output_type": "stream",
          "text": [
            "Epoch 0/24\n",
            "----------\n",
            "train Loss: 0.3513 Acc: 0.8807\n",
            "time:80.11651110649109\n",
            "val Loss: 0.2704 Acc: 0.8953\n",
            "time:89.80837225914001\n",
            "\n",
            "Epoch 1/24\n",
            "----------\n",
            "train Loss: 0.1215 Acc: 0.9559\n",
            "time:79.59330725669861\n",
            "val Loss: 0.2703 Acc: 0.8894\n",
            "time:89.27166247367859\n",
            "\n",
            "Epoch 2/24\n",
            "----------\n",
            "train Loss: 0.0838 Acc: 0.9673\n",
            "time:79.56676578521729\n",
            "val Loss: 0.5717 Acc: 0.8259\n",
            "time:89.40931940078735\n",
            "\n",
            "Epoch 3/24\n",
            "----------\n",
            "train Loss: 0.0677 Acc: 0.9760\n",
            "time:79.23417830467224\n",
            "val Loss: 0.6780 Acc: 0.7793\n",
            "time:89.13567566871643\n",
            "\n",
            "Epoch 4/24\n",
            "----------\n",
            "train Loss: 0.0647 Acc: 0.9774\n",
            "time:79.33816838264465\n",
            "val Loss: 1.3773 Acc: 0.6323\n",
            "time:89.06577372550964\n",
            "\n",
            "Epoch 5/24\n",
            "----------\n",
            "train Loss: 0.0656 Acc: 0.9752\n",
            "time:79.25753045082092\n",
            "val Loss: 0.2519 Acc: 0.9138\n",
            "time:89.1246325969696\n",
            "\n",
            "Epoch 6/24\n",
            "----------\n",
            "train Loss: 0.0440 Acc: 0.9849\n",
            "time:78.9747109413147\n",
            "val Loss: 0.1908 Acc: 0.9376\n",
            "time:88.69938325881958\n",
            "\n",
            "Epoch 7/24\n",
            "----------\n",
            "train Loss: 0.0167 Acc: 0.9938\n",
            "time:79.27881646156311\n",
            "val Loss: 0.0202 Acc: 0.9919\n",
            "time:89.06189918518066\n",
            "\n",
            "Epoch 8/24\n",
            "----------\n",
            "train Loss: 0.0088 Acc: 0.9962\n",
            "time:79.28214693069458\n",
            "val Loss: 0.0308 Acc: 0.9881\n",
            "time:89.21738505363464\n",
            "\n",
            "Epoch 9/24\n",
            "----------\n",
            "train Loss: 0.0053 Acc: 0.9981\n",
            "time:79.41777038574219\n",
            "val Loss: 0.0315 Acc: 0.9881\n",
            "time:89.05996656417847\n",
            "\n",
            "Epoch 10/24\n",
            "----------\n",
            "train Loss: 0.0037 Acc: 0.9992\n",
            "time:79.19191336631775\n",
            "val Loss: 0.0254 Acc: 0.9908\n",
            "time:89.14378833770752\n",
            "\n",
            "Epoch 11/24\n",
            "----------\n",
            "train Loss: 0.0035 Acc: 0.9986\n",
            "time:79.41396594047546\n",
            "val Loss: 0.0147 Acc: 0.9946\n",
            "time:89.2554759979248\n",
            "\n",
            "Epoch 12/24\n",
            "----------\n",
            "train Loss: 0.0016 Acc: 0.9996\n",
            "time:79.4922742843628\n",
            "val Loss: 0.0171 Acc: 0.9967\n",
            "time:89.46682095527649\n",
            "\n",
            "Epoch 13/24\n",
            "----------\n",
            "train Loss: 0.0008 Acc: 0.9997\n",
            "time:79.48021483421326\n",
            "val Loss: 0.0173 Acc: 0.9940\n",
            "time:89.384605884552\n",
            "\n",
            "Epoch 14/24\n",
            "----------\n",
            "train Loss: 0.0009 Acc: 0.9997\n",
            "time:79.53041934967041\n",
            "val Loss: 0.0166 Acc: 0.9957\n",
            "time:89.21981525421143\n",
            "\n",
            "Epoch 15/24\n",
            "----------\n",
            "train Loss: 0.0009 Acc: 0.9996\n",
            "time:79.34406924247742\n",
            "val Loss: 0.0163 Acc: 0.9957\n",
            "time:89.04521918296814\n",
            "\n",
            "Epoch 16/24\n",
            "----------\n",
            "train Loss: 0.0021 Acc: 0.9992\n",
            "time:79.42138075828552\n",
            "val Loss: 0.0170 Acc: 0.9962\n",
            "time:89.16169834136963\n",
            "\n",
            "Epoch 17/24\n",
            "----------\n",
            "train Loss: 0.0039 Acc: 0.9997\n",
            "time:79.37201189994812\n",
            "val Loss: 0.0215 Acc: 0.9940\n",
            "time:89.0324375629425\n",
            "\n",
            "Epoch 18/24\n",
            "----------\n",
            "train Loss: 0.0019 Acc: 0.9996\n",
            "time:79.66335082054138\n",
            "val Loss: 0.0156 Acc: 0.9946\n",
            "time:89.36642265319824\n",
            "\n",
            "Epoch 19/24\n",
            "----------\n",
            "train Loss: 0.0006 Acc: 1.0000\n",
            "time:79.5942714214325\n",
            "val Loss: 0.0152 Acc: 0.9951\n",
            "time:89.74065375328064\n",
            "\n",
            "Epoch 20/24\n",
            "----------\n",
            "train Loss: 0.0021 Acc: 0.9995\n",
            "time:79.37752628326416\n",
            "val Loss: 0.0152 Acc: 0.9946\n",
            "time:89.26679229736328\n",
            "\n",
            "Epoch 21/24\n",
            "----------\n",
            "train Loss: 0.0010 Acc: 0.9997\n",
            "time:79.40935635566711\n",
            "val Loss: 0.0153 Acc: 0.9967\n",
            "time:89.30658864974976\n",
            "\n",
            "Epoch 22/24\n",
            "----------\n",
            "train Loss: 0.0013 Acc: 0.9996\n",
            "time:79.5364420413971\n",
            "val Loss: 0.0154 Acc: 0.9967\n",
            "time:89.32146286964417\n",
            "\n",
            "Epoch 23/24\n",
            "----------\n",
            "train Loss: 0.0005 Acc: 1.0000\n",
            "time:79.53187298774719\n",
            "val Loss: 0.0157 Acc: 0.9962\n",
            "time:89.36495900154114\n",
            "\n",
            "Epoch 24/24\n",
            "----------\n",
            "train Loss: 0.0012 Acc: 0.9996\n",
            "time:79.42241048812866\n",
            "val Loss: 0.0158 Acc: 0.9946\n",
            "time:89.25058937072754\n",
            "\n",
            "Training complete in 37m 11s\n",
            "Best val Acc: 0.996746\n"
          ],
          "name": "stdout"
        }
      ]
    },
    {
      "cell_type": "code",
      "metadata": {
        "colab": {
          "base_uri": "https://localhost:8080/",
          "height": 581
        },
        "id": "qkPZsNOdTcGr",
        "outputId": "6f3aa967-25e2-4c3d-8021-b76ccfddab82"
      },
      "source": [
        "visualize_model(model_ft)"
      ],
      "execution_count": null,
      "outputs": [
        {
          "output_type": "display_data",
          "data": {
            "image/png": "[encoded data removed]",
            "text/plain": [
              "<Figure size 432x288 with 1 Axes>"
            ]
          },
          "metadata": {
            "tags": [],
            "needs_background": "light"
          }
        },
        {
          "output_type": "display_data",
          "data": {
            "image/png": "[encoded data removed]",
            "text/plain": [
              "<Figure size 432x288 with 1 Axes>"
            ]
          },
          "metadata": {
            "tags": [],
            "needs_background": "light"
          }
        },
        {
          "output_type": "display_data",
          "data": {
            "image/png": "[encoded data removed]",
            "text/plain": [
              "<Figure size 432x288 with 1 Axes>"
            ]
          },
          "metadata": {
            "tags": [],
            "needs_background": "light"
          }
        },
        {
          "output_type": "display_data",
          "data": {
            "image/png": "[encoded data removed]",
            "text/plain": [
              "<Figure size 432x288 with 1 Axes>"
            ]
          },
          "metadata": {
            "tags": [],
            "needs_background": "light"
          }
        },
        {
          "output_type": "display_data",
          "data": {
            "image/png": "[encoded data removed]",
            "text/plain": [
              "<Figure size 432x288 with 1 Axes>"
            ]
          },
          "metadata": {
            "tags": [],
            "needs_background": "light"
          }
        },
        {
          "output_type": "display_data",
          "data": {
            "image/png": "[encoded data removed]",
            "text/plain": [
              "<Figure size 432x288 with 1 Axes>"
            ]
          },
          "metadata": {
            "tags": [],
            "needs_background": "light"
          }
        }
      ]
    },
    {
      "cell_type": "markdown",
      "metadata": {
        "id": "EQtGkPmiEm3A"
      },
      "source": [
        ""
      ]
    }
  ]
}